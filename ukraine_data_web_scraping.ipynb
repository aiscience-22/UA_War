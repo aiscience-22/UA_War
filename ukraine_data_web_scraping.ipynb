{
 "cells": [
  {
   "cell_type": "code",
   "execution_count": 60,
   "id": "2d68ae9c",
   "metadata": {},
   "outputs": [],
   "source": [
    "# Import scraping tools \n",
    "from splinter import Browser\n",
    "from bs4 import BeautifulSoup as soup\n",
    "from webdriver_manager.chrome import ChromeDriverManager\n",
    "import pandas as pd"
   ]
  },
  {
   "cell_type": "code",
   "execution_count": 61,
   "id": "cb3bfc14",
   "metadata": {},
   "outputs": [
    {
     "name": "stdout",
     "output_type": "stream",
     "text": [
      "\n"
     ]
    },
    {
     "name": "stderr",
     "output_type": "stream",
     "text": [
      "[WDM] - ====== WebDriver manager ======\n",
      "INFO:WDM:====== WebDriver manager ======\n",
      "[WDM] - Current google-chrome version is 104.0.5112\n",
      "INFO:WDM:Current google-chrome version is 104.0.5112\n",
      "[WDM] - Get LATEST chromedriver version for 104.0.5112 google-chrome\n",
      "INFO:WDM:Get LATEST chromedriver version for 104.0.5112 google-chrome\n",
      "[WDM] - Driver [/Users/veronicalobkina/.wdm/drivers/chromedriver/mac64/104.0.5112.79/chromedriver] found in cache\n",
      "INFO:WDM:Driver [/Users/veronicalobkina/.wdm/drivers/chromedriver/mac64/104.0.5112.79/chromedriver] found in cache\n"
     ]
    }
   ],
   "source": [
    "# Set up Splinter\n",
    "executable_path = {'executable_path': ChromeDriverManager().install()}\n",
    "browser = Browser('chrome', **executable_path, headless=False)"
   ]
  },
  {
   "cell_type": "code",
   "execution_count": 62,
   "id": "00b70fc3",
   "metadata": {},
   "outputs": [],
   "source": [
    "# Visit the QData for the Ukraine Data Explorer site\n",
    "url = 'https://data.humdata.org/dataset/ukraine-data-explorer-inputs'\n",
    "browser.visit(url)"
   ]
  },
  {
   "cell_type": "code",
   "execution_count": 63,
   "id": "edfd9d16",
   "metadata": {},
   "outputs": [],
   "source": [
    "# Parse the HTML\n",
    "html = browser.html\n",
    "html_soup = soup(html, 'html.parser')\n",
    "slide_elem = html_soup.select_one('div.list_text')"
   ]
  },
  {
   "cell_type": "code",
   "execution_count": 64,
   "id": "75f1d19b",
   "metadata": {},
   "outputs": [
    {
     "data": {
      "text/plain": [
       "'Downloads'"
      ]
     },
     "execution_count": 64,
     "metadata": {},
     "output_type": "execute_result"
    }
   ],
   "source": [
    "# Scrape the Graph Title\n",
    "graph_title = html_soup.find('h2').text\n",
    "graph_title"
   ]
  },
  {
   "cell_type": "code",
   "execution_count": 65,
   "id": "a2ff2d25",
   "metadata": {},
   "outputs": [],
   "source": [
    "# Scrape the Graph \n",
    "html_soup.find('div', class_='dataset-downloads-chart')\n",
    "\n",
    "# Close banner that pop-ups -- couldn't get this to work \n",
    "# banner_close = browser.find_by_tag('i')[4]"
   ]
  },
  {
   "cell_type": "code",
   "execution_count": 66,
   "id": "d7100db1",
   "metadata": {
    "scrolled": true
   },
   "outputs": [
    {
     "ename": "ElementNotInteractableException",
     "evalue": "Message: element not interactable\n  (Session info: chrome=104.0.5112.101)\nStacktrace:\n0   chromedriver                        0x0000000104f8d149 chromedriver + 4469065\n1   chromedriver                        0x0000000104f17233 chromedriver + 3985971\n2   chromedriver                        0x0000000104badeab chromedriver + 409259\n3   chromedriver                        0x0000000104be53e7 chromedriver + 635879\n4   chromedriver                        0x0000000104bd9579 chromedriver + 587129\n5   chromedriver                        0x0000000104c01c62 chromedriver + 752738\n6   chromedriver                        0x0000000104bd8e35 chromedriver + 585269\n7   chromedriver                        0x0000000104c01d6e chromedriver + 753006\n8   chromedriver                        0x0000000104c14611 chromedriver + 828945\n9   chromedriver                        0x0000000104c01b53 chromedriver + 752467\n10  chromedriver                        0x0000000104bd7905 chromedriver + 579845\n11  chromedriver                        0x0000000104bd8955 chromedriver + 584021\n12  chromedriver                        0x0000000104f5e6ad chromedriver + 4277933\n13  chromedriver                        0x0000000104f62b3a chromedriver + 4295482\n14  chromedriver                        0x0000000104f67cdf chromedriver + 4316383\n15  chromedriver                        0x0000000104f63857 chromedriver + 4298839\n16  chromedriver                        0x0000000104f3c64f chromedriver + 4138575\n17  chromedriver                        0x0000000104f7e1f8 chromedriver + 4407800\n18  chromedriver                        0x0000000104f7e37f chromedriver + 4408191\n19  chromedriver                        0x0000000104f94cb5 chromedriver + 4500661\n20  libsystem_pthread.dylib             0x00007ff81e3194e1 _pthread_start + 125\n21  libsystem_pthread.dylib             0x00007ff81e314f6b thread_start + 15\n",
     "output_type": "error",
     "traceback": [
      "\u001b[0;31m---------------------------------------------------------------------------\u001b[0m",
      "\u001b[0;31mElementNotInteractableException\u001b[0m           Traceback (most recent call last)",
      "\u001b[0;32m/var/folders/87/8wy1hy5d6wz1ydj6zlznqysc0000gn/T/ipykernel_69630/2440464876.py\u001b[0m in \u001b[0;36m<module>\u001b[0;34m\u001b[0m\n\u001b[1;32m     59\u001b[0m \u001b[0;34m\u001b[0m\u001b[0m\n\u001b[1;32m     60\u001b[0m \u001b[0mnineteenth_tick\u001b[0m \u001b[0;34m=\u001b[0m \u001b[0mbrowser\u001b[0m\u001b[0;34m.\u001b[0m\u001b[0mfind_by_tag\u001b[0m\u001b[0;34m(\u001b[0m\u001b[0;34m'rect'\u001b[0m\u001b[0;34m)\u001b[0m\u001b[0;34m[\u001b[0m\u001b[0;36m31\u001b[0m\u001b[0;34m]\u001b[0m\u001b[0;34m\u001b[0m\u001b[0;34m\u001b[0m\u001b[0m\n\u001b[0;32m---> 61\u001b[0;31m \u001b[0mnineteenth_tick\u001b[0m\u001b[0;34m.\u001b[0m\u001b[0mclick\u001b[0m\u001b[0;34m(\u001b[0m\u001b[0;34m)\u001b[0m\u001b[0;34m\u001b[0m\u001b[0;34m\u001b[0m\u001b[0m\n\u001b[0m\u001b[1;32m     62\u001b[0m \u001b[0;34m\u001b[0m\u001b[0m\n\u001b[1;32m     63\u001b[0m \u001b[0mtwentieth_tick\u001b[0m \u001b[0;34m=\u001b[0m \u001b[0mbrowser\u001b[0m\u001b[0;34m.\u001b[0m\u001b[0mfind_by_tag\u001b[0m\u001b[0;34m(\u001b[0m\u001b[0;34m'rect'\u001b[0m\u001b[0;34m)\u001b[0m\u001b[0;34m[\u001b[0m\u001b[0;36m32\u001b[0m\u001b[0;34m]\u001b[0m\u001b[0;34m\u001b[0m\u001b[0;34m\u001b[0m\u001b[0m\n",
      "\u001b[0;32m~/opt/anaconda3/lib/python3.9/site-packages/splinter/driver/webdriver/__init__.py\u001b[0m in \u001b[0;36mclick\u001b[0;34m(self)\u001b[0m\n\u001b[1;32m    818\u001b[0m                 \u001b[0merror\u001b[0m \u001b[0;34m=\u001b[0m \u001b[0me\u001b[0m\u001b[0;34m\u001b[0m\u001b[0;34m\u001b[0m\u001b[0m\n\u001b[1;32m    819\u001b[0m \u001b[0;34m\u001b[0m\u001b[0m\n\u001b[0;32m--> 820\u001b[0;31m         \u001b[0;32mraise\u001b[0m \u001b[0merror\u001b[0m\u001b[0;34m\u001b[0m\u001b[0;34m\u001b[0m\u001b[0m\n\u001b[0m\u001b[1;32m    821\u001b[0m \u001b[0;34m\u001b[0m\u001b[0m\n\u001b[1;32m    822\u001b[0m     \u001b[0;32mdef\u001b[0m \u001b[0mcheck\u001b[0m\u001b[0;34m(\u001b[0m\u001b[0mself\u001b[0m\u001b[0;34m)\u001b[0m\u001b[0;34m:\u001b[0m\u001b[0;34m\u001b[0m\u001b[0;34m\u001b[0m\u001b[0m\n",
      "\u001b[0;32m~/opt/anaconda3/lib/python3.9/site-packages/splinter/driver/webdriver/__init__.py\u001b[0m in \u001b[0;36mclick\u001b[0;34m(self)\u001b[0m\n\u001b[1;32m    811\u001b[0m         \u001b[0;32mwhile\u001b[0m \u001b[0mtime\u001b[0m\u001b[0;34m.\u001b[0m\u001b[0mtime\u001b[0m\u001b[0;34m(\u001b[0m\u001b[0;34m)\u001b[0m \u001b[0;34m<\u001b[0m \u001b[0mend_time\u001b[0m\u001b[0;34m:\u001b[0m\u001b[0;34m\u001b[0m\u001b[0;34m\u001b[0m\u001b[0m\n\u001b[1;32m    812\u001b[0m             \u001b[0;32mtry\u001b[0m\u001b[0;34m:\u001b[0m\u001b[0;34m\u001b[0m\u001b[0;34m\u001b[0m\u001b[0m\n\u001b[0;32m--> 813\u001b[0;31m                 \u001b[0;32mreturn\u001b[0m \u001b[0mself\u001b[0m\u001b[0;34m.\u001b[0m\u001b[0m_element\u001b[0m\u001b[0;34m.\u001b[0m\u001b[0mclick\u001b[0m\u001b[0;34m(\u001b[0m\u001b[0;34m)\u001b[0m\u001b[0;34m\u001b[0m\u001b[0;34m\u001b[0m\u001b[0m\n\u001b[0m\u001b[1;32m    814\u001b[0m             except(\n\u001b[1;32m    815\u001b[0m                 \u001b[0mElementClickInterceptedException\u001b[0m\u001b[0;34m,\u001b[0m\u001b[0;34m\u001b[0m\u001b[0;34m\u001b[0m\u001b[0m\n",
      "\u001b[0;32m~/opt/anaconda3/lib/python3.9/site-packages/selenium/webdriver/remote/webelement.py\u001b[0m in \u001b[0;36mclick\u001b[0;34m(self)\u001b[0m\n\u001b[1;32m     87\u001b[0m     \u001b[0;32mdef\u001b[0m \u001b[0mclick\u001b[0m\u001b[0;34m(\u001b[0m\u001b[0mself\u001b[0m\u001b[0;34m)\u001b[0m \u001b[0;34m->\u001b[0m \u001b[0;32mNone\u001b[0m\u001b[0;34m:\u001b[0m\u001b[0;34m\u001b[0m\u001b[0;34m\u001b[0m\u001b[0m\n\u001b[1;32m     88\u001b[0m         \u001b[0;34m\"\"\"Clicks the element.\"\"\"\u001b[0m\u001b[0;34m\u001b[0m\u001b[0;34m\u001b[0m\u001b[0m\n\u001b[0;32m---> 89\u001b[0;31m         \u001b[0mself\u001b[0m\u001b[0;34m.\u001b[0m\u001b[0m_execute\u001b[0m\u001b[0;34m(\u001b[0m\u001b[0mCommand\u001b[0m\u001b[0;34m.\u001b[0m\u001b[0mCLICK_ELEMENT\u001b[0m\u001b[0;34m)\u001b[0m\u001b[0;34m\u001b[0m\u001b[0;34m\u001b[0m\u001b[0m\n\u001b[0m\u001b[1;32m     90\u001b[0m \u001b[0;34m\u001b[0m\u001b[0m\n\u001b[1;32m     91\u001b[0m     \u001b[0;32mdef\u001b[0m \u001b[0msubmit\u001b[0m\u001b[0;34m(\u001b[0m\u001b[0mself\u001b[0m\u001b[0;34m)\u001b[0m\u001b[0;34m:\u001b[0m\u001b[0;34m\u001b[0m\u001b[0;34m\u001b[0m\u001b[0m\n",
      "\u001b[0;32m~/opt/anaconda3/lib/python3.9/site-packages/selenium/webdriver/remote/webelement.py\u001b[0m in \u001b[0;36m_execute\u001b[0;34m(self, command, params)\u001b[0m\n\u001b[1;32m    771\u001b[0m             \u001b[0mparams\u001b[0m \u001b[0;34m=\u001b[0m \u001b[0;34m{\u001b[0m\u001b[0;34m}\u001b[0m\u001b[0;34m\u001b[0m\u001b[0;34m\u001b[0m\u001b[0m\n\u001b[1;32m    772\u001b[0m         \u001b[0mparams\u001b[0m\u001b[0;34m[\u001b[0m\u001b[0;34m'id'\u001b[0m\u001b[0;34m]\u001b[0m \u001b[0;34m=\u001b[0m \u001b[0mself\u001b[0m\u001b[0;34m.\u001b[0m\u001b[0m_id\u001b[0m\u001b[0;34m\u001b[0m\u001b[0;34m\u001b[0m\u001b[0m\n\u001b[0;32m--> 773\u001b[0;31m         \u001b[0;32mreturn\u001b[0m \u001b[0mself\u001b[0m\u001b[0;34m.\u001b[0m\u001b[0m_parent\u001b[0m\u001b[0;34m.\u001b[0m\u001b[0mexecute\u001b[0m\u001b[0;34m(\u001b[0m\u001b[0mcommand\u001b[0m\u001b[0;34m,\u001b[0m \u001b[0mparams\u001b[0m\u001b[0;34m)\u001b[0m\u001b[0;34m\u001b[0m\u001b[0;34m\u001b[0m\u001b[0m\n\u001b[0m\u001b[1;32m    774\u001b[0m \u001b[0;34m\u001b[0m\u001b[0m\n\u001b[1;32m    775\u001b[0m     \u001b[0;32mdef\u001b[0m \u001b[0mfind_element\u001b[0m\u001b[0;34m(\u001b[0m\u001b[0mself\u001b[0m\u001b[0;34m,\u001b[0m \u001b[0mby\u001b[0m\u001b[0;34m=\u001b[0m\u001b[0mBy\u001b[0m\u001b[0;34m.\u001b[0m\u001b[0mID\u001b[0m\u001b[0;34m,\u001b[0m \u001b[0mvalue\u001b[0m\u001b[0;34m=\u001b[0m\u001b[0;32mNone\u001b[0m\u001b[0;34m)\u001b[0m\u001b[0;34m:\u001b[0m\u001b[0;34m\u001b[0m\u001b[0;34m\u001b[0m\u001b[0m\n",
      "\u001b[0;32m~/opt/anaconda3/lib/python3.9/site-packages/selenium/webdriver/remote/webdriver.py\u001b[0m in \u001b[0;36mexecute\u001b[0;34m(self, driver_command, params)\u001b[0m\n\u001b[1;32m    428\u001b[0m         \u001b[0mresponse\u001b[0m \u001b[0;34m=\u001b[0m \u001b[0mself\u001b[0m\u001b[0;34m.\u001b[0m\u001b[0mcommand_executor\u001b[0m\u001b[0;34m.\u001b[0m\u001b[0mexecute\u001b[0m\u001b[0;34m(\u001b[0m\u001b[0mdriver_command\u001b[0m\u001b[0;34m,\u001b[0m \u001b[0mparams\u001b[0m\u001b[0;34m)\u001b[0m\u001b[0;34m\u001b[0m\u001b[0;34m\u001b[0m\u001b[0m\n\u001b[1;32m    429\u001b[0m         \u001b[0;32mif\u001b[0m \u001b[0mresponse\u001b[0m\u001b[0;34m:\u001b[0m\u001b[0;34m\u001b[0m\u001b[0;34m\u001b[0m\u001b[0m\n\u001b[0;32m--> 430\u001b[0;31m             \u001b[0mself\u001b[0m\u001b[0;34m.\u001b[0m\u001b[0merror_handler\u001b[0m\u001b[0;34m.\u001b[0m\u001b[0mcheck_response\u001b[0m\u001b[0;34m(\u001b[0m\u001b[0mresponse\u001b[0m\u001b[0;34m)\u001b[0m\u001b[0;34m\u001b[0m\u001b[0;34m\u001b[0m\u001b[0m\n\u001b[0m\u001b[1;32m    431\u001b[0m             response['value'] = self._unwrap_value(\n\u001b[1;32m    432\u001b[0m                 response.get('value', None))\n",
      "\u001b[0;32m~/opt/anaconda3/lib/python3.9/site-packages/selenium/webdriver/remote/errorhandler.py\u001b[0m in \u001b[0;36mcheck_response\u001b[0;34m(self, response)\u001b[0m\n\u001b[1;32m    245\u001b[0m                 \u001b[0malert_text\u001b[0m \u001b[0;34m=\u001b[0m \u001b[0mvalue\u001b[0m\u001b[0;34m[\u001b[0m\u001b[0;34m'alert'\u001b[0m\u001b[0;34m]\u001b[0m\u001b[0;34m.\u001b[0m\u001b[0mget\u001b[0m\u001b[0;34m(\u001b[0m\u001b[0;34m'text'\u001b[0m\u001b[0;34m)\u001b[0m\u001b[0;34m\u001b[0m\u001b[0;34m\u001b[0m\u001b[0m\n\u001b[1;32m    246\u001b[0m             \u001b[0;32mraise\u001b[0m \u001b[0mexception_class\u001b[0m\u001b[0;34m(\u001b[0m\u001b[0mmessage\u001b[0m\u001b[0;34m,\u001b[0m \u001b[0mscreen\u001b[0m\u001b[0;34m,\u001b[0m \u001b[0mstacktrace\u001b[0m\u001b[0;34m,\u001b[0m \u001b[0malert_text\u001b[0m\u001b[0;34m)\u001b[0m  \u001b[0;31m# type: ignore[call-arg]  # mypy is not smart enough here\u001b[0m\u001b[0;34m\u001b[0m\u001b[0;34m\u001b[0m\u001b[0m\n\u001b[0;32m--> 247\u001b[0;31m         \u001b[0;32mraise\u001b[0m \u001b[0mexception_class\u001b[0m\u001b[0;34m(\u001b[0m\u001b[0mmessage\u001b[0m\u001b[0;34m,\u001b[0m \u001b[0mscreen\u001b[0m\u001b[0;34m,\u001b[0m \u001b[0mstacktrace\u001b[0m\u001b[0;34m)\u001b[0m\u001b[0;34m\u001b[0m\u001b[0;34m\u001b[0m\u001b[0m\n\u001b[0m\u001b[1;32m    248\u001b[0m \u001b[0;34m\u001b[0m\u001b[0m\n\u001b[1;32m    249\u001b[0m     \u001b[0;32mdef\u001b[0m \u001b[0m_value_or_default\u001b[0m\u001b[0;34m(\u001b[0m\u001b[0mself\u001b[0m\u001b[0;34m,\u001b[0m \u001b[0mobj\u001b[0m\u001b[0;34m:\u001b[0m \u001b[0mMapping\u001b[0m\u001b[0;34m[\u001b[0m\u001b[0m_KT\u001b[0m\u001b[0;34m,\u001b[0m \u001b[0m_VT\u001b[0m\u001b[0;34m]\u001b[0m\u001b[0;34m,\u001b[0m \u001b[0mkey\u001b[0m\u001b[0;34m:\u001b[0m \u001b[0m_KT\u001b[0m\u001b[0;34m,\u001b[0m \u001b[0mdefault\u001b[0m\u001b[0;34m:\u001b[0m \u001b[0m_VT\u001b[0m\u001b[0;34m)\u001b[0m \u001b[0;34m->\u001b[0m \u001b[0m_VT\u001b[0m\u001b[0;34m:\u001b[0m\u001b[0;34m\u001b[0m\u001b[0;34m\u001b[0m\u001b[0m\n",
      "\u001b[0;31mElementNotInteractableException\u001b[0m: Message: element not interactable\n  (Session info: chrome=104.0.5112.101)\nStacktrace:\n0   chromedriver                        0x0000000104f8d149 chromedriver + 4469065\n1   chromedriver                        0x0000000104f17233 chromedriver + 3985971\n2   chromedriver                        0x0000000104badeab chromedriver + 409259\n3   chromedriver                        0x0000000104be53e7 chromedriver + 635879\n4   chromedriver                        0x0000000104bd9579 chromedriver + 587129\n5   chromedriver                        0x0000000104c01c62 chromedriver + 752738\n6   chromedriver                        0x0000000104bd8e35 chromedriver + 585269\n7   chromedriver                        0x0000000104c01d6e chromedriver + 753006\n8   chromedriver                        0x0000000104c14611 chromedriver + 828945\n9   chromedriver                        0x0000000104c01b53 chromedriver + 752467\n10  chromedriver                        0x0000000104bd7905 chromedriver + 579845\n11  chromedriver                        0x0000000104bd8955 chromedriver + 584021\n12  chromedriver                        0x0000000104f5e6ad chromedriver + 4277933\n13  chromedriver                        0x0000000104f62b3a chromedriver + 4295482\n14  chromedriver                        0x0000000104f67cdf chromedriver + 4316383\n15  chromedriver                        0x0000000104f63857 chromedriver + 4298839\n16  chromedriver                        0x0000000104f3c64f chromedriver + 4138575\n17  chromedriver                        0x0000000104f7e1f8 chromedriver + 4407800\n18  chromedriver                        0x0000000104f7e37f chromedriver + 4408191\n19  chromedriver                        0x0000000104f94cb5 chromedriver + 4500661\n20  libsystem_pthread.dylib             0x00007ff81e3194e1 _pthread_start + 125\n21  libsystem_pthread.dylib             0x00007ff81e314f6b thread_start + 15\n"
     ]
    }
   ],
   "source": [
    "# Clicking the ticks \n",
    "\n",
    "#Find and click the first tick\n",
    "first_tick = browser.find_by_tag('rect')[13]\n",
    "first_tick.click()\n",
    "\n",
    "# Find and click the second tick\n",
    "second_tick = browser.find_by_tag('rect')[14]\n",
    "second_tick.click()\n",
    "\n",
    "# Find and click the 3rd tick\n",
    "third_tick = browser.find_by_tag('rect')[15]\n",
    "third_tick.click()\n",
    "\n",
    "# Find and click the fourth tick\n",
    "fourth_tick = browser.find_by_tag('rect')[16]\n",
    "fourth_tick.click()\n",
    "\n",
    "# so on....\n",
    "fifth_tick = browser.find_by_tag('rect')[17]\n",
    "fifth_tick.click()\n",
    "\n",
    "sixth_tick = browser.find_by_tag('rect')[18]\n",
    "sixth_tick.click()\n",
    "\n",
    "seventh_tick = browser.find_by_tag('rect')[19]\n",
    "seventh_tick.click()\n",
    "\n",
    "eighth_tick = browser.find_by_tag('rect')[20]\n",
    "eighth_tick.click()\n",
    "\n",
    "ninth_tick = browser.find_by_tag('rect')[21]\n",
    "ninth_tick.click()\n",
    "\n",
    "tenth_tick = browser.find_by_tag('rect')[22]\n",
    "tenth_tick.click()\n",
    "\n",
    "eleventh_tick = browser.find_by_tag('rect')[23]\n",
    "eleventh_tick.click()\n",
    "\n",
    "twelth_tick = browser.find_by_tag('rect')[24]\n",
    "twelth_tick.click()\n",
    "\n",
    "thirteenth_tick = browser.find_by_tag('rect')[25]\n",
    "thirteenth_tick.click()\n",
    "\n",
    "fourteenth_tick = browser.find_by_tag('rect')[26]\n",
    "fourteenth_tick.click()\n",
    "\n",
    "fifteenth_tick = browser.find_by_tag('rect')[27]\n",
    "fifteenth_tick.click()\n",
    "\n",
    "sixthteenth_tick = browser.find_by_tag('rect')[28]\n",
    "sixthteenth_tick.click()\n",
    "\n",
    "seventeenth_tick = browser.find_by_tag('rect')[29]\n",
    "sixth_tick.click()\n",
    "\n",
    "eighteenth_tick = browser.find_by_tag('rect')[30]\n",
    "eighteenth_tick.click()\n",
    "\n",
    "nineteenth_tick = browser.find_by_tag('rect')[31]\n",
    "nineteenth_tick.click()\n",
    "\n",
    "twentieth_tick = browser.find_by_tag('rect')[32]\n",
    "twentieth_tick.click()\n",
    "\n",
    "twentyone_tick = browser.find_by_tag('rect')[33]\n",
    "twentyone_tick.click()\n",
    "\n",
    "twentytwo_tick = browser.find_by_tag('rect')[34]\n",
    "twentytwo_tick.click()\n",
    "\n",
    "twentythree_tick = browser.find_by_tag('rect')[35]\n",
    "twentythree_tick.click()\n",
    "\n",
    "twentyfour_tick = browser.find_by_tag('rect')[36]\n",
    "twentyfour_tick.click()\n",
    "\n",
    "twentyfive_tick = browser.find_by_tag('rect')[37]\n",
    "twentyfive_tick.click()"
   ]
  },
  {
   "cell_type": "code",
   "execution_count": 69,
   "id": "c3248095",
   "metadata": {},
   "outputs": [
    {
     "data": {
      "text/plain": [
       "<splinter.driver.webdriver.WebDriverElement at 0x7f99ea1df7f0>"
      ]
     },
     "execution_count": 69,
     "metadata": {},
     "output_type": "execute_result"
    }
   ],
   "source": []
  },
  {
   "cell_type": "code",
   "execution_count": null,
   "id": "d488df14",
   "metadata": {},
   "outputs": [],
   "source": [
    "# Quit Browser\n",
    "#browser.quit()"
   ]
  },
  {
   "cell_type": "code",
   "execution_count": null,
   "id": "ad5d69ab",
   "metadata": {},
   "outputs": [],
   "source": []
  }
 ],
 "metadata": {
  "kernelspec": {
   "display_name": "Python 3 (ipykernel)",
   "language": "python",
   "name": "python3"
  },
  "language_info": {
   "codemirror_mode": {
    "name": "ipython",
    "version": 3
   },
   "file_extension": ".py",
   "mimetype": "text/x-python",
   "name": "python",
   "nbconvert_exporter": "python",
   "pygments_lexer": "ipython3",
   "version": "3.9.7"
  }
 },
 "nbformat": 4,
 "nbformat_minor": 5
}
