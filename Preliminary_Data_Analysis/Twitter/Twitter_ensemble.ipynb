{
  "nbformat": 4,
  "nbformat_minor": 0,
  "metadata": {
    "colab": {
      "name": "Twitter_ensemble.ipynb",
      "provenance": [],
      "collapsed_sections": []
    },
    "kernelspec": {
      "name": "python3",
      "display_name": "Python 3"
    },
    "language_info": {
      "name": "python"
    }
  },
  "cells": [
    {
      "cell_type": "code",
      "execution_count": 1,
      "metadata": {
        "id": "OPhWA1gGzjfb"
      },
      "outputs": [],
      "source": [
        "import warnings\n",
        "warnings.filterwarnings('ignore')"
      ]
    },
    {
      "cell_type": "code",
      "source": [
        "import numpy as np\n",
        "import pandas as pd\n",
        "from pathlib import Path\n",
        "from collections import Counter"
      ],
      "metadata": {
        "id": "45624S98zsbl"
      },
      "execution_count": 2,
      "outputs": []
    },
    {
      "cell_type": "code",
      "source": [
        "from sklearn.metrics import balanced_accuracy_score\n",
        "from sklearn.metrics import confusion_matrix\n",
        "from imblearn.metrics import classification_report_imbalanced\n"
      ],
      "metadata": {
        "id": "Jj12KgRlztrf"
      },
      "execution_count": 3,
      "outputs": []
    },
    {
      "cell_type": "markdown",
      "source": [
        "# Read the CSV and Perform Basic Data Cleaning"
      ],
      "metadata": {
        "id": "zCkXrETHz3fM"
      }
    },
    {
      "cell_type": "code",
      "source": [
        "columns = ['date', 'text', 'weight', 'negative', 'neutral', 'positive']\n",
        "target = ['sentiment']"
      ],
      "metadata": {
        "id": "SRC407hCz51F"
      },
      "execution_count": 4,
      "outputs": []
    },
    {
      "cell_type": "code",
      "source": [
        "# we will need to use pyspark to connect to our joined_v001.csv file in AWS S3\n",
        "import os\n",
        "# Find the latest version of spark 3.0 from http://www.apache.org/dist/spark/ and enter as the spark version\n",
        "# For example:\n",
        "# spark_version = 'spark-3.0.3'\n",
        "spark_version = 'spark-3.2.2'\n",
        "os.environ['SPARK_VERSION']=spark_version\n",
        "\n",
        "# Install Spark and Java\n",
        "!apt-get update\n",
        "!apt-get install openjdk-11-jdk-headless -qq > /dev/null\n",
        "!wget -q http://www.apache.org/dist/spark/$SPARK_VERSION/$SPARK_VERSION-bin-hadoop2.7.tgz\n",
        "!tar xf $SPARK_VERSION-bin-hadoop2.7.tgz\n",
        "!pip install -q findspark\n",
        "\n",
        "# Set Environment Variables\n",
        "import os\n",
        "os.environ[\"JAVA_HOME\"] = \"/usr/lib/jvm/java-11-openjdk-amd64\"\n",
        "os.environ[\"SPARK_HOME\"] = f\"/content/{spark_version}-bin-hadoop2.7\"\n",
        "\n",
        "# Start a SparkSession\n",
        "import findspark\n",
        "findspark.init()\n"
      ],
      "metadata": {
        "colab": {
          "base_uri": "https://localhost:8080/"
        },
        "id": "xsgttEBj7iM7",
        "outputId": "ddd9d5eb-68c5-4842-fc05-69a195f60e29"
      },
      "execution_count": 4,
      "outputs": [
        {
          "output_type": "stream",
          "name": "stdout",
          "text": [
            "\r0% [Working]\r            \rHit:1 http://archive.ubuntu.com/ubuntu bionic InRelease\n",
            "\r0% [Waiting for headers] [Connecting to security.ubuntu.com (185.125.190.36)] [\r0% [1 InRelease gpgv 242 kB] [Waiting for headers] [Connecting to security.ubun\r                                                                               \rGet:2 http://archive.ubuntu.com/ubuntu bionic-updates InRelease [88.7 kB]\n",
            "\r0% [1 InRelease gpgv 242 kB] [2 InRelease 14.2 kB/88.7 kB 16%] [Connecting to s\r                                                                               \rGet:3 https://cloud.r-project.org/bin/linux/ubuntu bionic-cran40/ InRelease [3,626 B]\n",
            "Ign:4 https://developer.download.nvidia.com/compute/machine-learning/repos/ubuntu1804/x86_64  InRelease\n",
            "Get:5 https://developer.download.nvidia.com/compute/cuda/repos/ubuntu1804/x86_64  InRelease [1,581 B]\n",
            "Hit:6 https://developer.download.nvidia.com/compute/machine-learning/repos/ubuntu1804/x86_64  Release\n",
            "Get:7 http://archive.ubuntu.com/ubuntu bionic-backports InRelease [74.6 kB]\n",
            "Get:8 http://security.ubuntu.com/ubuntu bionic-security InRelease [88.7 kB]\n",
            "Get:9 http://ppa.launchpad.net/c2d4u.team/c2d4u4.0+/ubuntu bionic InRelease [15.9 kB]\n",
            "Hit:10 http://ppa.launchpad.net/cran/libgit2/ubuntu bionic InRelease\n",
            "Hit:11 http://ppa.launchpad.net/deadsnakes/ppa/ubuntu bionic InRelease\n",
            "Get:12 http://archive.ubuntu.com/ubuntu bionic-updates/universe amd64 Packages [2,311 kB]\n",
            "Hit:13 http://ppa.launchpad.net/graphics-drivers/ppa/ubuntu bionic InRelease\n",
            "Get:14 https://developer.download.nvidia.com/compute/cuda/repos/ubuntu1804/x86_64  Packages [910 kB]\n",
            "Get:15 http://archive.ubuntu.com/ubuntu bionic-updates/main amd64 Packages [3,369 kB]\n",
            "Get:17 http://ppa.launchpad.net/c2d4u.team/c2d4u4.0+/ubuntu bionic/main Sources [2,093 kB]\n",
            "Get:18 http://security.ubuntu.com/ubuntu bionic-security/main amd64 Packages [2,937 kB]\n",
            "Get:19 http://security.ubuntu.com/ubuntu bionic-security/universe amd64 Packages [1,533 kB]\n",
            "Get:20 http://ppa.launchpad.net/c2d4u.team/c2d4u4.0+/ubuntu bionic/main amd64 Packages [1,073 kB]\n",
            "Fetched 14.5 MB in 4s (3,521 kB/s)\n",
            "Reading package lists... Done\n"
          ]
        }
      ]
    },
    {
      "cell_type": "code",
      "source": [
        "# Download a Postgres driver that will allow Spark to interact with Postgres\n",
        "!wget https://jdbc.postgresql.org/download/postgresql-42.2.16.jar"
      ],
      "metadata": {
        "colab": {
          "base_uri": "https://localhost:8080/"
        },
        "id": "RMF-UNNNLTBA",
        "outputId": "f5028fd7-107c-4ab3-ede8-1fa3d9687b81"
      },
      "execution_count": 5,
      "outputs": [
        {
          "output_type": "stream",
          "name": "stdout",
          "text": [
            "--2022-08-24 04:47:29--  https://jdbc.postgresql.org/download/postgresql-42.2.16.jar\n",
            "Resolving jdbc.postgresql.org (jdbc.postgresql.org)... 72.32.157.228, 2001:4800:3e1:1::228\n",
            "Connecting to jdbc.postgresql.org (jdbc.postgresql.org)|72.32.157.228|:443... connected.\n",
            "HTTP request sent, awaiting response... 200 OK\n",
            "Length: 1002883 (979K) [application/java-archive]\n",
            "Saving to: ‘postgresql-42.2.16.jar’\n",
            "\n",
            "postgresql-42.2.16. 100%[===================>] 979.38K  --.-KB/s    in 0.1s    \n",
            "\n",
            "2022-08-24 04:47:29 (9.76 MB/s) - ‘postgresql-42.2.16.jar’ saved [1002883/1002883]\n",
            "\n"
          ]
        }
      ]
    },
    {
      "cell_type": "code",
      "source": [
        "# Add drivers to Spark\n",
        "from pyspark.sql import SparkSession\n",
        "spark = SparkSession.builder.appName(\"TwitterEnsemble\").config(\"spark.driver.extraClassPath\",\"/content/postgresql-42.2.16.jar\").getOrCreate()"
      ],
      "metadata": {
        "id": "FmYLOA4WLc1a"
      },
      "execution_count": 6,
      "outputs": []
    },
    {
      "cell_type": "code",
      "source": [
        "# Read in data from S3 Buckets\n",
        "from pyspark import SparkFiles\n",
        "url =\"https://jessehernandez70test1.s3.us-west-1.amazonaws.com/joined_v001.csv\"\n",
        "\n",
        "spark.sparkContext.addFile(url)\n",
        "joined_data_df = spark.read.csv(SparkFiles.get(\"joined_v001.csv\"), sep=\",\", header=True, inferSchema=True)\n",
        "\n",
        "\n",
        "# Show DataFrame\n",
        "joined_data_df.show()"
      ],
      "metadata": {
        "colab": {
          "base_uri": "https://localhost:8080/"
        },
        "id": "olAbmtFLLoMg",
        "outputId": "dd409017-9e62-4c22-e7ad-d4553da22010"
      },
      "execution_count": 7,
      "outputs": [
        {
          "output_type": "stream",
          "name": "stdout",
          "text": [
            "+----------+--------------------+-----------+-----+------+\n",
            "|      date|                text|   negative|event|weight|\n",
            "+----------+--------------------+-----------+-----+------+\n",
            "|2022-08-01|the conflict is b...|0.602711678| null|  null|\n",
            "|2022-08-01|remember when sma...|0.212250158| null|  null|\n",
            "|2022-08-01|hi  you have to u...|0.490129501| null|  null|\n",
            "|2022-08-01|the world is in d...|0.876022816| null|  null|\n",
            "|2022-08-01|will the imposed ...|0.044509333| null|  null|\n",
            "|2022-08-01|owner of ukraines...| 0.83338201| null|  null|\n",
            "|2022-08-01|animal shelter do...|0.013312108| null|  null|\n",
            "|2022-08-01|    eb5f211900p4acc7|0.254985869| null|  null|\n",
            "|2022-08-01|why  relations li...|0.409764558| null|  null|\n",
            "|2022-08-01|crypto tattoos to...|0.005395876| null|  null|\n",
            "|2022-08-01|its happening on ...|0.061495773| null|  null|\n",
            "|2022-08-01|will certainly lo...|0.881493032| null|  null|\n",
            "|2022-08-01|serbian vucic is ...|0.974542975| null|  null|\n",
            "|2022-08-01|animal shelter do...|0.013312108| null|  null|\n",
            "|2022-08-01|fm  adheres to th...|0.067151807| null|  null|\n",
            "|2022-08-01|ran up a trillion...|0.863219559| null|  null|\n",
            "|2022-08-01|latvian media lat...|0.338054359| null|  null|\n",
            "|2022-08-01|make your site gr...|0.003999318| null|  null|\n",
            "|2022-08-01| a new video of a...|0.042680997| null|  null|\n",
            "|2022-08-01|russian rocket ki...|0.921961904| null|  null|\n",
            "+----------+--------------------+-----------+-----+------+\n",
            "only showing top 20 rows\n",
            "\n"
          ]
        }
      ]
    },
    {
      "cell_type": "code",
      "source": [
        "# Load the data\n",
        "file_path = Path(\"Resources/LoanStats_2019Q1.csv\")\n",
        "df = pd.read_csv(file_path, skiprows=1)[:-2]\n",
        "df = df.loc[:, columns].copy()\n",
        "\n",
        "# Drop the null columns where all values are null\n",
        "df = df.dropna(axis='columns', how='all')\n",
        "\n",
        "# Drop the null rows\n",
        "df = df.dropna()\n"
      ],
      "metadata": {
        "id": "TsXKUYZN1HOa"
      },
      "execution_count": null,
      "outputs": []
    },
    {
      "cell_type": "code",
      "source": [
        ""
      ],
      "metadata": {
        "id": "d8X6ms-FLVkS"
      },
      "execution_count": null,
      "outputs": []
    },
    {
      "cell_type": "code",
      "source": [
        "# Remove the `Issued` loan status\n",
        "issued_mask = df['sentiment'] != 'Issued'\n",
        "df = df.loc[issued_mask]\n",
        "\n",
        "# convert text to text lenght\n",
        "df[\"text lengh\"] = df[\"text\"].str.len()\n",
        "\n",
        "# convert Negative and Positive to Sentiment\n",
        "\n",
        "# convert datetime to numerical?\n",
        "df['int_rate'] = df['int_rate'].str.replace('%', '')\n",
        "df['int_rate'] = df['int_rate'].astype('float') / 100\n",
        "\n",
        "\n",
        "# Convert the target column values sentiment to negative and positive based on their values\n",
        "x = {'Current': 'sentiment'}   \n",
        "df = df.replace(x)\n",
        "\n",
        "x = dict.fromkeys(['negative', 'neutral', 'positive'], 'sentiment')    \n",
        "df = df.replace(x)\n",
        "\n",
        "df.reset_index(inplace=True, drop=True)\n",
        "\n",
        "df.head()"
      ],
      "metadata": {
        "id": "hFi1Cllx1Sc_"
      },
      "execution_count": null,
      "outputs": []
    },
    {
      "cell_type": "markdown",
      "source": [
        "# Split the Data into Training and Testing"
      ],
      "metadata": {
        "id": "NEA3nf841ptV"
      }
    },
    {
      "cell_type": "code",
      "source": [
        "# Create our features\n",
        "X = pd.get_dummies(df.drop(columns='positive'))\n",
        "\n",
        "# Create our target\n",
        "y = df['positive']"
      ],
      "metadata": {
        "id": "Let-W9c-1ikJ"
      },
      "execution_count": null,
      "outputs": []
    },
    {
      "cell_type": "code",
      "source": [
        "X.describe()"
      ],
      "metadata": {
        "id": "gfbY8d3J12HU"
      },
      "execution_count": null,
      "outputs": []
    },
    {
      "cell_type": "code",
      "source": [
        "# Check the balance of our target values\n",
        "y.value_counts()"
      ],
      "metadata": {
        "id": "MEgpOY0J16PI"
      },
      "execution_count": null,
      "outputs": []
    },
    {
      "cell_type": "markdown",
      "source": [
        "# Ensemble Learners\n",
        "\n",
        "In this section, you will compare two ensemble algorithms to determine which algorithm results in the best performance. You will train a Balanced Random Forest Classifier and an Easy Ensemble AdaBoost classifier . For each algorithm, be sure to complete the folliowing steps:\n",
        "\n",
        "Train the model using the training data.\n",
        "Calculate the balanced accuracy score from sklearn.metrics.\n",
        "Print the confusion matrix from sklearn.metrics.\n",
        "Generate a classication report using the imbalanced_classification_report from imbalanced-learn.\n",
        "For the Balanced Random Forest Classifier onely, print the feature importance sorted in descending order (most important feature to least important) along with the feature score\n",
        "Note: Use a random state of 1 for each algorithm to ensure consistency between tests"
      ],
      "metadata": {
        "id": "sTopaKIa2Q8B"
      }
    },
    {
      "cell_type": "markdown",
      "source": [
        "# Balanced Random Forest Classifier"
      ],
      "metadata": {
        "id": "8HOS67jk2SUC"
      }
    },
    {
      "cell_type": "code",
      "source": [
        "# Resample the training data with the BalancedRandomForestClassifier\n",
        "from imblearn.ensemble import BalancedRandomForestClassifier\n",
        "rf_model = BalancedRandomForestClassifier(n_estimators =100, random_state=1).fit(X_train, y_train)"
      ],
      "metadata": {
        "id": "CFZ6rQSG1_bM"
      },
      "execution_count": null,
      "outputs": []
    },
    {
      "cell_type": "code",
      "source": [
        "# Calculated the balanced accuracy score\n",
        "from sklearn.metrics import balanced_accuracy_score\n",
        "y_pred = rf_model.predict(X_test)\n",
        "balanced_accuracy_score(y_test, y_pred)"
      ],
      "metadata": {
        "id": "EHP3ZWJa2iS6"
      },
      "execution_count": null,
      "outputs": []
    },
    {
      "cell_type": "code",
      "source": [
        "# Display the confusion matrix\n",
        "from sklearn.metrics import confusion_matrix\n",
        "confusion_matrix(y_test, y_pred)"
      ],
      "metadata": {
        "id": "FVp-YDpk2nzz"
      },
      "execution_count": null,
      "outputs": []
    },
    {
      "cell_type": "code",
      "source": [
        "# Print the imbalanced classification report\n",
        "from imblearn.metrics import classification_report_imbalanced\n",
        "print(classification_report_imbalanced(y_test, y_pred))"
      ],
      "metadata": {
        "id": "7EesASgq2sEw"
      },
      "execution_count": null,
      "outputs": []
    },
    {
      "cell_type": "code",
      "source": [
        "# List the features sorted in descending order by feature importance\n",
        "priority_features = pd.Series(data=rf_model.feature_importances_,index=X.columns)\n",
        "priority_features.sort_values(ascending=False,inplace=True)\n",
        "print(priority_features)"
      ],
      "metadata": {
        "id": "9Wu883a83U_C"
      },
      "execution_count": null,
      "outputs": []
    },
    {
      "cell_type": "markdown",
      "source": [
        "# Easy Ensemble AdaBoost Classifier"
      ],
      "metadata": {
        "id": "rbb3jZDf3hES"
      }
    },
    {
      "cell_type": "code",
      "source": [
        "# Train the EasyEnsembleClassifier\n",
        "from imblearn.ensemble import EasyEnsembleClassifier \n",
        "eec_model = EasyEnsembleClassifier(n_estimators =100, random_state=1).fit(X_train, y_train)"
      ],
      "metadata": {
        "id": "xjnKcCPz3iFG"
      },
      "execution_count": null,
      "outputs": []
    },
    {
      "cell_type": "code",
      "source": [
        "# Calculated the balanced accuracy score\n",
        "y_pred = eec_model.predict(X_test)\n",
        "balanced_accuracy_score(y_test, y_pred)"
      ],
      "metadata": {
        "id": "i1cj8xVI3l7p"
      },
      "execution_count": null,
      "outputs": []
    },
    {
      "cell_type": "code",
      "source": [
        "# Display the confusion matrix\n",
        "confusion_matrix(y_test, y_pred)"
      ],
      "metadata": {
        "id": "pPQLc_Qf3o9h"
      },
      "execution_count": null,
      "outputs": []
    },
    {
      "cell_type": "code",
      "source": [
        "# Print the imbalanced classification report\n",
        "print(classification_report_imbalanced(y_test, y_pred))"
      ],
      "metadata": {
        "id": "MlYcoYBS37F5"
      },
      "execution_count": null,
      "outputs": []
    }
  ]
}