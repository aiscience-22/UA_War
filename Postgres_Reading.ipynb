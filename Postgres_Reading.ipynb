{
  "nbformat": 4,
  "nbformat_minor": 0,
  "metadata": {
    "colab": {
      "name": "Postgres Reading.ipynb",
      "provenance": [],
      "collapsed_sections": [],
      "authorship_tag": "ABX9TyMOHEt15nOiP/GERmmfOHrm",
      "include_colab_link": true
    },
    "kernelspec": {
      "name": "python3",
      "display_name": "Python 3"
    },
    "language_info": {
      "name": "python"
    }
  },
  "cells": [
    {
      "cell_type": "markdown",
      "metadata": {
        "id": "view-in-github",
        "colab_type": "text"
      },
      "source": [
        "<a href=\"https://colab.research.google.com/github/aiscience-22/UA_War/blob/machine_learning_0.01/Postgres_Reading.ipynb\" target=\"_parent\"><img src=\"https://colab.research.google.com/assets/colab-badge.svg\" alt=\"Open In Colab\"/></a>"
      ]
    },
    {
      "cell_type": "code",
      "execution_count": null,
      "metadata": {
        "id": "U63D0Wdx8esM"
      },
      "outputs": [],
      "source": [
        "# https://jessehernandez70test1.s3.us-west-1.amazonaws.com/joined_v001.csv"
      ]
    },
    {
      "cell_type": "code",
      "source": [
        "# The complete commands to create the table in database and populate the data\n",
        "\n",
        "!curl -s -OL https://github.com/tensorflow/io/raw/master/docs/tutorials/postgresql/AirQualityUCI.sql\n",
        "\n",
        "!PGPASSWORD=$TFIO_DEMO_DATABASE_PASS psql -q -h $TFIO_DEMO_DATABASE_HOST -p $TFIO_DEMO_DATABASE_PORT -U $TFIO_DEMO_DATABASE_USER -d $TFIO_DEMO_DATABASE_NAME -f AirQualityUCI.sql"
      ],
      "metadata": {
        "colab": {
          "base_uri": "https://localhost:8080/"
        },
        "id": "PWoNEDT68-h0",
        "outputId": "d8ead704-d8f6-420b-a5e8-3037cc394d52"
      },
      "execution_count": 1,
      "outputs": [
        {
          "output_type": "stream",
          "name": "stdout",
          "text": [
            "/bin/bash: psql: command not found\n"
          ]
        }
      ]
    },
    {
      "cell_type": "markdown",
      "source": [
        "# Create Dataset from PostgreSQL server and use it in TensorFlow\n",
        "\n",
        "Create a Dataset from PostgreSQL server is as easy as calling tfio.experimental.IODataset.from_sql with query and endpoint arguments. The query is the SQL query for select columns in tables and the endpoint argument is the address and database name:\n",
        "\n",
        "tweets.cnzbbvrrhst7.us-west-1.rds.amazonaws.com  \n",
        "Port 5432  \n",
        "Username: uatweets  \n",
        "password: databootcamp2022  "
      ],
      "metadata": {
        "id": "d0ctabZq9MWm"
      }
    },
    {
      "cell_type": "code",
      "source": [
        "!pip install tensorflow_io\n",
        "import os\n",
        "import tensorflow_io as tfio\n",
        "\n",
        "endpoint=\"postgresql://{}:{}@{}?port={}&dbname={}\".format(\n",
        "    os.environ['TFIO_DEMO_DATABASE_USER'],\n",
        "    os.environ['TFIO_DEMO_DATABASE_PASS'],\n",
        "    os.environ['TFIO_DEMO_DATABASE_HOST'],\n",
        "    os.environ['TFIO_DEMO_DATABASE_PORT'],\n",
        "    os.environ['TFIO_DEMO_DATABASE_NAME'],\n",
        "),\n",
        ")\n",
        "\n",
        "dataset = tfio.experimental.IODataset.from_sql(\n",
        "    query=\"SELECT * FROM joined;\",\n",
        "    endpoint=endpoint)\n",
        "\n",
        "print(dataset.element_spec)"
      ],
      "metadata": {
        "colab": {
          "base_uri": "https://localhost:8080/",
          "height": 470
        },
        "id": "YL7ZGdhv8hpb",
        "outputId": "71ddc534-4a94-4d13-fbe2-335fa12483bd"
      },
      "execution_count": 3,
      "outputs": [
        {
          "output_type": "stream",
          "name": "stdout",
          "text": [
            "Looking in indexes: https://pypi.org/simple, https://us-python.pkg.dev/colab-wheels/public/simple/\n",
            "Collecting tensorflow_io\n",
            "  Downloading tensorflow_io-0.26.0-cp37-cp37m-manylinux_2_12_x86_64.manylinux2010_x86_64.whl (25.9 MB)\n",
            "\u001b[K     |████████████████████████████████| 25.9 MB 53.3 MB/s \n",
            "\u001b[?25hRequirement already satisfied: tensorflow-io-gcs-filesystem==0.26.0 in /usr/local/lib/python3.7/dist-packages (from tensorflow_io) (0.26.0)\n",
            "Installing collected packages: tensorflow-io\n",
            "Successfully installed tensorflow-io-0.26.0\n"
          ]
        },
        {
          "output_type": "error",
          "ename": "KeyError",
          "evalue": "ignored",
          "traceback": [
            "\u001b[0;31m---------------------------------------------------------------------------\u001b[0m",
            "\u001b[0;31mKeyError\u001b[0m                                  Traceback (most recent call last)",
            "\u001b[0;32m<ipython-input-3-dc44bce4ca44>\u001b[0m in \u001b[0;36m<module>\u001b[0;34m\u001b[0m\n\u001b[1;32m      4\u001b[0m \u001b[0;34m\u001b[0m\u001b[0m\n\u001b[1;32m      5\u001b[0m endpoint=\"postgresql://{}:{}@{}?port={}&dbname={}\".format(\n\u001b[0;32m----> 6\u001b[0;31m    \u001b[0mos\u001b[0m\u001b[0;34m.\u001b[0m\u001b[0menviron\u001b[0m\u001b[0;34m[\u001b[0m\u001b[0;34m'uatweets'\u001b[0m\u001b[0;34m]\u001b[0m\u001b[0;34m,\u001b[0m\u001b[0;34m\u001b[0m\u001b[0;34m\u001b[0m\u001b[0m\n\u001b[0m\u001b[1;32m      7\u001b[0m     \u001b[0mos\u001b[0m\u001b[0;34m.\u001b[0m\u001b[0menviron\u001b[0m\u001b[0;34m[\u001b[0m\u001b[0;34m'databootcamp2022'\u001b[0m\u001b[0;34m]\u001b[0m\u001b[0;34m,\u001b[0m\u001b[0;34m\u001b[0m\u001b[0;34m\u001b[0m\u001b[0m\n\u001b[1;32m      8\u001b[0m     \u001b[0mos\u001b[0m\u001b[0;34m.\u001b[0m\u001b[0menviron\u001b[0m\u001b[0;34m[\u001b[0m\u001b[0;34m'tweets.cnzbbvrrhst7.us-west-1.rds.amazonaws.com'\u001b[0m\u001b[0;34m]\u001b[0m\u001b[0;34m,\u001b[0m\u001b[0;34m\u001b[0m\u001b[0;34m\u001b[0m\u001b[0m\n",
            "\u001b[0;32m/usr/lib/python3.7/os.py\u001b[0m in \u001b[0;36m__getitem__\u001b[0;34m(self, key)\u001b[0m\n\u001b[1;32m    679\u001b[0m         \u001b[0;32mexcept\u001b[0m \u001b[0mKeyError\u001b[0m\u001b[0;34m:\u001b[0m\u001b[0;34m\u001b[0m\u001b[0;34m\u001b[0m\u001b[0m\n\u001b[1;32m    680\u001b[0m             \u001b[0;31m# raise KeyError with the original key value\u001b[0m\u001b[0;34m\u001b[0m\u001b[0;34m\u001b[0m\u001b[0;34m\u001b[0m\u001b[0m\n\u001b[0;32m--> 681\u001b[0;31m             \u001b[0;32mraise\u001b[0m \u001b[0mKeyError\u001b[0m\u001b[0;34m(\u001b[0m\u001b[0mkey\u001b[0m\u001b[0;34m)\u001b[0m \u001b[0;32mfrom\u001b[0m \u001b[0;32mNone\u001b[0m\u001b[0;34m\u001b[0m\u001b[0;34m\u001b[0m\u001b[0m\n\u001b[0m\u001b[1;32m    682\u001b[0m         \u001b[0;32mreturn\u001b[0m \u001b[0mself\u001b[0m\u001b[0;34m.\u001b[0m\u001b[0mdecodevalue\u001b[0m\u001b[0;34m(\u001b[0m\u001b[0mvalue\u001b[0m\u001b[0;34m)\u001b[0m\u001b[0;34m\u001b[0m\u001b[0;34m\u001b[0m\u001b[0m\n\u001b[1;32m    683\u001b[0m \u001b[0;34m\u001b[0m\u001b[0m\n",
            "\u001b[0;31mKeyError\u001b[0m: 'uatweets'"
          ]
        }
      ]
    },
    {
      "cell_type": "markdown",
      "source": [
        "The output of dataset.element_spec above, the element of the created Dataset is a python dict object with column names of the database table as keys. It is quite convenient to apply further operations. For example, you could select both nox and no2 field of the Dataset, and calculate the difference:"
      ],
      "metadata": {
        "id": "lIscAlVL9aFG"
      }
    },
    {
      "cell_type": "code",
      "source": [
        "dataset = tfio.experimental.IODataset.from_sql(\n",
        "    query=\"SELECT nox, no2 FROM AirQualityUCI;\",\n",
        "    endpoint=endpoint)\n",
        "\n",
        "dataset = dataset.map(lambda e: (e['nox'] - e['no2']))\n",
        "\n",
        "# check only the first 20 record\n",
        "dataset = dataset.take(20)\n",
        "\n",
        "print(\"NOx - NO2:\")\n",
        "for difference in dataset:\n",
        "  print(difference.numpy())"
      ],
      "metadata": {
        "id": "zigiXzn38kXh"
      },
      "execution_count": null,
      "outputs": []
    }
  ]
}