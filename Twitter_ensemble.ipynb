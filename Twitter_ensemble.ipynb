{
  "nbformat": 4,
  "nbformat_minor": 0,
  "metadata": {
    "colab": {
      "name": "Twitter_ensemble.ipynb",
      "provenance": [],
      "collapsed_sections": [],
      "authorship_tag": "ABX9TyMIbovtG/FnejsbNx66v9AX",
      "include_colab_link": true
    },
    "kernelspec": {
      "name": "python3",
      "display_name": "Python 3"
    },
    "language_info": {
      "name": "python"
    }
  },
  "cells": [
    {
      "cell_type": "markdown",
      "metadata": {
        "id": "view-in-github",
        "colab_type": "text"
      },
      "source": [
        "<a href=\"https://colab.research.google.com/github/aiscience-22/UA_War/blob/main/Twitter_ensemble.ipynb\" target=\"_parent\"><img src=\"https://colab.research.google.com/assets/colab-badge.svg\" alt=\"Open In Colab\"/></a>"
      ]
    },
    {
      "cell_type": "code",
      "execution_count": null,
      "metadata": {
        "id": "OPhWA1gGzjfb"
      },
      "outputs": [],
      "source": [
        "import warnings\n",
        "warnings.filterwarnings('ignore')"
      ]
    },
    {
      "cell_type": "code",
      "source": [
        "import numpy as np\n",
        "import pandas as pd\n",
        "from pathlib import Path\n",
        "from collections import Counter"
      ],
      "metadata": {
        "id": "45624S98zsbl"
      },
      "execution_count": null,
      "outputs": []
    },
    {
      "cell_type": "code",
      "source": [
        "from sklearn.metrics import balanced_accuracy_score\n",
        "from sklearn.metrics import confusion_matrix\n",
        "from imblearn.metrics import classification_report_imbalanced"
      ],
      "metadata": {
        "id": "Jj12KgRlztrf"
      },
      "execution_count": null,
      "outputs": []
    },
    {
      "cell_type": "markdown",
      "source": [
        "# Read the CSV and Perform Basic Data Cleaning"
      ],
      "metadata": {
        "id": "zCkXrETHz3fM"
      }
    },
    {
      "cell_type": "code",
      "source": [
        "columns = ['date', 'text', 'weight', 'negative', 'neutral', 'positive']\n",
        "target = ['sentiment']"
      ],
      "metadata": {
        "id": "SRC407hCz51F"
      },
      "execution_count": null,
      "outputs": []
    },
    {
      "cell_type": "code",
      "source": [
        "# Load the data\n",
        "file_path = Path(\"Resources/LoanStats_2019Q1.csv\")\n",
        "df = pd.read_csv(file_path, skiprows=1)[:-2]\n",
        "df = df.loc[:, columns].copy()\n",
        "\n",
        "# Drop the null columns where all values are null\n",
        "df = df.dropna(axis='columns', how='all')\n",
        "\n",
        "# Drop the null rows\n",
        "df = df.dropna()\n"
      ],
      "metadata": {
        "id": "TsXKUYZN1HOa"
      },
      "execution_count": null,
      "outputs": []
    },
    {
      "cell_type": "code",
      "source": [
        "# Remove the `Issued` loan status\n",
        "issued_mask = df['sentiment'] != 'Issued'\n",
        "df = df.loc[issued_mask]\n",
        "\n",
        "# convert text to text lenght\n",
        "df[\"text lengh\"] = df[\"text\"].str.len()\n",
        "\n",
        "# convert Negative and Positive to Sentiment\n",
        "\n",
        "# convert datetime to numerical?\n",
        "df['int_rate'] = df['int_rate'].str.replace('%', '')\n",
        "df['int_rate'] = df['int_rate'].astype('float') / 100\n",
        "\n",
        "\n",
        "# Convert the target column values sentiment to negative and positive based on their values\n",
        "x = {'Current': 'sentiment'}   \n",
        "df = df.replace(x)\n",
        "\n",
        "x = dict.fromkeys(['negative', 'neutral', 'positive'], 'sentiment')    \n",
        "df = df.replace(x)\n",
        "\n",
        "df.reset_index(inplace=True, drop=True)\n",
        "\n",
        "df.head()"
      ],
      "metadata": {
        "id": "hFi1Cllx1Sc_"
      },
      "execution_count": null,
      "outputs": []
    },
    {
      "cell_type": "markdown",
      "source": [
        "# Split the Data into Training and Testing"
      ],
      "metadata": {
        "id": "NEA3nf841ptV"
      }
    },
    {
      "cell_type": "code",
      "source": [
        "# Create our features\n",
        "X = pd.get_dummies(df.drop(columns='positive'))\n",
        "\n",
        "# Create our target\n",
        "y = df['positive']"
      ],
      "metadata": {
        "id": "Let-W9c-1ikJ"
      },
      "execution_count": null,
      "outputs": []
    },
    {
      "cell_type": "code",
      "source": [
        "X.describe()"
      ],
      "metadata": {
        "id": "gfbY8d3J12HU"
      },
      "execution_count": null,
      "outputs": []
    },
    {
      "cell_type": "code",
      "source": [
        "# Check the balance of our target values\n",
        "y.value_counts()"
      ],
      "metadata": {
        "id": "MEgpOY0J16PI"
      },
      "execution_count": null,
      "outputs": []
    },
    {
      "cell_type": "markdown",
      "source": [
        "# Ensemble Learners\n",
        "\n",
        "In this section, you will compare two ensemble algorithms to determine which algorithm results in the best performance. You will train a Balanced Random Forest Classifier and an Easy Ensemble AdaBoost classifier . For each algorithm, be sure to complete the folliowing steps:\n",
        "\n",
        "Train the model using the training data.\n",
        "Calculate the balanced accuracy score from sklearn.metrics.\n",
        "Print the confusion matrix from sklearn.metrics.\n",
        "Generate a classication report using the imbalanced_classification_report from imbalanced-learn.\n",
        "For the Balanced Random Forest Classifier onely, print the feature importance sorted in descending order (most important feature to least important) along with the feature score\n",
        "Note: Use a random state of 1 for each algorithm to ensure consistency between tests"
      ],
      "metadata": {
        "id": "sTopaKIa2Q8B"
      }
    },
    {
      "cell_type": "markdown",
      "source": [
        "# Balanced Random Forest Classifier"
      ],
      "metadata": {
        "id": "8HOS67jk2SUC"
      }
    },
    {
      "cell_type": "code",
      "source": [
        "# Resample the training data with the BalancedRandomForestClassifier\n",
        "from imblearn.ensemble import BalancedRandomForestClassifier\n",
        "rf_model = BalancedRandomForestClassifier(n_estimators =100, random_state=1).fit(X_train, y_train)"
      ],
      "metadata": {
        "id": "CFZ6rQSG1_bM"
      },
      "execution_count": null,
      "outputs": []
    },
    {
      "cell_type": "code",
      "source": [
        "# Calculated the balanced accuracy score\n",
        "from sklearn.metrics import balanced_accuracy_score\n",
        "y_pred = rf_model.predict(X_test)\n",
        "balanced_accuracy_score(y_test, y_pred)"
      ],
      "metadata": {
        "id": "EHP3ZWJa2iS6"
      },
      "execution_count": null,
      "outputs": []
    },
    {
      "cell_type": "code",
      "source": [
        "# Display the confusion matrix\n",
        "from sklearn.metrics import confusion_matrix\n",
        "confusion_matrix(y_test, y_pred)"
      ],
      "metadata": {
        "id": "FVp-YDpk2nzz"
      },
      "execution_count": null,
      "outputs": []
    },
    {
      "cell_type": "code",
      "source": [
        "# Print the imbalanced classification report\n",
        "from imblearn.metrics import classification_report_imbalanced\n",
        "print(classification_report_imbalanced(y_test, y_pred))"
      ],
      "metadata": {
        "id": "7EesASgq2sEw"
      },
      "execution_count": null,
      "outputs": []
    },
    {
      "cell_type": "code",
      "source": [
        "# List the features sorted in descending order by feature importance\n",
        "priority_features = pd.Series(data=rf_model.feature_importances_,index=X.columns)\n",
        "priority_features.sort_values(ascending=False,inplace=True)\n",
        "print(priority_features)"
      ],
      "metadata": {
        "id": "9Wu883a83U_C"
      },
      "execution_count": null,
      "outputs": []
    },
    {
      "cell_type": "markdown",
      "source": [
        "# Easy Ensemble AdaBoost Classifier"
      ],
      "metadata": {
        "id": "rbb3jZDf3hES"
      }
    },
    {
      "cell_type": "code",
      "source": [
        "# Train the EasyEnsembleClassifier\n",
        "from imblearn.ensemble import EasyEnsembleClassifier \n",
        "eec_model = EasyEnsembleClassifier(n_estimators =100, random_state=1).fit(X_train, y_train)"
      ],
      "metadata": {
        "id": "xjnKcCPz3iFG"
      },
      "execution_count": null,
      "outputs": []
    },
    {
      "cell_type": "code",
      "source": [
        "# Calculated the balanced accuracy score\n",
        "y_pred = eec_model.predict(X_test)\n",
        "balanced_accuracy_score(y_test, y_pred)"
      ],
      "metadata": {
        "id": "i1cj8xVI3l7p"
      },
      "execution_count": null,
      "outputs": []
    },
    {
      "cell_type": "code",
      "source": [
        "# Display the confusion matrix\n",
        "confusion_matrix(y_test, y_pred)"
      ],
      "metadata": {
        "id": "pPQLc_Qf3o9h"
      },
      "execution_count": null,
      "outputs": []
    },
    {
      "cell_type": "code",
      "source": [
        "# Print the imbalanced classification report\n",
        "print(classification_report_imbalanced(y_test, y_pred))"
      ],
      "metadata": {
        "id": "MlYcoYBS37F5"
      },
      "execution_count": null,
      "outputs": []
    }
  ]
}