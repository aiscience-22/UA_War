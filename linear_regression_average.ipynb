{
  "nbformat": 4,
  "nbformat_minor": 0,
  "metadata": {
    "colab": {
      "provenance": [],
      "collapsed_sections": [],
      "authorship_tag": "ABX9TyPtLke5VdlRpTt+9umoLnYi",
      "include_colab_link": true
    },
    "kernelspec": {
      "name": "python3",
      "display_name": "Python 3"
    },
    "language_info": {
      "name": "python"
    }
  },
  "cells": [
    {
      "cell_type": "markdown",
      "metadata": {
        "id": "view-in-github",
        "colab_type": "text"
      },
      "source": [
        "<a href=\"https://colab.research.google.com/github/aiscience-22/UA_War/blob/olgap%2Fmachine_learning_0.04/linear_regression_average.ipynb\" target=\"_parent\"><img src=\"https://colab.research.google.com/assets/colab-badge.svg\" alt=\"Open In Colab\"/></a>"
      ]
    },
    {
      "cell_type": "code",
      "execution_count": 1,
      "metadata": {
        "id": "OPhWA1gGzjfb"
      },
      "outputs": [],
      "source": [
        "import os\n",
        "import pandas as pd\n",
        "import matplotlib.pyplot as plt\n",
        "from sklearn.linear_model import LinearRegression"
      ]
    },
    {
      "cell_type": "code",
      "source": [
        "spark_version = 'spark-3.2.2'\n",
        "os.environ['SPARK_VERSION']=spark_version\n",
        "\n",
        "# Install Spark and Java\n",
        "!apt-get update\n",
        "!apt-get install openjdk-11-jdk-headless -qq > /dev/null\n",
        "!wget -q http://www.apache.org/dist/spark/$SPARK_VERSION/$SPARK_VERSION-bin-hadoop2.7.tgz\n",
        "!tar xf $SPARK_VERSION-bin-hadoop2.7.tgz\n",
        "!pip install -q findspark\n",
        "\n",
        "# Set Environment Variables\n",
        "os.environ[\"JAVA_HOME\"] = \"/usr/lib/jvm/java-11-openjdk-amd64\"\n",
        "os.environ[\"SPARK_HOME\"] = f\"/content/{spark_version}-bin-hadoop2.7\"\n",
        "\n",
        "# Start a SparkSession\n",
        "import findspark\n",
        "findspark.init()"
      ],
      "metadata": {
        "id": "45624S98zsbl",
        "outputId": "4474eca8-09b9-4beb-dcba-998c40780892",
        "colab": {
          "base_uri": "https://localhost:8080/"
        }
      },
      "execution_count": 2,
      "outputs": [
        {
          "output_type": "stream",
          "name": "stdout",
          "text": [
            "\r0% [Working]\r            \rGet:1 http://security.ubuntu.com/ubuntu bionic-security InRelease [88.7 kB]\n",
            "\r0% [Connecting to archive.ubuntu.com (91.189.91.38)] [1 InRelease 14.2 kB/88.7 \r                                                                               \rHit:2 http://ppa.launchpad.net/c2d4u.team/c2d4u4.0+/ubuntu bionic InRelease\n",
            "\r0% [Connecting to archive.ubuntu.com (91.189.91.38)] [1 InRelease 70.6 kB/88.7 \r                                                                               \rHit:3 http://ppa.launchpad.net/cran/libgit2/ubuntu bionic InRelease\n",
            "\r0% [Connecting to archive.ubuntu.com (91.189.91.38)] [1 InRelease 70.6 kB/88.7 \r0% [2 InRelease gpgv 15.9 kB] [Connecting to archive.ubuntu.com (91.189.91.38)]\r0% [2 InRelease gpgv 15.9 kB] [Connecting to archive.ubuntu.com (91.189.91.38)]\r                                                                               \rHit:4 http://ppa.launchpad.net/deadsnakes/ppa/ubuntu bionic InRelease\n",
            "\r0% [2 InRelease gpgv 15.9 kB] [Connecting to archive.ubuntu.com (91.189.91.38)]\r                                                                               \rHit:5 http://ppa.launchpad.net/graphics-drivers/ppa/ubuntu bionic InRelease\n",
            "Get:6 https://cloud.r-project.org/bin/linux/ubuntu bionic-cran40/ InRelease [3,626 B]\n",
            "Hit:7 http://archive.ubuntu.com/ubuntu bionic InRelease\n",
            "Get:8 http://archive.ubuntu.com/ubuntu bionic-updates InRelease [88.7 kB]\n",
            "Ign:9 https://developer.download.nvidia.com/compute/machine-learning/repos/ubuntu1804/x86_64  InRelease\n",
            "Hit:10 https://developer.download.nvidia.com/compute/cuda/repos/ubuntu1804/x86_64  InRelease\n",
            "Hit:11 https://developer.download.nvidia.com/compute/machine-learning/repos/ubuntu1804/x86_64  Release\n",
            "Get:12 http://archive.ubuntu.com/ubuntu bionic-backports InRelease [74.6 kB]\n",
            "Get:13 http://security.ubuntu.com/ubuntu bionic-security/restricted amd64 Packages [1,121 kB]\n",
            "Get:14 http://security.ubuntu.com/ubuntu bionic-security/universe amd64 Packages [1,540 kB]\n",
            "Get:15 http://security.ubuntu.com/ubuntu bionic-security/main amd64 Packages [2,959 kB]\n",
            "Get:17 http://archive.ubuntu.com/ubuntu bionic-updates/main amd64 Packages [3,390 kB]\n",
            "Get:18 http://archive.ubuntu.com/ubuntu bionic-updates/restricted amd64 Packages [1,162 kB]\n",
            "Fetched 10.4 MB in 3s (3,046 kB/s)\n",
            "Reading package lists... Done\n"
          ]
        }
      ]
    },
    {
      "cell_type": "code",
      "source": [
        "# Add drivers to Spark\n",
        "from pyspark.sql import SparkSession\n",
        "spark = SparkSession.builder.appName(\"CloudETL\").config(\"spark.driver.extraClassPath\",\"/content/postgresql-42.2.16.jar\").getOrCreate()"
      ],
      "metadata": {
        "id": "4cJ9bkQfazVd"
      },
      "execution_count": 3,
      "outputs": []
    },
    {
      "cell_type": "markdown",
      "source": [
        "# Read the CSV and Perform Basic Data Cleaning"
      ],
      "metadata": {
        "id": "zCkXrETHz3fM"
      }
    },
    {
      "cell_type": "code",
      "source": [
        "# Read in data from S3 Buckets\n",
        "from pyspark import SparkFiles\n",
        "url =\"https://aiscience22.s3.us-west-1.amazonaws.com/joined.csv\"\n",
        "\n",
        "spark.sparkContext.addFile(url)\n",
        "text_df = spark.read.csv(SparkFiles.get(\"joined.csv\"), sep=\",\", header=True, inferSchema=True)\n",
        "\n",
        "\n",
        "# Show DataFrame\n",
        "text_df.show()"
      ],
      "metadata": {
        "colab": {
          "base_uri": "https://localhost:8080/"
        },
        "id": "E4i71sMR0D-v",
        "outputId": "6844f77d-871f-43b2-81e6-ff96f9b6ef04"
      },
      "execution_count": 17,
      "outputs": [
        {
          "output_type": "stream",
          "name": "stdout",
          "text": [
            "+-------------+---------+---------+-----------+-------------+--------------+------------+--------------------+--------+--------------+-----------+----------+---------------+----------+--------------------+-----------+-----------+-----------+--------------+----------+\n",
            "|     username|following|followers|totaltweets|usercreatedts|tweetcreatedts|retweetcount|            hashtags|language|favorite_count|extractedts|is_retweet|is_quote_status|weekofyear|        cleaned_text|   negative|    neutral|   positive|search_results|    weight|\n",
            "+-------------+---------+---------+-----------+-------------+--------------+------------+--------------------+--------+--------------+-----------+----------+---------------+----------+--------------------+-----------+-----------+-----------+--------------+----------+\n",
            "|     Theo1001|      312|      123|      38156|   2008-05-14|    2022-04-22|          67|[{''text'': ''Sta...|      en|             0| 2022-04-22|      true|          false|        16|thank you sir we ...|0.010234239|0.719316363| 0.27044937|        196000|9.84925E-4|\n",
            "|      ereguly|     4787|     9149|      22818|   2008-12-31|    2022-04-24|           3|[{''text'': ''LeP...|      en|             5| 2022-04-24|     false|           true|        16|of course pas de ...|0.004823362|0.675432563| 0.31974408|         94500|4.74874E-4|\n",
            "| davidgodfrey|     5003|      464|      44931|   2008-10-12|    2022-04-24|          97|[{''text'': ''Mar...|      en|             0| 2022-04-24|      true|          false|        16|no corridors from...|0.018234028|0.883308649|0.098457314|         94500|4.74874E-4|\n",
            "|     cazacioc|     1712|     1019|      38691|   2008-12-06|    2022-04-24|         500|[{''text'': ''Sla...|      en|             0| 2022-04-24|      true|          false|        16|           thank you| 0.16979149|0.608387113|0.221821398|         94500|4.74874E-4|\n",
            "|Daily_Express|      761|   935851|    1066678|   2008-12-05|    2022-04-22|           0|[{''text'': ''Ukr...|      en|             2| 2022-04-22|     false|          false|        16|president biden u...| 0.15694426|0.766128123|0.076927625|        196000|9.84925E-4|\n",
            "|          hrw|    21249|  4944152|     126522|   2008-05-08|    2022-04-29|           7|[{''text'': ''Ukr...|      en|             0| 2022-04-29|      true|          false|        17|refugees from in ...|0.793118954|0.200591654|0.006289432|        165000|8.29146E-4|\n",
            "|   berrysname|     2831|     2161|     220797|   2008-09-07|    2022-04-29|         465|                  []|      en|             0| 2022-04-29|      true|          false|        17|the house passed ...| 0.04640222|0.323074758|0.630523026|        165000|8.29146E-4|\n",
            "|ScottLucas_EA|     5906|    11359|     147336|   2008-11-07|    2022-04-29|           0|[{''text'': ''Rus...|      en|             1| 2022-04-29|     false|           true|        17|uk military intel...|0.954946578|0.042540386|0.002512994|        165000|8.29146E-4|\n",
            "|      bracing|     3855|     1011|     336843|   2008-10-03|    2022-04-29|           7|[{''text'': ''Ukr...|      en|             0| 2022-04-29|      true|          false|        17|refugees from in ...|0.626249135|0.361375868| 0.01237498|        165000|8.29146E-4|\n",
            "|    greenpost|     4855|     4844|     105605|   2008-04-23|    2022-04-29|         121|                  []|      en|             0| 2022-04-29|      true|          false|        17|using multispectr...|0.004727311|0.816613853|0.178658798|        165000|8.29146E-4|\n",
            "|    greenpost|     4855|     4844|     105605|   2008-04-23|    2022-04-29|         130|                  []|      en|             0| 2022-04-29|      true|          false|        17|satellite imagery...|0.022478318|0.345644444|0.631877244|        165000|8.29146E-4|\n",
            "|    greenpost|     4855|     4844|     105613|   2008-04-23|    2022-04-29|         131|[{''text'': ''sat...|      en|             0| 2022-04-29|      true|          false|        17|in these before a...| 0.12595892|0.549196601| 0.32484445|        165000|8.29146E-4|\n",
            "|     aharring|     2393|     2247|      56768|   2008-10-25|    2022-04-29|           0|[{''text'': ''USA...|      en|             0| 2022-04-29|     false|           true|        17|trotting down the...| 0.01327248|0.795731664|0.190995812|        165000|8.29146E-4|\n",
            "|    greenpost|     4855|     4844|     105613|   2008-04-23|    2022-04-29|          99|[{''text'': ''sat...|      en|             0| 2022-04-29|      true|          false|        17|march  taken at 1...| 0.12595892|0.549196601| 0.32484445|        165000|8.29146E-4|\n",
            "|    greenpost|     4855|     4844|     105613|   2008-04-23|    2022-04-29|          78|[{''text'': ''sat...|      en|             0| 2022-04-29|      true|          false|        17|our latest imager...|0.782127023|0.209975347|0.007897621|        165000|8.29146E-4|\n",
            "|     KyivPost|     1573|   375642|      57320|   2008-03-09|    2022-04-29|          26|[{''text'': ''Rus...|      en|           103| 2022-04-29|     false|          false|        17|as part of an exc...|0.011635874|0.914978385|0.073385715|        165000|8.29146E-4|\n",
            "|      Tz_akgt|     1466|     2102|     120243|   2007-09-13|    2022-04-23|        1038|[{''text'': ''Ukr...|      en|             0| 2022-04-23|      true|          false|        16|the star among al...|0.484800726|0.431464285|0.083734967|        148000|7.43719E-4|\n",
            "|      tomwi76|      107|       42|       8543|   2008-12-18|    2022-04-24|        4784|[{''text'': ''Ukr...|      en|             0| 2022-04-24|      true|          false|        16|the star among al...| 0.12595892|0.549196601| 0.32484445|         94500|4.74874E-4|\n",
            "|    gploosley|      631|     1534|       5258|   2008-11-24|    2022-04-23|        1391|[{''text'': ''Ukr...|      en|             0| 2022-04-23|      true|          false|        16|the star among al...|0.684337974|0.277644992|0.038017016|        148000|7.43719E-4|\n",
            "|     EURACTIV|      823|   145623|      77059|   2008-05-17|    2022-04-29|           2|[{''text'': ''Ukr...|      en|             4| 2022-04-29|     false|          false|        17|romania moves to ...|0.432866305|0.497324497|0.069809228|        165000|8.29146E-4|\n",
            "+-------------+---------+---------+-----------+-------------+--------------+------------+--------------------+--------+--------------+-----------+----------+---------------+----------+--------------------+-----------+-----------+-----------+--------------+----------+\n",
            "only showing top 20 rows\n",
            "\n"
          ]
        }
      ]
    },
    {
      "cell_type": "code",
      "source": [
        "# convert spark dataframe to pandas\n",
        "joined_data_df = text_df.toPandas()\n",
        "joined_data_df.head(5)\n",
        "\n",
        "\n"
      ],
      "metadata": {
        "id": "hFi1Cllx1Sc_",
        "colab": {
          "base_uri": "https://localhost:8080/",
          "height": 489
        },
        "outputId": "0ca3a6d5-a0a8-42e4-b6a6-fe8aa7617ea2"
      },
      "execution_count": 18,
      "outputs": [
        {
          "output_type": "execute_result",
          "data": {
            "text/plain": [
              "        username  following  followers  totaltweets usercreatedts  \\\n",
              "0       Theo1001        312        123        38156    2008-05-14   \n",
              "1        ereguly       4787       9149        22818    2008-12-31   \n",
              "2   davidgodfrey       5003        464        44931    2008-10-12   \n",
              "3       cazacioc       1712       1019        38691    2008-12-06   \n",
              "4  Daily_Express        761     935851      1066678    2008-12-05   \n",
              "\n",
              "  tweetcreatedts  retweetcount  \\\n",
              "0     2022-04-22            67   \n",
              "1     2022-04-24             3   \n",
              "2     2022-04-24            97   \n",
              "3     2022-04-24           500   \n",
              "4     2022-04-22             0   \n",
              "\n",
              "                                            hashtags language  favorite_count  \\\n",
              "0  [{''text'': ''StandWithUkraine'', ''indices'':...       en               0   \n",
              "1  [{''text'': ''LePen'', ''indices'': [28, 34]},...       en               5   \n",
              "2  [{''text'': ''Mariupol'', ''indices'': [36, 45]}]       en               0   \n",
              "3  [{''text'': ''SlavaUkraini'', ''indices'': [30...       en               0   \n",
              "4   [{''text'': ''Ukraine'', ''indices'': [63, 71]}]       en               2   \n",
              "\n",
              "  extractedts  is_retweet  is_quote_status  weekofyear  \\\n",
              "0  2022-04-22        True            False          16   \n",
              "1  2022-04-24       False             True          16   \n",
              "2  2022-04-24        True            False          16   \n",
              "3  2022-04-24        True            False          16   \n",
              "4  2022-04-22       False            False          16   \n",
              "\n",
              "                                        cleaned_text  negative   neutral  \\\n",
              "0  thank you sir we will not forget those who con...  0.010234  0.719316   \n",
              "1  of course pas de surprise tainted by her close...  0.004823  0.675433   \n",
              "2  no corridors from again russians did not allow...  0.018234  0.883309   \n",
              "3                                          thank you  0.169791  0.608387   \n",
              "4  president biden unveils m worth of military as...  0.156944  0.766128   \n",
              "\n",
              "   positive  search_results    weight  \n",
              "0  0.270449        196000.0  0.000985  \n",
              "1  0.319744         94500.0  0.000475  \n",
              "2  0.098457         94500.0  0.000475  \n",
              "3  0.221821         94500.0  0.000475  \n",
              "4  0.076928        196000.0  0.000985  "
            ],
            "text/html": [
              "\n",
              "  <div id=\"df-622f5af5-f47f-4f26-b7e7-c87a6c17ae64\">\n",
              "    <div class=\"colab-df-container\">\n",
              "      <div>\n",
              "<style scoped>\n",
              "    .dataframe tbody tr th:only-of-type {\n",
              "        vertical-align: middle;\n",
              "    }\n",
              "\n",
              "    .dataframe tbody tr th {\n",
              "        vertical-align: top;\n",
              "    }\n",
              "\n",
              "    .dataframe thead th {\n",
              "        text-align: right;\n",
              "    }\n",
              "</style>\n",
              "<table border=\"1\" class=\"dataframe\">\n",
              "  <thead>\n",
              "    <tr style=\"text-align: right;\">\n",
              "      <th></th>\n",
              "      <th>username</th>\n",
              "      <th>following</th>\n",
              "      <th>followers</th>\n",
              "      <th>totaltweets</th>\n",
              "      <th>usercreatedts</th>\n",
              "      <th>tweetcreatedts</th>\n",
              "      <th>retweetcount</th>\n",
              "      <th>hashtags</th>\n",
              "      <th>language</th>\n",
              "      <th>favorite_count</th>\n",
              "      <th>extractedts</th>\n",
              "      <th>is_retweet</th>\n",
              "      <th>is_quote_status</th>\n",
              "      <th>weekofyear</th>\n",
              "      <th>cleaned_text</th>\n",
              "      <th>negative</th>\n",
              "      <th>neutral</th>\n",
              "      <th>positive</th>\n",
              "      <th>search_results</th>\n",
              "      <th>weight</th>\n",
              "    </tr>\n",
              "  </thead>\n",
              "  <tbody>\n",
              "    <tr>\n",
              "      <th>0</th>\n",
              "      <td>Theo1001</td>\n",
              "      <td>312</td>\n",
              "      <td>123</td>\n",
              "      <td>38156</td>\n",
              "      <td>2008-05-14</td>\n",
              "      <td>2022-04-22</td>\n",
              "      <td>67</td>\n",
              "      <td>[{''text'': ''StandWithUkraine'', ''indices'':...</td>\n",
              "      <td>en</td>\n",
              "      <td>0</td>\n",
              "      <td>2022-04-22</td>\n",
              "      <td>True</td>\n",
              "      <td>False</td>\n",
              "      <td>16</td>\n",
              "      <td>thank you sir we will not forget those who con...</td>\n",
              "      <td>0.010234</td>\n",
              "      <td>0.719316</td>\n",
              "      <td>0.270449</td>\n",
              "      <td>196000.0</td>\n",
              "      <td>0.000985</td>\n",
              "    </tr>\n",
              "    <tr>\n",
              "      <th>1</th>\n",
              "      <td>ereguly</td>\n",
              "      <td>4787</td>\n",
              "      <td>9149</td>\n",
              "      <td>22818</td>\n",
              "      <td>2008-12-31</td>\n",
              "      <td>2022-04-24</td>\n",
              "      <td>3</td>\n",
              "      <td>[{''text'': ''LePen'', ''indices'': [28, 34]},...</td>\n",
              "      <td>en</td>\n",
              "      <td>5</td>\n",
              "      <td>2022-04-24</td>\n",
              "      <td>False</td>\n",
              "      <td>True</td>\n",
              "      <td>16</td>\n",
              "      <td>of course pas de surprise tainted by her close...</td>\n",
              "      <td>0.004823</td>\n",
              "      <td>0.675433</td>\n",
              "      <td>0.319744</td>\n",
              "      <td>94500.0</td>\n",
              "      <td>0.000475</td>\n",
              "    </tr>\n",
              "    <tr>\n",
              "      <th>2</th>\n",
              "      <td>davidgodfrey</td>\n",
              "      <td>5003</td>\n",
              "      <td>464</td>\n",
              "      <td>44931</td>\n",
              "      <td>2008-10-12</td>\n",
              "      <td>2022-04-24</td>\n",
              "      <td>97</td>\n",
              "      <td>[{''text'': ''Mariupol'', ''indices'': [36, 45]}]</td>\n",
              "      <td>en</td>\n",
              "      <td>0</td>\n",
              "      <td>2022-04-24</td>\n",
              "      <td>True</td>\n",
              "      <td>False</td>\n",
              "      <td>16</td>\n",
              "      <td>no corridors from again russians did not allow...</td>\n",
              "      <td>0.018234</td>\n",
              "      <td>0.883309</td>\n",
              "      <td>0.098457</td>\n",
              "      <td>94500.0</td>\n",
              "      <td>0.000475</td>\n",
              "    </tr>\n",
              "    <tr>\n",
              "      <th>3</th>\n",
              "      <td>cazacioc</td>\n",
              "      <td>1712</td>\n",
              "      <td>1019</td>\n",
              "      <td>38691</td>\n",
              "      <td>2008-12-06</td>\n",
              "      <td>2022-04-24</td>\n",
              "      <td>500</td>\n",
              "      <td>[{''text'': ''SlavaUkraini'', ''indices'': [30...</td>\n",
              "      <td>en</td>\n",
              "      <td>0</td>\n",
              "      <td>2022-04-24</td>\n",
              "      <td>True</td>\n",
              "      <td>False</td>\n",
              "      <td>16</td>\n",
              "      <td>thank you</td>\n",
              "      <td>0.169791</td>\n",
              "      <td>0.608387</td>\n",
              "      <td>0.221821</td>\n",
              "      <td>94500.0</td>\n",
              "      <td>0.000475</td>\n",
              "    </tr>\n",
              "    <tr>\n",
              "      <th>4</th>\n",
              "      <td>Daily_Express</td>\n",
              "      <td>761</td>\n",
              "      <td>935851</td>\n",
              "      <td>1066678</td>\n",
              "      <td>2008-12-05</td>\n",
              "      <td>2022-04-22</td>\n",
              "      <td>0</td>\n",
              "      <td>[{''text'': ''Ukraine'', ''indices'': [63, 71]}]</td>\n",
              "      <td>en</td>\n",
              "      <td>2</td>\n",
              "      <td>2022-04-22</td>\n",
              "      <td>False</td>\n",
              "      <td>False</td>\n",
              "      <td>16</td>\n",
              "      <td>president biden unveils m worth of military as...</td>\n",
              "      <td>0.156944</td>\n",
              "      <td>0.766128</td>\n",
              "      <td>0.076928</td>\n",
              "      <td>196000.0</td>\n",
              "      <td>0.000985</td>\n",
              "    </tr>\n",
              "  </tbody>\n",
              "</table>\n",
              "</div>\n",
              "      <button class=\"colab-df-convert\" onclick=\"convertToInteractive('df-622f5af5-f47f-4f26-b7e7-c87a6c17ae64')\"\n",
              "              title=\"Convert this dataframe to an interactive table.\"\n",
              "              style=\"display:none;\">\n",
              "        \n",
              "  <svg xmlns=\"http://www.w3.org/2000/svg\" height=\"24px\"viewBox=\"0 0 24 24\"\n",
              "       width=\"24px\">\n",
              "    <path d=\"M0 0h24v24H0V0z\" fill=\"none\"/>\n",
              "    <path d=\"M18.56 5.44l.94 2.06.94-2.06 2.06-.94-2.06-.94-.94-2.06-.94 2.06-2.06.94zm-11 1L8.5 8.5l.94-2.06 2.06-.94-2.06-.94L8.5 2.5l-.94 2.06-2.06.94zm10 10l.94 2.06.94-2.06 2.06-.94-2.06-.94-.94-2.06-.94 2.06-2.06.94z\"/><path d=\"M17.41 7.96l-1.37-1.37c-.4-.4-.92-.59-1.43-.59-.52 0-1.04.2-1.43.59L10.3 9.45l-7.72 7.72c-.78.78-.78 2.05 0 2.83L4 21.41c.39.39.9.59 1.41.59.51 0 1.02-.2 1.41-.59l7.78-7.78 2.81-2.81c.8-.78.8-2.07 0-2.86zM5.41 20L4 18.59l7.72-7.72 1.47 1.35L5.41 20z\"/>\n",
              "  </svg>\n",
              "      </button>\n",
              "      \n",
              "  <style>\n",
              "    .colab-df-container {\n",
              "      display:flex;\n",
              "      flex-wrap:wrap;\n",
              "      gap: 12px;\n",
              "    }\n",
              "\n",
              "    .colab-df-convert {\n",
              "      background-color: #E8F0FE;\n",
              "      border: none;\n",
              "      border-radius: 50%;\n",
              "      cursor: pointer;\n",
              "      display: none;\n",
              "      fill: #1967D2;\n",
              "      height: 32px;\n",
              "      padding: 0 0 0 0;\n",
              "      width: 32px;\n",
              "    }\n",
              "\n",
              "    .colab-df-convert:hover {\n",
              "      background-color: #E2EBFA;\n",
              "      box-shadow: 0px 1px 2px rgba(60, 64, 67, 0.3), 0px 1px 3px 1px rgba(60, 64, 67, 0.15);\n",
              "      fill: #174EA6;\n",
              "    }\n",
              "\n",
              "    [theme=dark] .colab-df-convert {\n",
              "      background-color: #3B4455;\n",
              "      fill: #D2E3FC;\n",
              "    }\n",
              "\n",
              "    [theme=dark] .colab-df-convert:hover {\n",
              "      background-color: #434B5C;\n",
              "      box-shadow: 0px 1px 3px 1px rgba(0, 0, 0, 0.15);\n",
              "      filter: drop-shadow(0px 1px 2px rgba(0, 0, 0, 0.3));\n",
              "      fill: #FFFFFF;\n",
              "    }\n",
              "  </style>\n",
              "\n",
              "      <script>\n",
              "        const buttonEl =\n",
              "          document.querySelector('#df-622f5af5-f47f-4f26-b7e7-c87a6c17ae64 button.colab-df-convert');\n",
              "        buttonEl.style.display =\n",
              "          google.colab.kernel.accessAllowed ? 'block' : 'none';\n",
              "\n",
              "        async function convertToInteractive(key) {\n",
              "          const element = document.querySelector('#df-622f5af5-f47f-4f26-b7e7-c87a6c17ae64');\n",
              "          const dataTable =\n",
              "            await google.colab.kernel.invokeFunction('convertToInteractive',\n",
              "                                                     [key], {});\n",
              "          if (!dataTable) return;\n",
              "\n",
              "          const docLinkHtml = 'Like what you see? Visit the ' +\n",
              "            '<a target=\"_blank\" href=https://colab.research.google.com/notebooks/data_table.ipynb>data table notebook</a>'\n",
              "            + ' to learn more about interactive tables.';\n",
              "          element.innerHTML = '';\n",
              "          dataTable['output_type'] = 'display_data';\n",
              "          await google.colab.output.renderOutput(dataTable, element);\n",
              "          const docLink = document.createElement('div');\n",
              "          docLink.innerHTML = docLinkHtml;\n",
              "          element.appendChild(docLink);\n",
              "        }\n",
              "      </script>\n",
              "    </div>\n",
              "  </div>\n",
              "  "
            ]
          },
          "metadata": {},
          "execution_count": 18
        }
      ]
    },
    {
      "cell_type": "markdown",
      "source": [
        "# Explore the data if nothing lost"
      ],
      "metadata": {
        "id": "PDRBYqOKTfPx"
      }
    },
    {
      "cell_type": "code",
      "source": [
        "earliest_tweet = joined_data_df[\"tweetcreatedts\"].min()\n",
        "latest_tweet = joined_data_df[\"tweetcreatedts\"].max()\n",
        "\n",
        "print(f\"The earliest tweet was at {earliest_tweet}, and the latest was at {latest_tweet}\")"
      ],
      "metadata": {
        "colab": {
          "base_uri": "https://localhost:8080/"
        },
        "id": "9tIz45PCTai6",
        "outputId": "c7530149-ae26-4053-b180-02dec7af92ec"
      },
      "execution_count": 7,
      "outputs": [
        {
          "output_type": "stream",
          "name": "stdout",
          "text": [
            "The earliest tweet was at 2022-04-22, and the latest was at 2022-08-18\n"
          ]
        }
      ]
    },
    {
      "cell_type": "code",
      "source": [
        "from pandas.core.arrays.datetimelike import DatetimeLikeScalar\n",
        "from numpy.core.multiarray import datetime_as_string\n",
        "#Get the plot of tweet count by date \n",
        "dates = joined_data_df[\"tweetcreatedts\"]\n",
        "\n",
        "# group tweet timestamps by date and get tweet count for each date\n",
        "tweetcount_by_date = joined_data_df[\"tweetcreatedts\"].groupby(dates).size()\n",
        "\n",
        "# plot bar graph of tweet count by date\n",
        "tweetcount_by_date.plot.bar();\n",
        "\n",
        "plt.title(\"February Tweet Count by Date\")\n",
        "plt.xlabel(\"Tweet Date\")\n",
        "plt.ylabel(\"Tweet Count\")\n",
        "plt.xticks(rotation=45)\n",
        "plt.show()"
      ],
      "metadata": {
        "colab": {
          "base_uri": "https://localhost:8080/",
          "height": 333
        },
        "id": "uMATbtKNT-Ja",
        "outputId": "19688d4c-743f-444b-9e6a-3e39f66a2e9c"
      },
      "execution_count": 9,
      "outputs": [
        {
          "output_type": "display_data",
          "data": {
            "text/plain": [
              "<Figure size 432x288 with 1 Axes>"
            ],
            "image/png": "[encoded data removed]"
          },
          "metadata": {
            "needs_background": "light"
          }
        }
      ]
    },
    {
      "cell_type": "code",
      "source": [
        "#Get the plot of negative score by date of tweet\n",
        "negative_df = joined_data_df[['tweetcreatedts', 'negative']]\n",
        "\n",
        "negative_by_date = negative_df.groupby([negative_df['tweetcreatedts']]).mean()\n",
        "\n",
        "# plot bar graph of tweet count by date\n",
        "negative_by_date.plot.line();\n",
        "\n",
        "plt.title(\"Negative Tweet Sentiments by Date\")\n",
        "plt.xlabel(\"Tweet Date\")\n",
        "plt.ylabel(\"Negative Sentiment\")\n",
        "plt.xticks(rotation=45)\n",
        "plt.show()\n"
      ],
      "metadata": {
        "colab": {
          "base_uri": "https://localhost:8080/",
          "height": 333
        },
        "id": "9oE0hS5fT2Gp",
        "outputId": "1d2aaba0-c7c3-4b80-addb-e8468b7a614a"
      },
      "execution_count": 8,
      "outputs": [
        {
          "output_type": "display_data",
          "data": {
            "text/plain": [
              "<Figure size 432x288 with 1 Axes>"
            ],
            "image/png": "[encoded data removed]"
          },
          "metadata": {
            "needs_background": "light"
          }
        }
      ]
    },
    {
      "cell_type": "code",
      "source": [
        "#Get the plot of day weight by date\n",
        "joined_data_df.plot.line(x='tweetcreatedts', y='weight');\n",
        "\n",
        "plt.title(\"Weight by Date\")\n",
        "plt.xlabel(\"Date\")\n",
        "plt.ylabel(\"Weight\")\n",
        "plt.xticks(rotation=45)\n",
        "plt.yticks(rotation=0)\n",
        "plt.show()"
      ],
      "metadata": {
        "colab": {
          "base_uri": "https://localhost:8080/",
          "height": 333
        },
        "id": "fwqwMpVPUD51",
        "outputId": "f74ac20f-fdea-44a8-d31e-fe30f2354190"
      },
      "execution_count": 10,
      "outputs": [
        {
          "output_type": "display_data",
          "data": {
            "text/plain": [
              "<Figure size 432x288 with 1 Axes>"
            ],
            "image/png": "[encoded data removed]"
          },
          "metadata": {
            "needs_background": "light"
          }
        }
      ]
    },
    {
      "cell_type": "markdown",
      "source": [
        "# Cleaning and converting the data"
      ],
      "metadata": {
        "id": "30kKvD5XUJ2F"
      }
    },
    {
      "cell_type": "code",
      "source": [
        "# Drop the not needed column\n",
        "joined_data_df.drop(\"username\", axis=1, inplace=True)\n",
        "joined_data_df.drop(\"usercreatedts\", axis=1, inplace=True)\n",
        "joined_data_df.drop(\"language\", axis=1, inplace=True)\n",
        "joined_data_df.drop(\"favorite_count\", axis=1, inplace=True)\n",
        "joined_data_df.drop(\"extractedts\", axis=1, inplace=True)\n",
        "joined_data_df.drop(\"weekofyear\", axis=1, inplace=True)\n",
        "joined_data_df.drop(\"neutral\", axis=1, inplace=True)\n",
        "joined_data_df.drop(\"positive\", axis=1, inplace=True)\n",
        "joined_data_df.drop(\"search_results\", axis=1, inplace=True)\n",
        "joined_data_df.drop(\"retweetcount\", axis=1, inplace=True)\n",
        "joined_data_df.drop(\"hashtags\", axis=1, inplace=True)"
      ],
      "metadata": {
        "id": "65XyPIB_UMMP"
      },
      "execution_count": 19,
      "outputs": []
    },
    {
      "cell_type": "code",
      "source": [
        "# convert text to text lenght and drop the text\n",
        "joined_data_df['text_length']  = joined_data_df['cleaned_text'].str.len()\n",
        "joined_data_df.drop(\"cleaned_text\", axis=1, inplace=True)"
      ],
      "metadata": {
        "id": "1YFdb8AcUirW"
      },
      "execution_count": 20,
      "outputs": []
    },
    {
      "cell_type": "code",
      "source": [
        "# Replace boolean columns\n",
        "joined_data_df['is_retweet'] = joined_data_df['is_retweet'].astype(int)\n",
        "joined_data_df['is_quote_status'] = joined_data_df['is_quote_status'].astype(int)\n",
        "joined_data_df.head()"
      ],
      "metadata": {
        "colab": {
          "base_uri": "https://localhost:8080/",
          "height": 204
        },
        "id": "eOlFNs9MUqZ6",
        "outputId": "382819fa-0c2a-4700-d5e9-5c407bca4b8b"
      },
      "execution_count": 21,
      "outputs": [
        {
          "output_type": "execute_result",
          "data": {
            "text/plain": [
              "   following  followers  totaltweets tweetcreatedts  is_retweet  \\\n",
              "0        312        123        38156     2022-04-22           1   \n",
              "1       4787       9149        22818     2022-04-24           0   \n",
              "2       5003        464        44931     2022-04-24           1   \n",
              "3       1712       1019        38691     2022-04-24           1   \n",
              "4        761     935851      1066678     2022-04-22           0   \n",
              "\n",
              "   is_quote_status  negative    weight  text_length  \n",
              "0                0  0.010234  0.000985         80.0  \n",
              "1                1  0.004823  0.000475         70.0  \n",
              "2                0  0.018234  0.000475        123.0  \n",
              "3                0  0.169791  0.000475          9.0  \n",
              "4                0  0.156944  0.000985         59.0  "
            ],
            "text/html": [
              "\n",
              "  <div id=\"df-c27a52c3-18cc-4bbe-b9c7-c3440962c9dc\">\n",
              "    <div class=\"colab-df-container\">\n",
              "      <div>\n",
              "<style scoped>\n",
              "    .dataframe tbody tr th:only-of-type {\n",
              "        vertical-align: middle;\n",
              "    }\n",
              "\n",
              "    .dataframe tbody tr th {\n",
              "        vertical-align: top;\n",
              "    }\n",
              "\n",
              "    .dataframe thead th {\n",
              "        text-align: right;\n",
              "    }\n",
              "</style>\n",
              "<table border=\"1\" class=\"dataframe\">\n",
              "  <thead>\n",
              "    <tr style=\"text-align: right;\">\n",
              "      <th></th>\n",
              "      <th>following</th>\n",
              "      <th>followers</th>\n",
              "      <th>totaltweets</th>\n",
              "      <th>tweetcreatedts</th>\n",
              "      <th>is_retweet</th>\n",
              "      <th>is_quote_status</th>\n",
              "      <th>negative</th>\n",
              "      <th>weight</th>\n",
              "      <th>text_length</th>\n",
              "    </tr>\n",
              "  </thead>\n",
              "  <tbody>\n",
              "    <tr>\n",
              "      <th>0</th>\n",
              "      <td>312</td>\n",
              "      <td>123</td>\n",
              "      <td>38156</td>\n",
              "      <td>2022-04-22</td>\n",
              "      <td>1</td>\n",
              "      <td>0</td>\n",
              "      <td>0.010234</td>\n",
              "      <td>0.000985</td>\n",
              "      <td>80.0</td>\n",
              "    </tr>\n",
              "    <tr>\n",
              "      <th>1</th>\n",
              "      <td>4787</td>\n",
              "      <td>9149</td>\n",
              "      <td>22818</td>\n",
              "      <td>2022-04-24</td>\n",
              "      <td>0</td>\n",
              "      <td>1</td>\n",
              "      <td>0.004823</td>\n",
              "      <td>0.000475</td>\n",
              "      <td>70.0</td>\n",
              "    </tr>\n",
              "    <tr>\n",
              "      <th>2</th>\n",
              "      <td>5003</td>\n",
              "      <td>464</td>\n",
              "      <td>44931</td>\n",
              "      <td>2022-04-24</td>\n",
              "      <td>1</td>\n",
              "      <td>0</td>\n",
              "      <td>0.018234</td>\n",
              "      <td>0.000475</td>\n",
              "      <td>123.0</td>\n",
              "    </tr>\n",
              "    <tr>\n",
              "      <th>3</th>\n",
              "      <td>1712</td>\n",
              "      <td>1019</td>\n",
              "      <td>38691</td>\n",
              "      <td>2022-04-24</td>\n",
              "      <td>1</td>\n",
              "      <td>0</td>\n",
              "      <td>0.169791</td>\n",
              "      <td>0.000475</td>\n",
              "      <td>9.0</td>\n",
              "    </tr>\n",
              "    <tr>\n",
              "      <th>4</th>\n",
              "      <td>761</td>\n",
              "      <td>935851</td>\n",
              "      <td>1066678</td>\n",
              "      <td>2022-04-22</td>\n",
              "      <td>0</td>\n",
              "      <td>0</td>\n",
              "      <td>0.156944</td>\n",
              "      <td>0.000985</td>\n",
              "      <td>59.0</td>\n",
              "    </tr>\n",
              "  </tbody>\n",
              "</table>\n",
              "</div>\n",
              "      <button class=\"colab-df-convert\" onclick=\"convertToInteractive('df-c27a52c3-18cc-4bbe-b9c7-c3440962c9dc')\"\n",
              "              title=\"Convert this dataframe to an interactive table.\"\n",
              "              style=\"display:none;\">\n",
              "        \n",
              "  <svg xmlns=\"http://www.w3.org/2000/svg\" height=\"24px\"viewBox=\"0 0 24 24\"\n",
              "       width=\"24px\">\n",
              "    <path d=\"M0 0h24v24H0V0z\" fill=\"none\"/>\n",
              "    <path d=\"M18.56 5.44l.94 2.06.94-2.06 2.06-.94-2.06-.94-.94-2.06-.94 2.06-2.06.94zm-11 1L8.5 8.5l.94-2.06 2.06-.94-2.06-.94L8.5 2.5l-.94 2.06-2.06.94zm10 10l.94 2.06.94-2.06 2.06-.94-2.06-.94-.94-2.06-.94 2.06-2.06.94z\"/><path d=\"M17.41 7.96l-1.37-1.37c-.4-.4-.92-.59-1.43-.59-.52 0-1.04.2-1.43.59L10.3 9.45l-7.72 7.72c-.78.78-.78 2.05 0 2.83L4 21.41c.39.39.9.59 1.41.59.51 0 1.02-.2 1.41-.59l7.78-7.78 2.81-2.81c.8-.78.8-2.07 0-2.86zM5.41 20L4 18.59l7.72-7.72 1.47 1.35L5.41 20z\"/>\n",
              "  </svg>\n",
              "      </button>\n",
              "      \n",
              "  <style>\n",
              "    .colab-df-container {\n",
              "      display:flex;\n",
              "      flex-wrap:wrap;\n",
              "      gap: 12px;\n",
              "    }\n",
              "\n",
              "    .colab-df-convert {\n",
              "      background-color: #E8F0FE;\n",
              "      border: none;\n",
              "      border-radius: 50%;\n",
              "      cursor: pointer;\n",
              "      display: none;\n",
              "      fill: #1967D2;\n",
              "      height: 32px;\n",
              "      padding: 0 0 0 0;\n",
              "      width: 32px;\n",
              "    }\n",
              "\n",
              "    .colab-df-convert:hover {\n",
              "      background-color: #E2EBFA;\n",
              "      box-shadow: 0px 1px 2px rgba(60, 64, 67, 0.3), 0px 1px 3px 1px rgba(60, 64, 67, 0.15);\n",
              "      fill: #174EA6;\n",
              "    }\n",
              "\n",
              "    [theme=dark] .colab-df-convert {\n",
              "      background-color: #3B4455;\n",
              "      fill: #D2E3FC;\n",
              "    }\n",
              "\n",
              "    [theme=dark] .colab-df-convert:hover {\n",
              "      background-color: #434B5C;\n",
              "      box-shadow: 0px 1px 3px 1px rgba(0, 0, 0, 0.15);\n",
              "      filter: drop-shadow(0px 1px 2px rgba(0, 0, 0, 0.3));\n",
              "      fill: #FFFFFF;\n",
              "    }\n",
              "  </style>\n",
              "\n",
              "      <script>\n",
              "        const buttonEl =\n",
              "          document.querySelector('#df-c27a52c3-18cc-4bbe-b9c7-c3440962c9dc button.colab-df-convert');\n",
              "        buttonEl.style.display =\n",
              "          google.colab.kernel.accessAllowed ? 'block' : 'none';\n",
              "\n",
              "        async function convertToInteractive(key) {\n",
              "          const element = document.querySelector('#df-c27a52c3-18cc-4bbe-b9c7-c3440962c9dc');\n",
              "          const dataTable =\n",
              "            await google.colab.kernel.invokeFunction('convertToInteractive',\n",
              "                                                     [key], {});\n",
              "          if (!dataTable) return;\n",
              "\n",
              "          const docLinkHtml = 'Like what you see? Visit the ' +\n",
              "            '<a target=\"_blank\" href=https://colab.research.google.com/notebooks/data_table.ipynb>data table notebook</a>'\n",
              "            + ' to learn more about interactive tables.';\n",
              "          element.innerHTML = '';\n",
              "          dataTable['output_type'] = 'display_data';\n",
              "          await google.colab.output.renderOutput(dataTable, element);\n",
              "          const docLink = document.createElement('div');\n",
              "          docLink.innerHTML = docLinkHtml;\n",
              "          element.appendChild(docLink);\n",
              "        }\n",
              "      </script>\n",
              "    </div>\n",
              "  </div>\n",
              "  "
            ]
          },
          "metadata": {},
          "execution_count": 21
        }
      ]
    },
    {
      "cell_type": "markdown",
      "source": [
        "# Get the average score of negative sentiment by date"
      ],
      "metadata": {
        "id": "PnZFD7VoVs6B"
      }
    },
    {
      "cell_type": "code",
      "source": [
        "#Ensure that 'tweetcreatedts' is of dtype datetime\n",
        "# Check data types\n",
        "joined_data_df.info()"
      ],
      "metadata": {
        "colab": {
          "base_uri": "https://localhost:8080/"
        },
        "id": "hQiQ-nBkV8wb",
        "outputId": "072dcd05-edb7-4456-b8bb-d929821ebe40"
      },
      "execution_count": 22,
      "outputs": [
        {
          "output_type": "stream",
          "name": "stdout",
          "text": [
            "<class 'pandas.core.frame.DataFrame'>\n",
            "RangeIndex: 451700 entries, 0 to 451699\n",
            "Data columns (total 9 columns):\n",
            " #   Column           Non-Null Count   Dtype  \n",
            "---  ------           --------------   -----  \n",
            " 0   following        451700 non-null  int32  \n",
            " 1   followers        451700 non-null  int32  \n",
            " 2   totaltweets      451700 non-null  int32  \n",
            " 3   tweetcreatedts   451700 non-null  object \n",
            " 4   is_retweet       451700 non-null  int64  \n",
            " 5   is_quote_status  451700 non-null  int64  \n",
            " 6   negative         83148 non-null   float64\n",
            " 7   weight           449058 non-null  float64\n",
            " 8   text_length      451680 non-null  float64\n",
            "dtypes: float64(3), int32(3), int64(2), object(1)\n",
            "memory usage: 25.8+ MB\n"
          ]
        }
      ]
    },
    {
      "cell_type": "code",
      "source": [
        "# Converting 'tweetcreatedts' to dtype datetime\n",
        "joined_data_df['tweetcreatedts']=pd.to_datetime(joined_data_df['tweetcreatedts'])\n",
        "\n",
        "# Creating a new dataframe with average score\n",
        "average_score_df = joined_data_df.groupby(joined_data_df['tweetcreatedts'].dt.date)['negative'].mean().reset_index()\n",
        "average_score_df.head(5)"
      ],
      "metadata": {
        "colab": {
          "base_uri": "https://localhost:8080/",
          "height": 204
        },
        "id": "cnth4DYtVzxR",
        "outputId": "f8fbcdf6-a43a-4ae4-f9bc-44159b4cb485"
      },
      "execution_count": 23,
      "outputs": [
        {
          "output_type": "execute_result",
          "data": {
            "text/plain": [
              "  tweetcreatedts  negative\n",
              "0     2022-04-22  0.361702\n",
              "1     2022-04-23  0.368580\n",
              "2     2022-04-24  0.364594\n",
              "3     2022-04-25  0.393379\n",
              "4     2022-04-26  0.416709"
            ],
            "text/html": [
              "\n",
              "  <div id=\"df-96fa9450-7b53-4c2b-a714-6f3c4cc81143\">\n",
              "    <div class=\"colab-df-container\">\n",
              "      <div>\n",
              "<style scoped>\n",
              "    .dataframe tbody tr th:only-of-type {\n",
              "        vertical-align: middle;\n",
              "    }\n",
              "\n",
              "    .dataframe tbody tr th {\n",
              "        vertical-align: top;\n",
              "    }\n",
              "\n",
              "    .dataframe thead th {\n",
              "        text-align: right;\n",
              "    }\n",
              "</style>\n",
              "<table border=\"1\" class=\"dataframe\">\n",
              "  <thead>\n",
              "    <tr style=\"text-align: right;\">\n",
              "      <th></th>\n",
              "      <th>tweetcreatedts</th>\n",
              "      <th>negative</th>\n",
              "    </tr>\n",
              "  </thead>\n",
              "  <tbody>\n",
              "    <tr>\n",
              "      <th>0</th>\n",
              "      <td>2022-04-22</td>\n",
              "      <td>0.361702</td>\n",
              "    </tr>\n",
              "    <tr>\n",
              "      <th>1</th>\n",
              "      <td>2022-04-23</td>\n",
              "      <td>0.368580</td>\n",
              "    </tr>\n",
              "    <tr>\n",
              "      <th>2</th>\n",
              "      <td>2022-04-24</td>\n",
              "      <td>0.364594</td>\n",
              "    </tr>\n",
              "    <tr>\n",
              "      <th>3</th>\n",
              "      <td>2022-04-25</td>\n",
              "      <td>0.393379</td>\n",
              "    </tr>\n",
              "    <tr>\n",
              "      <th>4</th>\n",
              "      <td>2022-04-26</td>\n",
              "      <td>0.416709</td>\n",
              "    </tr>\n",
              "  </tbody>\n",
              "</table>\n",
              "</div>\n",
              "      <button class=\"colab-df-convert\" onclick=\"convertToInteractive('df-96fa9450-7b53-4c2b-a714-6f3c4cc81143')\"\n",
              "              title=\"Convert this dataframe to an interactive table.\"\n",
              "              style=\"display:none;\">\n",
              "        \n",
              "  <svg xmlns=\"http://www.w3.org/2000/svg\" height=\"24px\"viewBox=\"0 0 24 24\"\n",
              "       width=\"24px\">\n",
              "    <path d=\"M0 0h24v24H0V0z\" fill=\"none\"/>\n",
              "    <path d=\"M18.56 5.44l.94 2.06.94-2.06 2.06-.94-2.06-.94-.94-2.06-.94 2.06-2.06.94zm-11 1L8.5 8.5l.94-2.06 2.06-.94-2.06-.94L8.5 2.5l-.94 2.06-2.06.94zm10 10l.94 2.06.94-2.06 2.06-.94-2.06-.94-.94-2.06-.94 2.06-2.06.94z\"/><path d=\"M17.41 7.96l-1.37-1.37c-.4-.4-.92-.59-1.43-.59-.52 0-1.04.2-1.43.59L10.3 9.45l-7.72 7.72c-.78.78-.78 2.05 0 2.83L4 21.41c.39.39.9.59 1.41.59.51 0 1.02-.2 1.41-.59l7.78-7.78 2.81-2.81c.8-.78.8-2.07 0-2.86zM5.41 20L4 18.59l7.72-7.72 1.47 1.35L5.41 20z\"/>\n",
              "  </svg>\n",
              "      </button>\n",
              "      \n",
              "  <style>\n",
              "    .colab-df-container {\n",
              "      display:flex;\n",
              "      flex-wrap:wrap;\n",
              "      gap: 12px;\n",
              "    }\n",
              "\n",
              "    .colab-df-convert {\n",
              "      background-color: #E8F0FE;\n",
              "      border: none;\n",
              "      border-radius: 50%;\n",
              "      cursor: pointer;\n",
              "      display: none;\n",
              "      fill: #1967D2;\n",
              "      height: 32px;\n",
              "      padding: 0 0 0 0;\n",
              "      width: 32px;\n",
              "    }\n",
              "\n",
              "    .colab-df-convert:hover {\n",
              "      background-color: #E2EBFA;\n",
              "      box-shadow: 0px 1px 2px rgba(60, 64, 67, 0.3), 0px 1px 3px 1px rgba(60, 64, 67, 0.15);\n",
              "      fill: #174EA6;\n",
              "    }\n",
              "\n",
              "    [theme=dark] .colab-df-convert {\n",
              "      background-color: #3B4455;\n",
              "      fill: #D2E3FC;\n",
              "    }\n",
              "\n",
              "    [theme=dark] .colab-df-convert:hover {\n",
              "      background-color: #434B5C;\n",
              "      box-shadow: 0px 1px 3px 1px rgba(0, 0, 0, 0.15);\n",
              "      filter: drop-shadow(0px 1px 2px rgba(0, 0, 0, 0.3));\n",
              "      fill: #FFFFFF;\n",
              "    }\n",
              "  </style>\n",
              "\n",
              "      <script>\n",
              "        const buttonEl =\n",
              "          document.querySelector('#df-96fa9450-7b53-4c2b-a714-6f3c4cc81143 button.colab-df-convert');\n",
              "        buttonEl.style.display =\n",
              "          google.colab.kernel.accessAllowed ? 'block' : 'none';\n",
              "\n",
              "        async function convertToInteractive(key) {\n",
              "          const element = document.querySelector('#df-96fa9450-7b53-4c2b-a714-6f3c4cc81143');\n",
              "          const dataTable =\n",
              "            await google.colab.kernel.invokeFunction('convertToInteractive',\n",
              "                                                     [key], {});\n",
              "          if (!dataTable) return;\n",
              "\n",
              "          const docLinkHtml = 'Like what you see? Visit the ' +\n",
              "            '<a target=\"_blank\" href=https://colab.research.google.com/notebooks/data_table.ipynb>data table notebook</a>'\n",
              "            + ' to learn more about interactive tables.';\n",
              "          element.innerHTML = '';\n",
              "          dataTable['output_type'] = 'display_data';\n",
              "          await google.colab.output.renderOutput(dataTable, element);\n",
              "          const docLink = document.createElement('div');\n",
              "          docLink.innerHTML = docLinkHtml;\n",
              "          element.appendChild(docLink);\n",
              "        }\n",
              "      </script>\n",
              "    </div>\n",
              "  </div>\n",
              "  "
            ]
          },
          "metadata": {},
          "execution_count": 23
        }
      ]
    },
    {
      "cell_type": "code",
      "source": [
        "# Creating a new dataframe with average weight\n",
        "average_weight_df = joined_data_df.groupby(joined_data_df['tweetcreatedts'].dt.date)['weight'].mean().reset_index()\n",
        "average_weight_df.head(5)"
      ],
      "metadata": {
        "colab": {
          "base_uri": "https://localhost:8080/",
          "height": 204
        },
        "id": "MOB6jsY-Xn9I",
        "outputId": "3c7bd6f7-dc9d-4095-b4aa-48144f4f6b99"
      },
      "execution_count": 24,
      "outputs": [
        {
          "output_type": "execute_result",
          "data": {
            "text/plain": [
              "  tweetcreatedts    weight\n",
              "0     2022-04-22  0.000985\n",
              "1     2022-04-23  0.000744\n",
              "2     2022-04-24  0.000475\n",
              "3     2022-04-25  0.000779\n",
              "4     2022-04-26  0.000824"
            ],
            "text/html": [
              "\n",
              "  <div id=\"df-8a7f260c-cab9-4a7a-bf22-3905bfeaa64a\">\n",
              "    <div class=\"colab-df-container\">\n",
              "      <div>\n",
              "<style scoped>\n",
              "    .dataframe tbody tr th:only-of-type {\n",
              "        vertical-align: middle;\n",
              "    }\n",
              "\n",
              "    .dataframe tbody tr th {\n",
              "        vertical-align: top;\n",
              "    }\n",
              "\n",
              "    .dataframe thead th {\n",
              "        text-align: right;\n",
              "    }\n",
              "</style>\n",
              "<table border=\"1\" class=\"dataframe\">\n",
              "  <thead>\n",
              "    <tr style=\"text-align: right;\">\n",
              "      <th></th>\n",
              "      <th>tweetcreatedts</th>\n",
              "      <th>weight</th>\n",
              "    </tr>\n",
              "  </thead>\n",
              "  <tbody>\n",
              "    <tr>\n",
              "      <th>0</th>\n",
              "      <td>2022-04-22</td>\n",
              "      <td>0.000985</td>\n",
              "    </tr>\n",
              "    <tr>\n",
              "      <th>1</th>\n",
              "      <td>2022-04-23</td>\n",
              "      <td>0.000744</td>\n",
              "    </tr>\n",
              "    <tr>\n",
              "      <th>2</th>\n",
              "      <td>2022-04-24</td>\n",
              "      <td>0.000475</td>\n",
              "    </tr>\n",
              "    <tr>\n",
              "      <th>3</th>\n",
              "      <td>2022-04-25</td>\n",
              "      <td>0.000779</td>\n",
              "    </tr>\n",
              "    <tr>\n",
              "      <th>4</th>\n",
              "      <td>2022-04-26</td>\n",
              "      <td>0.000824</td>\n",
              "    </tr>\n",
              "  </tbody>\n",
              "</table>\n",
              "</div>\n",
              "      <button class=\"colab-df-convert\" onclick=\"convertToInteractive('df-8a7f260c-cab9-4a7a-bf22-3905bfeaa64a')\"\n",
              "              title=\"Convert this dataframe to an interactive table.\"\n",
              "              style=\"display:none;\">\n",
              "        \n",
              "  <svg xmlns=\"http://www.w3.org/2000/svg\" height=\"24px\"viewBox=\"0 0 24 24\"\n",
              "       width=\"24px\">\n",
              "    <path d=\"M0 0h24v24H0V0z\" fill=\"none\"/>\n",
              "    <path d=\"M18.56 5.44l.94 2.06.94-2.06 2.06-.94-2.06-.94-.94-2.06-.94 2.06-2.06.94zm-11 1L8.5 8.5l.94-2.06 2.06-.94-2.06-.94L8.5 2.5l-.94 2.06-2.06.94zm10 10l.94 2.06.94-2.06 2.06-.94-2.06-.94-.94-2.06-.94 2.06-2.06.94z\"/><path d=\"M17.41 7.96l-1.37-1.37c-.4-.4-.92-.59-1.43-.59-.52 0-1.04.2-1.43.59L10.3 9.45l-7.72 7.72c-.78.78-.78 2.05 0 2.83L4 21.41c.39.39.9.59 1.41.59.51 0 1.02-.2 1.41-.59l7.78-7.78 2.81-2.81c.8-.78.8-2.07 0-2.86zM5.41 20L4 18.59l7.72-7.72 1.47 1.35L5.41 20z\"/>\n",
              "  </svg>\n",
              "      </button>\n",
              "      \n",
              "  <style>\n",
              "    .colab-df-container {\n",
              "      display:flex;\n",
              "      flex-wrap:wrap;\n",
              "      gap: 12px;\n",
              "    }\n",
              "\n",
              "    .colab-df-convert {\n",
              "      background-color: #E8F0FE;\n",
              "      border: none;\n",
              "      border-radius: 50%;\n",
              "      cursor: pointer;\n",
              "      display: none;\n",
              "      fill: #1967D2;\n",
              "      height: 32px;\n",
              "      padding: 0 0 0 0;\n",
              "      width: 32px;\n",
              "    }\n",
              "\n",
              "    .colab-df-convert:hover {\n",
              "      background-color: #E2EBFA;\n",
              "      box-shadow: 0px 1px 2px rgba(60, 64, 67, 0.3), 0px 1px 3px 1px rgba(60, 64, 67, 0.15);\n",
              "      fill: #174EA6;\n",
              "    }\n",
              "\n",
              "    [theme=dark] .colab-df-convert {\n",
              "      background-color: #3B4455;\n",
              "      fill: #D2E3FC;\n",
              "    }\n",
              "\n",
              "    [theme=dark] .colab-df-convert:hover {\n",
              "      background-color: #434B5C;\n",
              "      box-shadow: 0px 1px 3px 1px rgba(0, 0, 0, 0.15);\n",
              "      filter: drop-shadow(0px 1px 2px rgba(0, 0, 0, 0.3));\n",
              "      fill: #FFFFFF;\n",
              "    }\n",
              "  </style>\n",
              "\n",
              "      <script>\n",
              "        const buttonEl =\n",
              "          document.querySelector('#df-8a7f260c-cab9-4a7a-bf22-3905bfeaa64a button.colab-df-convert');\n",
              "        buttonEl.style.display =\n",
              "          google.colab.kernel.accessAllowed ? 'block' : 'none';\n",
              "\n",
              "        async function convertToInteractive(key) {\n",
              "          const element = document.querySelector('#df-8a7f260c-cab9-4a7a-bf22-3905bfeaa64a');\n",
              "          const dataTable =\n",
              "            await google.colab.kernel.invokeFunction('convertToInteractive',\n",
              "                                                     [key], {});\n",
              "          if (!dataTable) return;\n",
              "\n",
              "          const docLinkHtml = 'Like what you see? Visit the ' +\n",
              "            '<a target=\"_blank\" href=https://colab.research.google.com/notebooks/data_table.ipynb>data table notebook</a>'\n",
              "            + ' to learn more about interactive tables.';\n",
              "          element.innerHTML = '';\n",
              "          dataTable['output_type'] = 'display_data';\n",
              "          await google.colab.output.renderOutput(dataTable, element);\n",
              "          const docLink = document.createElement('div');\n",
              "          docLink.innerHTML = docLinkHtml;\n",
              "          element.appendChild(docLink);\n",
              "        }\n",
              "      </script>\n",
              "    </div>\n",
              "  </div>\n",
              "  "
            ]
          },
          "metadata": {},
          "execution_count": 24
        }
      ]
    },
    {
      "cell_type": "code",
      "source": [
        "average_df = pd.merge(average_score_df, average_weight_df, on='tweetcreatedts')\n",
        "print(average_df)\n"
      ],
      "metadata": {
        "colab": {
          "base_uri": "https://localhost:8080/"
        },
        "id": "ZOkUFiT8YIJc",
        "outputId": "81dbc334-4022-4bbb-dd59-6bbbb75f5b06"
      },
      "execution_count": 26,
      "outputs": [
        {
          "output_type": "stream",
          "name": "stdout",
          "text": [
            "    tweetcreatedts  negative    weight\n",
            "0       2022-04-22  0.361702  0.000985\n",
            "1       2022-04-23  0.368580  0.000744\n",
            "2       2022-04-24  0.364594  0.000475\n",
            "3       2022-04-25  0.393379  0.000779\n",
            "4       2022-04-26  0.416709  0.000824\n",
            "..             ...       ...       ...\n",
            "113     2022-08-14       NaN       NaN\n",
            "114     2022-08-15       NaN       NaN\n",
            "115     2022-08-16       NaN       NaN\n",
            "116     2022-08-17       NaN       NaN\n",
            "117     2022-08-18       NaN       NaN\n",
            "\n",
            "[118 rows x 3 columns]\n"
          ]
        }
      ]
    },
    {
      "cell_type": "code",
      "source": [
        "average_df = average_df.dropna()\n",
        "print(average_df)"
      ],
      "metadata": {
        "colab": {
          "base_uri": "https://localhost:8080/"
        },
        "id": "gWV4LRmgK97G",
        "outputId": "3108024c-cae6-4d33-ef6b-a142b024bc33"
      },
      "execution_count": 27,
      "outputs": [
        {
          "output_type": "stream",
          "name": "stdout",
          "text": [
            "   tweetcreatedts  negative    weight\n",
            "0      2022-04-22  0.361702  0.000985\n",
            "1      2022-04-23  0.368580  0.000744\n",
            "2      2022-04-24  0.364594  0.000475\n",
            "3      2022-04-25  0.393379  0.000779\n",
            "4      2022-04-26  0.416709  0.000824\n",
            "5      2022-04-27  0.316475  0.001121\n",
            "6      2022-04-28  0.312625  0.000824\n",
            "7      2022-04-29  0.326750  0.000829\n",
            "8      2022-04-30  0.335633  0.000658\n",
            "9      2022-05-01  0.389868  0.000523\n",
            "10     2022-05-02  0.390212  0.000653\n",
            "11     2022-05-03  0.458059  0.000714\n",
            "12     2022-05-04  0.447395  0.000598\n",
            "13     2022-05-05  0.403617  0.000688\n",
            "14     2022-05-06  0.498095  0.000849\n",
            "15     2022-05-07  0.301401  0.000477\n",
            "16     2022-05-09  0.400689  0.000869\n",
            "17     2022-05-10  0.361402  0.000874\n",
            "18     2022-05-11  0.336182  0.001884\n",
            "19     2022-05-12  0.224068  0.000995\n",
            "20     2022-05-13  0.002840  0.000774\n",
            "21     2022-05-14  0.300818  0.000573\n",
            "39     2022-06-01  0.407961  0.000814\n",
            "40     2022-06-02  0.390686  0.000779\n",
            "41     2022-06-03  0.444043  0.001709\n",
            "42     2022-06-04  0.498310  0.000638\n",
            "44     2022-06-06  0.270517  0.000759\n",
            "45     2022-06-07  0.675664  0.000819\n",
            "46     2022-06-08  0.360220  0.000714\n",
            "47     2022-06-09  0.387529  0.000915\n",
            "48     2022-06-10  0.638434  0.000834\n",
            "51     2022-06-13  0.403353  0.000819\n"
          ]
        }
      ]
    },
    {
      "cell_type": "code",
      "source": [
        "# Get the plot by timeline\n",
        "\n",
        "plt.scatter(average_df.tweetcreatedts, average_df.negative)\n",
        "plt.xlabel('Date')\n",
        "plt.ylabel('Negative score of tweets')\n",
        "plt.xticks(rotation=45)\n",
        "plt.show()"
      ],
      "metadata": {
        "colab": {
          "base_uri": "https://localhost:8080/",
          "height": 319
        },
        "id": "NRNgAWYRhfMj",
        "outputId": "5812688f-e693-4eb3-f2df-a20a464472f6"
      },
      "execution_count": 31,
      "outputs": [
        {
          "output_type": "display_data",
          "data": {
            "text/plain": [
              "<Figure size 432x288 with 1 Axes>"
            ],
            "image/png": "[encoded data removed]"
          },
          "metadata": {
            "needs_background": "light"
          }
        }
      ]
    },
    {
      "cell_type": "code",
      "source": [
        "#Get the plot by length of tweet\n",
        "plt.scatter(average_df.tweetcreatedts, average_df.weight)\n",
        "plt.xlabel('Date')\n",
        "plt.ylabel('Weight')\n",
        "plt.xticks(rotation=45)\n",
        "plt.show()"
      ],
      "metadata": {
        "colab": {
          "base_uri": "https://localhost:8080/",
          "height": 317
        },
        "id": "ndsgTWqFZ9Ev",
        "outputId": "29132cfe-615c-4144-99ff-ddeda5f85e12"
      },
      "execution_count": 32,
      "outputs": [
        {
          "output_type": "display_data",
          "data": {
            "text/plain": [
              "<Figure size 432x288 with 1 Axes>"
            ],
            "image/png": "[encoded data removed]"
          },
          "metadata": {
            "needs_background": "light"
          }
        }
      ]
    },
    {
      "cell_type": "code",
      "source": [
        "# Get the plot by weight of event\n",
        "plt.scatter(average_df.weight, average_df.negative)\n",
        "plt.xlabel('Weight of events')\n",
        "plt.ylabel('Negative score of tweets')\n",
        "plt.xticks(rotation=45)\n",
        "plt.show()"
      ],
      "metadata": {
        "colab": {
          "base_uri": "https://localhost:8080/",
          "height": 302
        },
        "id": "fEDe9sukxUwr",
        "outputId": "e0d4b320-3391-4e4b-eb60-f0a055320676"
      },
      "execution_count": 33,
      "outputs": [
        {
          "output_type": "display_data",
          "data": {
            "text/plain": [
              "<Figure size 432x288 with 1 Axes>"
            ],
            "image/png": "[encoded data removed]"
          },
          "metadata": {
            "needs_background": "light"
          }
        }
      ]
    },
    {
      "cell_type": "markdown",
      "source": [
        "# Linear regression\n"
      ],
      "metadata": {
        "id": "fPuZVUHg4XAE"
      }
    },
    {
      "cell_type": "markdown",
      "source": [
        "We assume that we can predict emotional importance of the events of war by the sentiment analysis of tweets. For first segment we use for that simple linear regression, but at the next segment we could try to make clasterisation for Twitter users for more accurate trend prediction.\n",
        "\n",
        "Our mockup dataset has data for two days only from 180 days of war yet. This is due to the duration of the calculation of sentiment analysis data: even for that two days it took 6 hours to get the result due to size of twitter data."
      ],
      "metadata": {
        "id": "tih2-0VtGjRp"
      }
    },
    {
      "cell_type": "code",
      "source": [
        "# Format the data to meet the requirements of the Scikit-learn library\n",
        "# Examine the first five entries in X\n",
        "X = average_df.negative.values.reshape(-1, 1)\n",
        "X[:5]"
      ],
      "metadata": {
        "colab": {
          "base_uri": "https://localhost:8080/"
        },
        "id": "EXAuA8KGwhGG",
        "outputId": "b468c77f-480a-4e2b-d8d1-76414efbc7d4"
      },
      "execution_count": 34,
      "outputs": [
        {
          "output_type": "execute_result",
          "data": {
            "text/plain": [
              "array([[0.36170226],\n",
              "       [0.36857997],\n",
              "       [0.36459413],\n",
              "       [0.39337882],\n",
              "       [0.41670945]])"
            ]
          },
          "metadata": {},
          "execution_count": 34
        }
      ]
    },
    {
      "cell_type": "code",
      "source": [
        "# What is the shape of X - rows and columns\n",
        "X.shape"
      ],
      "metadata": {
        "colab": {
          "base_uri": "https://localhost:8080/"
        },
        "id": "OzzJ8PgHtGsY",
        "outputId": "710ef468-4b95-433f-d66d-5d52f5b710e1"
      },
      "execution_count": 35,
      "outputs": [
        {
          "output_type": "execute_result",
          "data": {
            "text/plain": [
              "(32, 1)"
            ]
          },
          "metadata": {},
          "execution_count": 35
        }
      ]
    },
    {
      "cell_type": "code",
      "source": [
        "# Assign the target variable, or the Weight column, to y. \n",
        "# It's possible to reshape this column, as we did with X, it's not required in this instance\n",
        "y = average_df.weight\n",
        "y[:5]"
      ],
      "metadata": {
        "colab": {
          "base_uri": "https://localhost:8080/"
        },
        "id": "spUNfgK2vNZY",
        "outputId": "b225e6fb-7dfe-4386-acae-aab71f6d0b1d"
      },
      "execution_count": 36,
      "outputs": [
        {
          "output_type": "execute_result",
          "data": {
            "text/plain": [
              "0    0.000985\n",
              "1    0.000744\n",
              "2    0.000475\n",
              "3    0.000779\n",
              "4    0.000824\n",
              "Name: weight, dtype: float64"
            ]
          },
          "metadata": {},
          "execution_count": 36
        }
      ]
    },
    {
      "cell_type": "code",
      "source": [
        "# What is the shape of y - rows and columns\n",
        "y.shape"
      ],
      "metadata": {
        "colab": {
          "base_uri": "https://localhost:8080/"
        },
        "id": "Iccsho_A8HnY",
        "outputId": "8c82efe4-f8de-4832-d8b8-6e7c7161986c"
      },
      "execution_count": 37,
      "outputs": [
        {
          "output_type": "execute_result",
          "data": {
            "text/plain": [
              "(32,)"
            ]
          },
          "metadata": {},
          "execution_count": 37
        }
      ]
    },
    {
      "cell_type": "code",
      "source": [
        "# Create an instance of the linear regression model\n",
        "# That will analyze the data and store information specific to this dataset\n",
        "model = LinearRegression()\n",
        "model.fit(X,y)"
      ],
      "metadata": {
        "colab": {
          "base_uri": "https://localhost:8080/"
        },
        "id": "pkWB-5qp6dO1",
        "outputId": "aa588017-eb71-4bd4-f866-2a90584935df"
      },
      "execution_count": 38,
      "outputs": [
        {
          "output_type": "execute_result",
          "data": {
            "text/plain": [
              "LinearRegression()"
            ]
          },
          "metadata": {},
          "execution_count": 38
        }
      ]
    },
    {
      "cell_type": "code",
      "source": [
        "# Generate predictions\n",
        "y_pred = model.predict(X)\n",
        "print(y_pred.shape)"
      ],
      "metadata": {
        "colab": {
          "base_uri": "https://localhost:8080/"
        },
        "id": "eCxt2Wl2jR_s",
        "outputId": "29cda075-dbbd-489f-f179-2762b1fef142"
      },
      "execution_count": 39,
      "outputs": [
        {
          "output_type": "stream",
          "name": "stdout",
          "text": [
            "(32,)\n"
          ]
        }
      ]
    },
    {
      "cell_type": "code",
      "source": [
        "# Plot the predictions as a red line against the data points\n",
        "plt.scatter(X, y)\n",
        "plt.plot(X, y_pred, color='red')\n",
        "plt.show()"
      ],
      "metadata": {
        "id": "-MUc2lrGjC-y",
        "colab": {
          "base_uri": "https://localhost:8080/",
          "height": 265
        },
        "outputId": "753b76f6-b9ee-4304-ef40-c780555f96cb"
      },
      "execution_count": 40,
      "outputs": [
        {
          "output_type": "display_data",
          "data": {
            "text/plain": [
              "<Figure size 432x288 with 1 Axes>"
            ],
            "image/png": "[encoded data removed]"
          },
          "metadata": {
            "needs_background": "light"
          }
        }
      ]
    },
    {
      "cell_type": "code",
      "source": [
        "# Examine the specific parameters of our model: the slope and the y-intercept\n",
        "print(model.coef_)\n",
        "print(model.intercept_)"
      ],
      "metadata": {
        "id": "gfbY8d3J12HU",
        "colab": {
          "base_uri": "https://localhost:8080/"
        },
        "outputId": "bd1e485f-8148-42fb-a843-8286e0f1c67e"
      },
      "execution_count": 41,
      "outputs": [
        {
          "output_type": "stream",
          "name": "stdout",
          "text": [
            "[-1.14529681e-07]\n",
            "0.0008284826520616052\n"
          ]
        }
      ]
    },
    {
      "cell_type": "markdown",
      "source": [
        "Looks like despite our idea that average negative sentiment of the day corresponding somehow with the weight of the day (the ratio of the number of articles about relevant news that are written on a given day to the number for all days), it is not, and we were wrong. Let's check this with the Probability Density Function."
      ],
      "metadata": {
        "id": "tv9JuWb3fBbA"
      }
    },
    {
      "cell_type": "markdown",
      "source": [
        "# Probability Density Function"
      ],
      "metadata": {
        "id": "xvI4nxXigW8a"
      }
    },
    {
      "cell_type": "markdown",
      "source": [
        "PDF is used to specify the probability of the random variable falling within a particular range of values, as opposed to taking on any one value. "
      ],
      "metadata": {
        "id": "ovcFbFyJgZjn"
      }
    },
    {
      "cell_type": "code",
      "source": [
        "# Generate Kernel Density Estimate plot using Gaussian kernels, using the Density method to fing out\n",
        "\n",
        "ax = average_df.plot.kde()"
      ],
      "metadata": {
        "colab": {
          "base_uri": "https://localhost:8080/",
          "height": 265
        },
        "id": "galPpdR_gfvu",
        "outputId": "0043b3c7-8dfc-4c1e-fc0b-3a61d9af7de8"
      },
      "execution_count": 42,
      "outputs": [
        {
          "output_type": "display_data",
          "data": {
            "text/plain": [
              "<Figure size 432x288 with 1 Axes>"
            ],
            "image/png": "[encoded data removed]"
          },
          "metadata": {
            "needs_background": "light"
          }
        }
      ]
    },
    {
      "cell_type": "code",
      "source": [
        "# Using a small bandwidth value \n",
        "ax = average_df.plot.kde(bw_method=0.3)"
      ],
      "metadata": {
        "colab": {
          "base_uri": "https://localhost:8080/",
          "height": 265
        },
        "id": "rc1espNYgolR",
        "outputId": "0a298f42-b392-4188-dc1b-8674e5c1aa97"
      },
      "execution_count": 44,
      "outputs": [
        {
          "output_type": "display_data",
          "data": {
            "text/plain": [
              "<Figure size 432x288 with 1 Axes>"
            ],
            "image/png": "[encoded data removed]"
          },
          "metadata": {
            "needs_background": "light"
          }
        }
      ]
    },
    {
      "cell_type": "code",
      "source": [
        "# Using a large bandwidt value\n",
        "ax = average_df.plot.kde(bw_method=2)"
      ],
      "metadata": {
        "colab": {
          "base_uri": "https://localhost:8080/",
          "height": 265
        },
        "id": "tXDkJEsSgw8V",
        "outputId": "84e46e62-6230-4021-e378-832046c4f5ad"
      },
      "execution_count": 48,
      "outputs": [
        {
          "output_type": "display_data",
          "data": {
            "text/plain": [
              "<Figure size 432x288 with 1 Axes>"
            ],
            "image/png": "[encoded data removed]"
          },
          "metadata": {
            "needs_background": "light"
          }
        }
      ]
    },
    {
      "cell_type": "code",
      "source": [
        "# Determine the evaluation points for the plot of the estimated PDF\n",
        "ax = average_df.plot.kde(ind=[1, 2, 3, 4, 5, 6])"
      ],
      "metadata": {
        "colab": {
          "base_uri": "https://localhost:8080/",
          "height": 276
        },
        "id": "d1vXg2g8g9MY",
        "outputId": "f4f3c088-86ae-4b01-d5b6-ebfdb8658f5e"
      },
      "execution_count": 47,
      "outputs": [
        {
          "output_type": "display_data",
          "data": {
            "text/plain": [
              "<Figure size 432x288 with 1 Axes>"
            ],
            "image/png": "[encoded data removed]"
          },
          "metadata": {
            "needs_background": "light"
          }
        }
      ]
    }
  ]
}