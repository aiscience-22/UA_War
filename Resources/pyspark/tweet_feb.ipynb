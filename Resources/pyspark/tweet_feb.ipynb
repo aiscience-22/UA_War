{
  "cells": [
    {
      "cell_type": "code",
      "execution_count": 1,
      "metadata": {
        "colab": {
          "base_uri": "https://localhost:8080/"
        },
        "id": "PQPeAcH-160k",
        "outputId": "a4e84d42-d1d0-4cbe-a1f1-96fdf78f4bb0"
      },
      "outputs": [
        {
          "name": "stdout",
          "output_type": "stream",
          "text": [
            "Hit:1 https://cloud.r-project.org/bin/linux/ubuntu bionic-cran40/ InRelease\n",
            "Hit:2 http://archive.ubuntu.com/ubuntu bionic InRelease\n",
            "Get:3 http://security.ubuntu.com/ubuntu bionic-security InRelease [88.7 kB]\n",
            "Ign:4 https://developer.download.nvidia.com/compute/machine-learning/repos/ubuntu1804/x86_64  InRelease\n",
            "Hit:5 https://developer.download.nvidia.com/compute/cuda/repos/ubuntu1804/x86_64  InRelease\n",
            "Hit:6 http://ppa.launchpad.net/c2d4u.team/c2d4u4.0+/ubuntu bionic InRelease\n",
            "Hit:7 https://developer.download.nvidia.com/compute/machine-learning/repos/ubuntu1804/x86_64  Release\n",
            "Get:8 http://archive.ubuntu.com/ubuntu bionic-updates InRelease [88.7 kB]\n",
            "Hit:9 http://ppa.launchpad.net/cran/libgit2/ubuntu bionic InRelease\n",
            "Hit:10 http://ppa.launchpad.net/deadsnakes/ppa/ubuntu bionic InRelease\n",
            "Get:11 http://archive.ubuntu.com/ubuntu bionic-backports InRelease [74.6 kB]\n",
            "Hit:12 http://ppa.launchpad.net/graphics-drivers/ppa/ubuntu bionic InRelease\n",
            "Fetched 252 kB in 11s (21.9 kB/s)\n",
            "Reading package lists... Done\n"
          ]
        }
      ],
      "source": [
        "# Importing the libraries needed\n",
        "import pandas as pd\n",
        "import numpy as np\n",
        "import json\n",
        "import scipy \n",
        "import torch\n",
        "from torch.utils.data import Dataset, DataLoader\n",
        "import logging\n",
        "import os\n",
        "# Find the latest version of spark 3.0 from http://www.apache.org/dist/spark/ and enter as the spark version\n",
        "# For example:\n",
        "# spark_version = 'spark-3.0.3'\n",
        "spark_version = 'spark-3.2.2'\n",
        "os.environ['SPARK_VERSION']=spark_version\n",
        "\n",
        "# Install Spark and Java\n",
        "!apt-get update\n",
        "!apt-get install openjdk-11-jdk-headless -qq > /dev/null\n",
        "!wget -q http://www.apache.org/dist/spark/$SPARK_VERSION/$SPARK_VERSION-bin-hadoop2.7.tgz\n",
        "!tar xf $SPARK_VERSION-bin-hadoop2.7.tgz\n",
        "!pip install -q findspark\n",
        "\n",
        "# Set Environment Variables\n",
        "import os\n",
        "os.environ[\"JAVA_HOME\"] = \"/usr/lib/jvm/java-11-openjdk-amd64\"\n",
        "os.environ[\"SPARK_HOME\"] = f\"/content/{spark_version}-bin-hadoop2.7\"\n",
        "\n",
        "# Start a SparkSession\n",
        "import findspark\n",
        "findspark.init()"
      ]
    },
    {
      "cell_type": "code",
      "execution_count": 2,
      "metadata": {
        "colab": {
          "base_uri": "https://localhost:8080/"
        },
        "id": "53UT8GZe21J_",
        "outputId": "71c464be-7864-41df-ba2a-62539e8e04b0"
      },
      "outputs": [
        {
          "name": "stdout",
          "output_type": "stream",
          "text": [
            "--2022-08-30 02:38:11--  https://jdbc.postgresql.org/download/postgresql-42.2.16.jar\n",
            "Resolving jdbc.postgresql.org (jdbc.postgresql.org)... 72.32.157.228, 2001:4800:3e1:1::228\n",
            "Connecting to jdbc.postgresql.org (jdbc.postgresql.org)|72.32.157.228|:443... connected.\n",
            "HTTP request sent, awaiting response... 200 OK\n",
            "Length: 1002883 (979K) [application/java-archive]\n",
            "Saving to: ‘postgresql-42.2.16.jar.7’\n",
            "\n",
            "postgresql-42.2.16. 100%[===================>] 979.38K  5.49MB/s    in 0.2s    \n",
            "\n",
            "2022-08-30 02:38:11 (5.49 MB/s) - ‘postgresql-42.2.16.jar.7’ saved [1002883/1002883]\n",
            "\n"
          ]
        }
      ],
      "source": [
        "!wget https://jdbc.postgresql.org/download/postgresql-42.2.16.jar"
      ]
    },
    {
      "cell_type": "code",
      "execution_count": 3,
      "metadata": {
        "id": "Mfy8zMU72vjc"
      },
      "outputs": [],
      "source": [
        "from pyspark.sql import SparkSession\n",
        "spark = SparkSession.builder.appName(\"UA_War\").config(\"spark.driver.extraClassPath\",\"/content/postgresql-42.2.16.jar\").getOrCreate()"
      ]
    },
    {
      "cell_type": "code",
      "execution_count": 4,
      "metadata": {
        "colab": {
          "base_uri": "https://localhost:8080/"
        },
        "id": "GYrfA-bu20FQ",
        "outputId": "9bc84876-acdf-41fa-e48c-0f0f9eb4015d"
      },
      "outputs": [
        {
          "name": "stdout",
          "output_type": "stream",
          "text": [
            "+---+-------------------+---------------+--------------------+------------------+---------+---------+-----------+--------------------+-------------------+--------------------+------------+--------------------+--------------------+--------+-----------+--------------+--------------------+\n",
            "|_c0|             userid|       username|            acctdesc|          location|following|followers|totaltweets|       usercreatedts|            tweetid|      tweetcreatedts|retweetcount|                text|            hashtags|language|coordinates|favorite_count|         extractedts|\n",
            "+---+-------------------+---------------+--------------------+------------------+---------+---------+-----------+--------------------+-------------------+--------------------+------------+--------------------+--------------------+--------+-----------+--------------+--------------------+\n",
            "|  0|          962369743|       toonspt_|พยรลก 😉\\nจะเปิดแ...|           <empty>|      462|        7|      20549|2012-11-21 13:01:...|1496738675085897729|2022-02-24 06:48:...|        1897|Footage of the ai...|[{'text': 'Ukrain...|      en|    <empty>|             0|2022-02-24 06:51:...|\n",
            "|  1| 865846412755353600| SabrinaBbsmith|อ้ายคือปริญญาใจน้...|    Just go for it|      385|      503|      84016|2017-05-20 08:27:...|1496738675140538368|2022-02-24 06:48:...|        3534|12.37 น. เจมส์ วอ...|                  []|      th|    <empty>|             0|2022-02-24 06:51:...|\n",
            "|  2|         1927022036|     haleggwenn|Mathe & Kulturant...|Göttingen, Germany|      251|       51|         78|2013-10-02 14:19:...|1496738675522248706|2022-02-24 06:48:...|           0|Die Rede von #Put...|[{'text': 'Putin'...|      de|    <empty>|             0|2022-02-24 06:51:...|\n",
            "|  3|         1073676020|IndiaTodayFLASH|No dragging feet ...|           <empty>|      117|  1152610|     589066|2013-01-09 12:46:...|1496738675584954371|2022-02-24 06:48:...|          18|Ukraine MP Sophia...|[{'text': 'ITVide...|      en|    <empty>|             0|2022-02-24 06:51:...|\n",
            "|  4|1484119658488033281| sandsand_fight|             <empty>|           <empty>|      128|        3|        691|2022-01-20 11:05:...|1496738675710857224|2022-02-24 06:48:...|        3974|รัสเซียยิงขีปนาวุ...|[{'text': 'รัสเซี...|      th|    <empty>|             0|2022-02-24 06:51:...|\n",
            "+---+-------------------+---------------+--------------------+------------------+---------+---------+-----------+--------------------+-------------------+--------------------+------------+--------------------+--------------------+--------+-----------+--------------+--------------------+\n",
            "only showing top 5 rows\n",
            "\n"
          ]
        }
      ],
      "source": [
        "#import data from aws s3 bucket for 1 day. This will be the starting dataframe to populate DB\n",
        "\n",
        "from pyspark import SparkFiles\n",
        "url = \"https://databootcamps3bucket.s3.us-west-2.amazonaws.com/ua_war/UkraineWar/0224_UATweets.csv.gz\"\n",
        "spark.sparkContext.addFile(url)\n",
        "\n",
        "df_start_date = spark.read.option(\"delimiter\", \",\").option(\"encoding\", \"UTF-8\").option(\"multiLine\", True).option(\"escape\", '\"').csv(SparkFiles.get(\"0224_UATweets.csv.gz\"),  header=True, inferSchema=True)\n",
        "\n",
        "# df.show(truncate=False) \n",
        "df_start_date_2 = df_start_date.na.fill(\"<empty>\")\n",
        "df_start_date_2.show(5)"
      ]
    },
    {
      "cell_type": "code",
      "execution_count": 5,
      "metadata": {
        "colab": {
          "base_uri": "https://localhost:8080/"
        },
        "id": "EwCpQsor2vnS",
        "outputId": "c38747a3-f246-4c3f-e61b-1f4cca5b58d8"
      },
      "outputs": [
        {
          "data": {
            "text/plain": [
              "[('_c0', 'int'),\n",
              " ('userid', 'bigint'),\n",
              " ('username', 'string'),\n",
              " ('acctdesc', 'string'),\n",
              " ('location', 'string'),\n",
              " ('following', 'int'),\n",
              " ('followers', 'int'),\n",
              " ('totaltweets', 'int'),\n",
              " ('usercreatedts', 'string'),\n",
              " ('tweetid', 'bigint'),\n",
              " ('tweetcreatedts', 'string'),\n",
              " ('retweetcount', 'int'),\n",
              " ('text', 'string'),\n",
              " ('hashtags', 'string'),\n",
              " ('language', 'string'),\n",
              " ('coordinates', 'string'),\n",
              " ('favorite_count', 'int'),\n",
              " ('extractedts', 'string')]"
            ]
          },
          "execution_count": 5,
          "metadata": {},
          "output_type": "execute_result"
        }
      ],
      "source": [
        "#see what the datatypes for df_8018 \n",
        "df_start_date.dtypes"
      ]
    },
    {
      "cell_type": "code",
      "execution_count": 6,
      "metadata": {
        "colab": {
          "base_uri": "https://localhost:8080/"
        },
        "id": "Ba5yU10j4S9u",
        "outputId": "e8d580db-ac8b-4aca-e7d2-e233863ffeb9"
      },
      "outputs": [
        {
          "data": {
            "text/plain": [
              "20"
            ]
          },
          "execution_count": 6,
          "metadata": {},
          "output_type": "execute_result"
        }
      ],
      "source": [
        "from pyspark import SparkFiles\n",
        "from pyspark.sql.functions import *\n",
        "\n",
        "#use this to determine which type of drop is needed. Also not all all dates have same number of columns \n",
        "df_start_date_count = len(df_start_date.columns)\n",
        "if df_start_date_count == 18:\n",
        "  df_start_date_2 = df_start_date_2.withColumn(\"is_retweet\", lit(None).cast('boolean')) \n",
        "  df_start_date_2 = df_start_date_2.withColumn(\"is_quote_status\", lit(None).cast('boolean')) \n",
        "\n",
        "len(df_start_date_2.columns)"
      ]
    },
    {
      "cell_type": "code",
      "execution_count": 7,
      "metadata": {
        "colab": {
          "base_uri": "https://localhost:8080/"
        },
        "id": "NJWMS6ji65Lu",
        "outputId": "ccd0273e-c479-4251-d082-64637ae56ee8"
      },
      "outputs": [
        {
          "name": "stdout",
          "output_type": "stream",
          "text": [
            "+--------+---------+---------+-----------+-------------+--------------+------------+--------------------+--------------------+--------+--------------+-----------+----------+---------------+\n",
            "|username|following|followers|totaltweets|usercreatedts|tweetcreatedts|retweetcount|                text|            hashtags|language|favorite_count|extractedts|is_retweet|is_quote_status|\n",
            "+--------+---------+---------+-----------+-------------+--------------+------------+--------------------+--------------------+--------+--------------+-----------+----------+---------------+\n",
            "|ozsultan|     9525|     9593|      71105|   2007-06-27|    2022-02-24|           0|@EricLMitchell He...|[{'text': 'Russia...|      en|             1| 2022-02-24|      null|           null|\n",
            "|Liddokun|     1428|      407|      20985|   2008-05-23|    2022-02-24|           3|Stock markets tum...|                  []|      en|             0| 2022-02-24|      null|           null|\n",
            "|judacris|      911|     3846|     162997|   2008-11-24|    2022-02-24|        1888|Footage of the ai...|[{'text': 'Ukrain...|      en|             0| 2022-02-24|      null|           null|\n",
            "| Lkhagva|     5755|    85904|      83953|   2008-10-15|    2022-02-24|           9|#Russia has annou...|[{'text': 'Russia...|      en|             0| 2022-02-24|      null|           null|\n",
            "| paikini|      200|       42|       7134|   2008-11-28|    2022-02-24|          26|The world must ac...|[{'text': 'Ukrain...|      en|             0| 2022-02-24|      null|           null|\n",
            "+--------+---------+---------+-----------+-------------+--------------+------------+--------------------+--------------------+--------+--------------+-----------+----------+---------------+\n",
            "only showing top 5 rows\n",
            "\n"
          ]
        }
      ],
      "source": [
        "from pyspark.sql.functions import *\n",
        "\n",
        "#1. Drop Uncessary Columns using the data set of 08-18-2022 as a starting point. \n",
        "cleaned_df = df_start_date_2.drop(\"userid\", \"_c0\", \"acctdesc\", \"location\", \"tweetid\", \"coordinates\", \"original_tweet_id\", \"original_tweet_userid\", \"original_tweet_username\", \"in_reply_to_status_id\", \"in_reply_to_screen_name\", 'in_reply_to_user_id', \"quoted_status_id\", \"quoted_status_username\", \"quoted_status_userid\")\n",
        "\n",
        "#2. change columns from string to year:month:day date format\n",
        "cleaned_df = cleaned_df.withColumn(\"usercreatedts\",to_date(\"usercreatedts\"))\n",
        "cleaned_df = cleaned_df.withColumn(\"tweetcreatedts\",to_date(\"tweetcreatedts\"))\n",
        "cleaned_df = cleaned_df.withColumn(\"extractedts\",to_date(\"extractedts\"))\n",
        "\n",
        "#3. filter out langauge = english only\n",
        "cleaned_df = cleaned_df.filter(cleaned_df[\"language\"]==\"en\")\n",
        "cleaned_df = cleaned_df.filter(cleaned_df[\"usercreatedts\"] < \"2009-01-01\")\n",
        "\n",
        "cleaned_df.show(5)"
      ]
    },
    {
      "cell_type": "code",
      "execution_count": null,
      "metadata": {
        "id": "NppJYnBwUDmu"
      },
      "outputs": [],
      "source": []
    },
    {
      "cell_type": "code",
      "execution_count": 8,
      "metadata": {
        "colab": {
          "base_uri": "https://localhost:8080/"
        },
        "id": "PsuQFKu47EEF",
        "outputId": "37c236f8-0a77-45b0-ae7a-0e33b6b0aff8"
      },
      "outputs": [
        {
          "data": {
            "text/plain": [
              "14500"
            ]
          },
          "execution_count": 8,
          "metadata": {},
          "output_type": "execute_result"
        }
      ],
      "source": [
        "cleaned_df_count = cleaned_df.count()\n",
        "cleaned_df_count"
      ]
    },
    {
      "cell_type": "code",
      "execution_count": null,
      "metadata": {
        "id": "DlFmNB2rcYTY"
      },
      "outputs": [],
      "source": [
        "all_dates_arr = [\"0224\", \"0227\", \"0228p1\", \"0228p2\", \"0301\", \"0302\", \"0303\", \"0304\", \"0305\", \"0306\", \"0307\", \"0308\", \"0309\",\"0310\", \"0311\", \"0312\", \"0313\", \"0314\", \"0315\", \"0316\", \"0317\", \"0318\", \"0319\", \"0320\", \"0321\", \"0322\", \"0323\", \"0324\", \"0325\", \"0326\", \"0327\", \"0328\", \"0329\", \"0330\", \"0331\",\n",
        " \"0401\", \"0402\", \"0403\", \"0404\", \"0405\", \"0406\", \"0407\", \"0408\", \"0409\",\"0410\", \"0411\", \"0412\", \"0413\", \"0414\", \"0415\", \"0416\", \"0417\", \"0418\", \"0419\", \"0420\", \"0421\", \"0422\", \"0423\", \"0424\", \"0425\", \"0426\", \"0427\", \"0428\", \"0429\", \"0430\",\n",
        " \"0501\", \"0502\", \"0503\", \"0504\", \"0505\", \"0506\", \"0507\", \"0508\", \"0509\",\"0510\", \"0511\", \"0512\", \"0513\", \"0514\", \"0515\", \"0516\", \"0517\", \"0518\", \"0519\", \"0520\", \"0521\", \"0522\", \"0523\", \"0524\", \"0525\", \"0526\", \"0527\", \"0528\", \"0529\", \"0530\", \"0531\",\n",
        " \"0601\", \"0602\", \"0603\", \"0604\", \"0605\", \"0606\", \"0607\", \"0608\", \"0609\",\"0610\", \"0611\", \"0612\", \"0613\", \"0614\", \"0615\", \"0616\", \"0617\", \"0618\", \"0619\", \"0620\", \"0621\", \"0622\", \"0623\", \"0624\", \"0625\", \"0626\", \"0627\", \"0628\", \"0629\", \"0630\",\n",
        " \"0701\", \"0702\", \"0703\", \"0704\", \"0705\", \"0706\", \"0707\", \"0708\", \"0709\",\"0710\", \"0711\", \"0712\", \"0713\", \"0714\", \"0715\", \"0716\", \"0717\", \"0718\", \"0719\", \"0720\", \"0721\", \"0722\", \"0723\", \"0724\", \"0725\", \"0726\", \"0727\", \"0728\", \"0729\", \"0730\", \"0731\",\n",
        " \"0801\", \"0802\", \"0803\", \"0804\", \"0805\", \"0806\", \"0807\", \"0808\", \"0809\",\"0810\", \"0811\", \"0812\", \"0813\", \"0814\", \"0815\", \"0816\", \"0817\", \"0818\"]"
      ]
    },
    {
      "cell_type": "code",
      "execution_count": 10,
      "metadata": {
        "id": "l_ijqFrpOHP8"
      },
      "outputs": [],
      "source": [
        "date_arr_feb = [\"0227\", \"0228p1\", \"0228p2\"]"
      ]
    },
    {
      "cell_type": "code",
      "execution_count": null,
      "metadata": {
        "id": "tD_UIt3WPLdK"
      },
      "outputs": [],
      "source": [
        "date_arr_march = [\"0301\", \"0302\", \"0303\", \"0304\", \"0305\", \"0306\", \"0307\", \"0308\", \"0309\",\"0310\", \"0311\", \"0312\", \"0313\", \"0314\", \"0315\", \"0316\", \"0317\", \"0318\", \"0319\", \"0320\", \"0321\", \"0322\", \"0323\", \"0324\", \"0325\", \"0326\", \"0327\", \"0328\", \"0329\", \"0330\", \"0331\"]"
      ]
    },
    {
      "cell_type": "code",
      "execution_count": null,
      "metadata": {
        "id": "jeiWZxAePLqp"
      },
      "outputs": [],
      "source": [
        "date_arr_april = [ \"0401\", \"0402\", \"0403\", \"0404\", \"0405\", \"0406\", \"0407\", \"0408\", \"0409\",\"0410\", \"0411\", \"0412\", \"0413\", \"0414\", \"0415\", \"0416\", \"0417\", \"0418\", \"0419\", \"0420\", \"0421\", \"0422\", \"0423\", \"0424\", \"0425\", \"0426\", \"0427\", \"0428\", \"0429\", \"0430\"]"
      ]
    },
    {
      "cell_type": "code",
      "execution_count": null,
      "metadata": {
        "id": "cyCoTyPRPLyG"
      },
      "outputs": [],
      "source": [
        "date_arr_may = [ \"0501\", \"0502\", \"0503\", \"0504\", \"0505\", \"0506\", \"0507\", \"0508\", \"0509\",\"0510\", \"0511\", \"0512\", \"0513\", \"0514\", \"0515\", \"0516\", \"0517\", \"0518\", \"0519\", \"0520\", \"0521\", \"0522\", \"0523\", \"0524\", \"0525\", \"0526\", \"0527\", \"0528\", \"0529\", \"0530\", \"0531\"]"
      ]
    },
    {
      "cell_type": "code",
      "execution_count": null,
      "metadata": {
        "id": "g4-dhRXSPL2q"
      },
      "outputs": [],
      "source": [
        "date_arr_june = [ \"0601\", \"0602\", \"0603\", \"0604\", \"0605\", \"0606\", \"0607\", \"0608\", \"0609\",\"0610\", \"0611\", \"0612\", \"0613\", \"0614\", \"0615\", \"0616\", \"0617\", \"0618\", \"0619\", \"0620\", \"0621\", \"0622\", \"0623\", \"0624\", \"0625\", \"0626\", \"0627\", \"0628\", \"0629\", \"0630\"]"
      ]
    },
    {
      "cell_type": "code",
      "execution_count": null,
      "metadata": {
        "id": "-ogHwxv5PisD"
      },
      "outputs": [],
      "source": [
        "date_arr_july = [ \"0701\", \"0702\", \"0703\", \"0704\", \"0705\", \"0706\", \"0707\", \"0708\", \"0709\",\"0710\", \"0711\", \"0712\", \"0713\", \"0714\", \"0715\", \"0716\", \"0717\", \"0718\", \"0719\", \"0720\", \"0721\", \"0722\", \"0723\", \"0724\", \"0725\", \"0726\", \"0727\", \"0728\", \"0729\", \"0730\", \"0731\"]"
      ]
    },
    {
      "cell_type": "code",
      "execution_count": null,
      "metadata": {
        "id": "1i90KFUkPi3S"
      },
      "outputs": [],
      "source": [
        "date_arr_august = [ \"0801\", \"0802\", \"0803\", \"0804\", \"0805\", \"0806\", \"0807\", \"0808\", \"0809\",\"0810\", \"0811\", \"0812\", \"0813\", \"0814\", \"0815\", \"0816\", \"0817\", \"0818\"]"
      ]
    },
    {
      "cell_type": "code",
      "execution_count": 11,
      "metadata": {
        "colab": {
          "base_uri": "https://localhost:8080/"
        },
        "id": "SCbblSe518Du",
        "outputId": "0f87393e-67bb-44be-fca9-fc2152cc8fb0"
      },
      "outputs": [
        {
          "name": "stdout",
          "output_type": "stream",
          "text": [
            "0227 - 19730\n",
            "0228p1 - 22771\n",
            "0228p2 - 25122\n"
          ]
        }
      ],
      "source": [
        "from pyspark import SparkFiles\n",
        "from pyspark.sql.functions import *\n",
        "\n",
        "url = \"https://databootcamps3bucket.s3.us-west-2.amazonaws.com/ua_war/UkraineWar\"\n",
        "\n",
        "for day in date_arr_feb:\n",
        "      #load the data from aws\n",
        "      aws_url = f\"{url}/{day}_UATweets.csv.gz\"\n",
        "      spark.sparkContext.addFile(aws_url)\n",
        "      temp_df = spark.read.option(\"delimiter\", \",\").option(\"encoding\", \"UTF-8\").option(\"multiLine\", True).option(\"escape\", '\"').csv(SparkFiles.get(f\"{day}_UATweets.csv.gz\"),  header=True, inferSchema=True)\n",
        "      \n",
        "      #keep count number of columns to determine which if else block it will hit\n",
        "      temp_count = len(temp_df.columns)\n",
        "\n",
        "      #change columns from string to year:month:day date format\n",
        "      temp_df = temp_df.withColumn(\"usercreatedts\",to_date(\"usercreatedts\"))\n",
        "      temp_df = temp_df.withColumn(\"tweetcreatedts\",to_date(\"tweetcreatedts\"))\n",
        "      temp_df = temp_df.withColumn(\"extractedts\",to_date(\"extractedts\"))\n",
        "\n",
        "      #filter out data for english only \n",
        "      temp_df = temp_df.filter(temp_df[\"language\"]==\"en\")\n",
        "      #filter out usercreated before 2009\n",
        "      temp_df = temp_df.filter(temp_df[\"usercreatedts\"] < \"2009-01-01\")\n",
        "\n",
        "      #fill in null values \n",
        "      temp_df_2 = temp_df.na.fill(\"<empty>\")\n",
        "\n",
        "      #some days the data columns has less columns then other days \n",
        "      if temp_count == 18:\n",
        "        temp_df_3 = temp_df_2.drop(\"userid\", \"_c0\", \"acctdesc\", \"location\", \"tweetid\", \"coordinates\")\n",
        "        temp_df_3 = temp_df_3.withColumn(\"is_retweet\", lit(None).cast('boolean')) \n",
        "        temp_df_3 = temp_df_3.withColumn(\"is_quote_status\", lit(None).cast('boolean')) \n",
        "\n",
        "      elif temp_count == 29:\n",
        "        temp_df_3 = temp_df_2.drop(\"userid\", \"_c0\", \"acctdesc\", \"location\", \"tweetid\", \"coordinates\", \"original_tweet_id\", \"original_tweet_userid\", \"original_tweet_username\", \"in_reply_to_status_id\", \"in_reply_to_screen_name\", 'in_reply_to_user_id', \"quoted_status_id\", \"quoted_status_username\", \"quoted_status_userid\")\n",
        "\n",
        "      else:\n",
        "        print(f\"Error on {day}_UATweets.csv.gz and column count {temp_count}\")\n",
        "\n",
        "      cleaned_df = cleaned_df.unionByName(temp_df_3)\n",
        "      print(f\"{day} - {cleaned_df.count()}\")\n"
      ]
    },
    {
      "cell_type": "code",
      "execution_count": 13,
      "metadata": {
        "colab": {
          "base_uri": "https://localhost:8080/"
        },
        "id": "2UqTcDqfO2mK",
        "outputId": "bb2eb39d-bb81-43c4-d940-f5730e629f0f"
      },
      "outputs": [
        {
          "name": "stdout",
          "output_type": "stream",
          "text": [
            "+---------------+---------+---------+-----------+-------------+--------------+------------+--------------------+--------------------+--------+--------------+-----------+----------+---------------+\n",
            "|       username|following|followers|totaltweets|usercreatedts|tweetcreatedts|retweetcount|                text|            hashtags|language|favorite_count|extractedts|is_retweet|is_quote_status|\n",
            "+---------------+---------+---------+-----------+-------------+--------------+------------+--------------------+--------------------+--------+--------------+-----------+----------+---------------+\n",
            "|       toonspt_|      462|        7|      20549|   2012-11-21|    2022-02-24|        1897|Footage of the ai...|[{'text': 'Ukrain...|      en|             0| 2022-02-24|      null|           null|\n",
            "|IndiaTodayFLASH|      117|  1152610|     589066|   2013-01-09|    2022-02-24|          18|Ukraine MP Sophia...|[{'text': 'ITVide...|      en|             0| 2022-02-24|      null|           null|\n",
            "|     Areopagiet|     5008|      267|       9894|   2018-09-13|    2022-02-24|        1552|A cruise missile ...|[{'text': 'Ukrain...|      en|             0| 2022-02-24|      null|           null|\n",
            "|    Sicarius130|      459|      272|      57829|   2015-10-08|    2022-02-24|        1032|SPREAD AND SHARE,...|[{'text': 'Ukrain...|      en|             0| 2022-02-24|      null|           null|\n",
            "|      qwerty_cr|      595|     1243|       2620|   2018-12-18|    2022-02-24|        1897|Footage of the ai...|[{'text': 'Ukrain...|      en|             0| 2022-02-24|      null|           null|\n",
            "+---------------+---------+---------+-----------+-------------+--------------+------------+--------------------+--------------------+--------+--------------+-----------+----------+---------------+\n",
            "only showing top 5 rows\n",
            "\n"
          ]
        }
      ],
      "source": [
        "cleaned_df.show(5)"
      ]
    },
    {
      "cell_type": "code",
      "execution_count": 12,
      "metadata": {
        "id": "G41nTWm_RY3v"
      },
      "outputs": [],
      "source": [
        "#add week column for \"tweetcreatedts\"\n",
        "cleaned_df = cleaned_df.withColumn(\"weekofyear\",weekofyear(\"tweetcreatedts\"))"
      ]
    },
    {
      "cell_type": "code",
      "execution_count": 13,
      "metadata": {
        "colab": {
          "base_uri": "https://localhost:8080/"
        },
        "id": "dFfdUvDHTBPp",
        "outputId": "d02e562a-2ead-4546-b068-60933e862e49"
      },
      "outputs": [
        {
          "name": "stdout",
          "output_type": "stream",
          "text": [
            "+--------+---------+---------+-----------+-------------+--------------+------------+--------------------+--------------------+--------+--------------+-----------+----------+---------------+----------+\n",
            "|username|following|followers|totaltweets|usercreatedts|tweetcreatedts|retweetcount|                text|            hashtags|language|favorite_count|extractedts|is_retweet|is_quote_status|weekofyear|\n",
            "+--------+---------+---------+-----------+-------------+--------------+------------+--------------------+--------------------+--------+--------------+-----------+----------+---------------+----------+\n",
            "|ozsultan|     9525|     9593|      71105|   2007-06-27|    2022-02-24|           0|@EricLMitchell He...|[{'text': 'Russia...|      en|             1| 2022-02-24|      null|           null|         8|\n",
            "|Liddokun|     1428|      407|      20985|   2008-05-23|    2022-02-24|           3|Stock markets tum...|                  []|      en|             0| 2022-02-24|      null|           null|         8|\n",
            "|judacris|      911|     3846|     162997|   2008-11-24|    2022-02-24|        1888|Footage of the ai...|[{'text': 'Ukrain...|      en|             0| 2022-02-24|      null|           null|         8|\n",
            "| Lkhagva|     5755|    85904|      83953|   2008-10-15|    2022-02-24|           9|#Russia has annou...|[{'text': 'Russia...|      en|             0| 2022-02-24|      null|           null|         8|\n",
            "| paikini|      200|       42|       7134|   2008-11-28|    2022-02-24|          26|The world must ac...|[{'text': 'Ukrain...|      en|             0| 2022-02-24|      null|           null|         8|\n",
            "+--------+---------+---------+-----------+-------------+--------------+------------+--------------------+--------------------+--------+--------------+-----------+----------+---------------+----------+\n",
            "only showing top 5 rows\n",
            "\n"
          ]
        }
      ],
      "source": [
        "cleaned_df.show(5)"
      ]
    },
    {
      "cell_type": "code",
      "execution_count": 14,
      "metadata": {
        "colab": {
          "base_uri": "https://localhost:8080/"
        },
        "id": "E5rDA3KzXf9y",
        "outputId": "4f15c762-f890-4259-af72-306ef964b6c5"
      },
      "outputs": [
        {
          "data": {
            "text/plain": [
              "[('username', 'string'),\n",
              " ('following', 'int'),\n",
              " ('followers', 'int'),\n",
              " ('totaltweets', 'int'),\n",
              " ('usercreatedts', 'date'),\n",
              " ('tweetcreatedts', 'date'),\n",
              " ('retweetcount', 'int'),\n",
              " ('text', 'string'),\n",
              " ('hashtags', 'string'),\n",
              " ('language', 'string'),\n",
              " ('favorite_count', 'int'),\n",
              " ('extractedts', 'date'),\n",
              " ('is_retweet', 'boolean'),\n",
              " ('is_quote_status', 'boolean'),\n",
              " ('weekofyear', 'int')]"
            ]
          },
          "execution_count": 14,
          "metadata": {},
          "output_type": "execute_result"
        }
      ],
      "source": [
        "cleaned_df.dtypes"
      ]
    },
    {
      "cell_type": "markdown",
      "metadata": {
        "id": "XgqRwUf5Piiy"
      },
      "source": [
        "### Connect to the AWS RDS instance and write each DataFrame to its table. "
      ]
    },
    {
      "cell_type": "code",
      "execution_count": 15,
      "metadata": {
        "colab": {
          "base_uri": "https://localhost:8080/"
        },
        "id": "UfJdnNYqPwYV",
        "outputId": "46ea1019-6ef7-494a-9d25-a789a7f5bc75"
      },
      "outputs": [
        {
          "name": "stdout",
          "output_type": "stream",
          "text": [
            "Enter database password··········\n"
          ]
        }
      ],
      "source": [
        "# Store environmental variable\n",
        "from getpass import getpass\n",
        "password = getpass('Enter database password')\n",
        "# Configure settings for RDS\n",
        "mode = \"append\"\n",
        "jdbc_url=\"jdbc:postgresql://tweets.cnzbbvrrhst7.us-west-1.rds.amazonaws.com:5432/ua_data\"\n",
        "config = {\"user\":\"uatweets\", \n",
        "          \"password\": password, \n",
        "          \"driver\":\"org.postgresql.Driver\"}\n"
      ]
    },
    {
      "cell_type": "code",
      "execution_count": 16,
      "metadata": {
        "id": "o4xuvfyFPwxS"
      },
      "outputs": [],
      "source": [
        "# Write review_id_df to table in RDS\n",
        "cleaned_df.write.jdbc(url=jdbc_url, table='tweets_table', mode=mode, properties=config)"
      ]
    }
  ],
  "metadata": {
    "colab": {
      "collapsed_sections": [],
      "name": "tweet_feb.ipynb",
      "provenance": []
    },
    "kernelspec": {
      "display_name": "Python 3.9.5 64-bit",
      "language": "python",
      "name": "python3"
    },
    "language_info": {
      "name": "python",
      "version": "3.9.5"
    },
    "vscode": {
      "interpreter": {
        "hash": "aee8b7b246df8f9039afb4144a1f6fd8d2ca17a180786b69acc140d282b71a49"
      }
    }
  },
  "nbformat": 4,
  "nbformat_minor": 0
}
