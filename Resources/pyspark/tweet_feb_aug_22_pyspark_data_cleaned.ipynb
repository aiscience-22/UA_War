{
  "nbformat": 4,
  "nbformat_minor": 0,
  "metadata": {
    "colab": {
      "name": "tweet_feb_aug_22_v7.ipynb",
      "provenance": [],
      "collapsed_sections": []
    },
    "kernelspec": {
      "name": "python3",
      "display_name": "Python 3"
    },
    "language_info": {
      "name": "python"
    }
  },
  "cells": [
    {
      "cell_type": "code",
      "execution_count": null,
      "metadata": {
        "colab": {
          "base_uri": "https://localhost:8080/"
        },
        "id": "PQPeAcH-160k",
        "outputId": "c71ea8cb-5f4b-45eb-a234-f72e1d58129d"
      },
      "outputs": [
        {
          "output_type": "stream",
          "name": "stdout",
          "text": [
            "\r0% [Working]\r            \rGet:1 http://security.ubuntu.com/ubuntu bionic-security InRelease [88.7 kB]\n",
            "\r0% [Connecting to archive.ubuntu.com (91.189.91.39)] [1 InRelease 14.2 kB/88.7 \r                                                                               \rHit:2 http://ppa.launchpad.net/c2d4u.team/c2d4u4.0+/ubuntu bionic InRelease\n",
            "\r0% [Connecting to archive.ubuntu.com (91.189.91.39)] [1 InRelease 88.7 kB/88.7 \r                                                                               \rHit:3 http://ppa.launchpad.net/cran/libgit2/ubuntu bionic InRelease\n",
            "\r                                                                               \rHit:4 http://ppa.launchpad.net/deadsnakes/ppa/ubuntu bionic InRelease\n",
            "\r0% [Waiting for headers] [Connected to cloud.r-project.org (18.65.39.68)] [Wait\r                                                                               \rHit:5 http://ppa.launchpad.net/graphics-drivers/ppa/ubuntu bionic InRelease\n",
            "\r                                                                               \r0% [Waiting for headers] [Waiting for headers] [Waiting for headers]\r0% [2 InRelease gpgv 15.9 kB] [Waiting for headers] [Waiting for headers] [Wait\r                                                                               \rHit:6 https://cloud.r-project.org/bin/linux/ubuntu bionic-cran40/ InRelease\n",
            "Hit:7 http://archive.ubuntu.com/ubuntu bionic InRelease\n",
            "Get:8 http://archive.ubuntu.com/ubuntu bionic-updates InRelease [88.7 kB]\n",
            "Ign:9 https://developer.download.nvidia.com/compute/machine-learning/repos/ubuntu1804/x86_64  InRelease\n",
            "Hit:10 https://developer.download.nvidia.com/compute/cuda/repos/ubuntu1804/x86_64  InRelease\n",
            "Hit:11 https://developer.download.nvidia.com/compute/machine-learning/repos/ubuntu1804/x86_64  Release\n",
            "Get:12 http://archive.ubuntu.com/ubuntu bionic-backports InRelease [74.6 kB]\n",
            "Fetched 252 kB in 3s (97.3 kB/s)\n",
            "Reading package lists... Done\n"
          ]
        }
      ],
      "source": [
        "# Importing the libraries needed\n",
        "import pandas as pd\n",
        "import numpy as np\n",
        "import json\n",
        "import scipy \n",
        "import torch\n",
        "from torch.utils.data import Dataset, DataLoader\n",
        "import logging\n",
        "import os\n",
        "# Find the latest version of spark 3.0 from http://www.apache.org/dist/spark/ and enter as the spark version\n",
        "# For example:\n",
        "# spark_version = 'spark-3.0.3'\n",
        "spark_version = 'spark-3.2.2'\n",
        "os.environ['SPARK_VERSION']=spark_version\n",
        "\n",
        "# Install Spark and Java\n",
        "!apt-get update\n",
        "!apt-get install openjdk-11-jdk-headless -qq > /dev/null\n",
        "!wget -q http://www.apache.org/dist/spark/$SPARK_VERSION/$SPARK_VERSION-bin-hadoop2.7.tgz\n",
        "!tar xf $SPARK_VERSION-bin-hadoop2.7.tgz\n",
        "!pip install -q findspark\n",
        "\n",
        "# Set Environment Variables\n",
        "import os\n",
        "os.environ[\"JAVA_HOME\"] = \"/usr/lib/jvm/java-11-openjdk-amd64\"\n",
        "os.environ[\"SPARK_HOME\"] = f\"/content/{spark_version}-bin-hadoop2.7\"\n",
        "\n",
        "# Start a SparkSession\n",
        "import findspark\n",
        "findspark.init()"
      ]
    },
    {
      "cell_type": "code",
      "source": [
        "!wget https://jdbc.postgresql.org/download/postgresql-42.2.16.jar"
      ],
      "metadata": {
        "colab": {
          "base_uri": "https://localhost:8080/"
        },
        "id": "53UT8GZe21J_",
        "outputId": "f63b49e7-f858-4906-ac89-b7f8958e3bbd"
      },
      "execution_count": null,
      "outputs": [
        {
          "output_type": "stream",
          "name": "stdout",
          "text": [
            "--2022-08-29 06:45:02--  https://jdbc.postgresql.org/download/postgresql-42.2.16.jar\n",
            "Resolving jdbc.postgresql.org (jdbc.postgresql.org)... 72.32.157.228, 2001:4800:3e1:1::228\n",
            "Connecting to jdbc.postgresql.org (jdbc.postgresql.org)|72.32.157.228|:443... connected.\n",
            "HTTP request sent, awaiting response... 200 OK\n",
            "Length: 1002883 (979K) [application/java-archive]\n",
            "Saving to: ‘postgresql-42.2.16.jar.4’\n",
            "\n",
            "postgresql-42.2.16. 100%[===================>] 979.38K  1.59MB/s    in 0.6s    \n",
            "\n",
            "2022-08-29 06:45:03 (1.59 MB/s) - ‘postgresql-42.2.16.jar.4’ saved [1002883/1002883]\n",
            "\n"
          ]
        }
      ]
    },
    {
      "cell_type": "code",
      "source": [
        "from pyspark.sql import SparkSession\n",
        "spark = SparkSession.builder.appName(\"UA_War\").config(\"spark.driver.extraClassPath\",\"/content/postgresql-42.2.16.jar\").getOrCreate()"
      ],
      "metadata": {
        "id": "Mfy8zMU72vjc"
      },
      "execution_count": null,
      "outputs": []
    },
    {
      "cell_type": "code",
      "source": [
        "#import data from aws s3 bucket for 08-18-22. This will be the starting dataframe to populate DB\n",
        "\n",
        "from pyspark import SparkFiles\n",
        "url = \"https://databootcamps3bucket.s3.us-west-2.amazonaws.com/ua_war/UkraineWar/0818_UATweets.csv.gz\"\n",
        "spark.sparkContext.addFile(url)\n",
        "\n",
        "df_8018 = spark.read.option(\"delimiter\", \",\").option(\"encoding\", \"UTF-8\").option(\"multiLine\", True).option(\"escape\", '\"').csv(SparkFiles.get(\"0818_UATweets.csv.gz\"),  header=True, inferSchema=True)\n",
        "\n",
        "# df.show(truncate=False) \n",
        "df_8018_2 = df_8018.na.fill(\"<empty>\")\n",
        "\n",
        "df_8018_2.show(5)"
      ],
      "metadata": {
        "colab": {
          "base_uri": "https://localhost:8080/"
        },
        "id": "GYrfA-bu20FQ",
        "outputId": "1807ed0a-702e-4160-c604-87aa672856d7"
      },
      "execution_count": null,
      "outputs": [
        {
          "output_type": "stream",
          "name": "stdout",
          "text": [
            "+---+-------------------+---------------+--------------------+------------------+---------+---------+-----------+--------------------+-------------------+-------------------+------------+--------------------+--------------------+--------+-----------+--------------+----------+-----------------+---------------------+-----------------------+---------------------+-------------------+-----------------------+---------------+----------------+--------------------+----------------------+--------------------+\n",
            "|_c0|             userid|       username|            acctdesc|          location|following|followers|totaltweets|       usercreatedts|            tweetid|     tweetcreatedts|retweetcount|                text|            hashtags|language|coordinates|favorite_count|is_retweet|original_tweet_id|original_tweet_userid|original_tweet_username|in_reply_to_status_id|in_reply_to_user_id|in_reply_to_screen_name|is_quote_status|quoted_status_id|quoted_status_userid|quoted_status_username|         extractedts|\n",
            "+---+-------------------+---------------+--------------------+------------------+---------+---------+-----------+--------------------+-------------------+-------------------+------------+--------------------+--------------------+--------+-----------+--------------+----------+-----------------+---------------------+-----------------------+---------------------+-------------------+-----------------------+---------------+----------------+--------------------+----------------------+--------------------+\n",
            "|  0|1356632630662430722|DogandCatHelpe1|Shelter for aband...|           Ukraine|        5|       39|        685|2021-02-02 15:57:...|1560053863733809152|2022-08-18 00:00:00|           1|Welcome to our sh...|[{'text': 'Ukrain...|      en|    <empty>|             3|     false|                0|                    0|                <empty>|                    0|                  0|                <empty>|          false|               0|                   0|               <empty>|2022-08-18 08:19:...|\n",
            "|  1|         2852858199| interdamazonia|O olhar dos Inter...|Belém, PA - Brasil|      434|      695|       9883|2014-10-31 02:40:...|1560053864337776640|2022-08-18 00:00:00|           0|Militares #chines...|[{'text': 'chines...|      pt|    <empty>|             0|     false|                0|                    0|                <empty>|                    0|                  0|                <empty>|          false|               0|                   0|               <empty>|2022-08-18 07:34:...|\n",
            "|  2|           45013575|      teleSURtv|Con más de 40 cor...|           Caracas|      347|  2064188|    1398112|2009-06-05 22:21:...|1560053864904138754|2022-08-18 00:00:00|          38|#Rusia 🇷🇺 denun...|[{'text': 'Rusia'...|      es|    <empty>|            32|     false|                0|                    0|                <empty>|                    0|                  0|                <empty>|          false|               0|                   0|               <empty>|2022-08-18 08:49:...|\n",
            "|  3|1524003808917008384|     pravda_eng|Official English ...|           Ukraine|       44|    37512|       4163|2022-05-10 14:25:...|1560053867127001088|2022-08-18 00:00:00|           8|Russian ferry Lav...|[{'text': 'Mariup...|      ht|    <empty>|            24|     false|                0|                    0|                <empty>|                    0|                  0|                <empty>|          false|               0|                   0|               <empty>|2022-08-18 07:59:...|\n",
            "|  4| 773589011654905860|  ruletarusa_mx|             <empty>|           <empty>|      185|      541|      19123|2016-09-07 18:29:...|1560053867580047360|2022-08-18 00:00:01|           0|Aunque la evacuac...|[{'text': 'Donbás...|      es|    <empty>|             0|     false|                0|                    0|                <empty>|                    0|                  0|                <empty>|          false|               0|                   0|               <empty>|2022-08-18 08:49:...|\n",
            "+---+-------------------+---------------+--------------------+------------------+---------+---------+-----------+--------------------+-------------------+-------------------+------------+--------------------+--------------------+--------+-----------+--------------+----------+-----------------+---------------------+-----------------------+---------------------+-------------------+-----------------------+---------------+----------------+--------------------+----------------------+--------------------+\n",
            "only showing top 5 rows\n",
            "\n"
          ]
        }
      ]
    },
    {
      "cell_type": "code",
      "source": [
        "#see what the datatypes for df_8018 \n",
        "df_8018_2.dtypes"
      ],
      "metadata": {
        "colab": {
          "base_uri": "https://localhost:8080/"
        },
        "id": "EwCpQsor2vnS",
        "outputId": "f1883e5c-a900-49d5-e30b-b968bc08face"
      },
      "execution_count": null,
      "outputs": [
        {
          "output_type": "execute_result",
          "data": {
            "text/plain": [
              "[('_c0', 'int'),\n",
              " ('userid', 'bigint'),\n",
              " ('username', 'string'),\n",
              " ('acctdesc', 'string'),\n",
              " ('location', 'string'),\n",
              " ('following', 'int'),\n",
              " ('followers', 'int'),\n",
              " ('totaltweets', 'int'),\n",
              " ('usercreatedts', 'string'),\n",
              " ('tweetid', 'bigint'),\n",
              " ('tweetcreatedts', 'string'),\n",
              " ('retweetcount', 'int'),\n",
              " ('text', 'string'),\n",
              " ('hashtags', 'string'),\n",
              " ('language', 'string'),\n",
              " ('coordinates', 'string'),\n",
              " ('favorite_count', 'int'),\n",
              " ('is_retweet', 'boolean'),\n",
              " ('original_tweet_id', 'int'),\n",
              " ('original_tweet_userid', 'int'),\n",
              " ('original_tweet_username', 'string'),\n",
              " ('in_reply_to_status_id', 'bigint'),\n",
              " ('in_reply_to_user_id', 'bigint'),\n",
              " ('in_reply_to_screen_name', 'string'),\n",
              " ('is_quote_status', 'boolean'),\n",
              " ('quoted_status_id', 'bigint'),\n",
              " ('quoted_status_userid', 'bigint'),\n",
              " ('quoted_status_username', 'string'),\n",
              " ('extractedts', 'string')]"
            ]
          },
          "metadata": {},
          "execution_count": 16
        }
      ]
    },
    {
      "cell_type": "code",
      "source": [
        "#use this to determine which type of drop is needed. Also not all all dates have same number of columns \n",
        "len(df_8018_2.columns)"
      ],
      "metadata": {
        "colab": {
          "base_uri": "https://localhost:8080/"
        },
        "id": "Ba5yU10j4S9u",
        "outputId": "f79359cb-0906-4888-b1c1-fa56ff23ce53"
      },
      "execution_count": null,
      "outputs": [
        {
          "output_type": "execute_result",
          "data": {
            "text/plain": [
              "29"
            ]
          },
          "metadata": {},
          "execution_count": 17
        }
      ]
    },
    {
      "cell_type": "code",
      "source": [
        "from pyspark.sql.functions import *\n",
        "\n",
        "#1. Drop Uncessary Columns using the data set of 08-18-2022 as a starting point. \n",
        "cleaned_df = df_8018_2.drop(\"userid\", \"_c0\", \"acctdesc\", \"location\", \"tweetid\", \"coordinates\", \"original_tweet_id\", \"original_tweet_userid\", \"original_tweet_username\", \"in_reply_to_status_id\", \"in_reply_to_screen_name\", 'in_reply_to_user_id', \"quoted_status_id\", \"quoted_status_username\", \"quoted_status_userid\")\n",
        "\n",
        "#2. change columns from string to year:month:day date format\n",
        "cleaned_df = cleaned_df.withColumn(\"usercreatedts\",to_date(\"usercreatedts\"))\n",
        "cleaned_df = cleaned_df.withColumn(\"tweetcreatedts\",to_date(\"tweetcreatedts\"))\n",
        "cleaned_df = cleaned_df.withColumn(\"extractedts\",to_date(\"extractedts\"))\n",
        "\n",
        "#3. filter out langauge = english only\n",
        "cleaned_df = cleaned_df.filter(cleaned_df[\"language\"]==\"en\")\n",
        "cleaned_df = cleaned_df.filter(cleaned_df[\"usercreatedts\"] >= \"2009-01-01\")\n",
        "\n",
        "cleaned_df.show(5)"
      ],
      "metadata": {
        "colab": {
          "base_uri": "https://localhost:8080/"
        },
        "id": "NJWMS6ji65Lu",
        "outputId": "e667e93a-ac09-4d6d-e473-52f211d93e43"
      },
      "execution_count": null,
      "outputs": [
        {
          "output_type": "stream",
          "name": "stdout",
          "text": [
            "+---------------+---------+---------+-----------+-------------+--------------+------------+--------------------+--------------------+--------+--------------+----------+---------------+-----------+\n",
            "|       username|following|followers|totaltweets|usercreatedts|tweetcreatedts|retweetcount|                text|            hashtags|language|favorite_count|is_retweet|is_quote_status|extractedts|\n",
            "+---------------+---------+---------+-----------+-------------+--------------+------------+--------------------+--------------------+--------+--------------+----------+---------------+-----------+\n",
            "|DogandCatHelpe1|        5|       39|        685|   2021-02-02|    2022-08-18|           1|Welcome to our sh...|[{'text': 'Ukrain...|      en|             3|     false|          false| 2022-08-18|\n",
            "|        orfecon|       27|     3071|      15040|   2017-01-06|    2022-08-18|           0|Will the #sanctio...|[{'text': 'sancti...|      en|             0|     false|          false| 2022-08-18|\n",
            "|    cgtnamerica|     2369|   289855|     131645|   2012-06-27|    2022-08-18|           0|After nine days o...|[{'text': 'Russia...|      en|             0|     false|          false| 2022-08-18|\n",
            "|     botwotabot|        6|       13|       3193|   2020-09-17|    2022-08-18|           0|@soopajx @Nicole7...|[{'text': 'LockTr...|      en|             0|     false|          false| 2022-08-18|\n",
            "|         WtiOil|       27|    11011|       4024|   2015-10-04|    2022-08-18|           1|🛢 Today's Crude ...|[{'text': 'putin'...|      en|             6|     false|          false| 2022-08-18|\n",
            "+---------------+---------+---------+-----------+-------------+--------------+------------+--------------------+--------------------+--------+--------------+----------+---------------+-----------+\n",
            "only showing top 5 rows\n",
            "\n"
          ]
        }
      ]
    },
    {
      "cell_type": "code",
      "source": [
        "cleaned_df_count = cleaned_df.count()\n",
        "cleaned_df_count"
      ],
      "metadata": {
        "colab": {
          "base_uri": "https://localhost:8080/"
        },
        "id": "PsuQFKu47EEF",
        "outputId": "bf21e17f-2025-4892-f0c8-4b0f27db9658"
      },
      "execution_count": null,
      "outputs": [
        {
          "output_type": "execute_result",
          "data": {
            "text/plain": [
              "22451"
            ]
          },
          "metadata": {},
          "execution_count": 19
        }
      ]
    },
    {
      "cell_type": "code",
      "source": [
        "all_dates_arr = [\"0224\", \"0227\", \"0228p1\", \"0228p2\", \"0301\", \"0302\", \"0303\", \"0304\", \"0305\", \"0306\", \"0307\", \"0308\", \"0309\",\"0310\", \"0311\", \"0312\", \"0313\", \"0314\", \"0315\", \"0316\", \"0317\", \"0318\", \"0319\", \"0320\", \"0321\", \"0322\", \"0323\", \"0324\", \"0325\", \"0326\", \"0327\", \"0328\", \"0329\", \"0330\", \"0331\",\n",
        " \"0401\", \"0402\", \"0403\", \"0404\", \"0405\", \"0406\", \"0407\", \"0408\", \"0409\",\"0410\", \"0411\", \"0412\", \"0413\", \"0414\", \"0415\", \"0416\", \"0417\", \"0418\", \"0419\", \"0420\", \"0421\", \"0422\", \"0423\", \"0424\", \"0425\", \"0426\", \"0427\", \"0428\", \"0429\", \"0430\",\n",
        " \"0501\", \"0502\", \"0503\", \"0504\", \"0505\", \"0506\", \"0507\", \"0508\", \"0509\",\"0510\", \"0511\", \"0512\", \"0513\", \"0514\", \"0515\", \"0516\", \"0517\", \"0518\", \"0519\", \"0520\", \"0521\", \"0522\", \"0523\", \"0524\", \"0525\", \"0526\", \"0527\", \"0528\", \"0529\", \"0530\", \"0531\",\n",
        " \"0601\", \"0602\", \"0603\", \"0604\", \"0605\", \"0606\", \"0607\", \"0608\", \"0609\",\"0610\", \"0611\", \"0612\", \"0613\", \"0614\", \"0615\", \"0616\", \"0617\", \"0618\", \"0619\", \"0620\", \"0621\", \"0622\", \"0623\", \"0624\", \"0625\", \"0626\", \"0627\", \"0628\", \"0629\", \"0630\",\n",
        " \"0701\", \"0702\", \"0703\", \"0704\", \"0705\", \"0706\", \"0707\", \"0708\", \"0709\",\"0710\", \"0711\", \"0712\", \"0713\", \"0714\", \"0715\", \"0716\", \"0717\", \"0718\", \"0719\", \"0720\", \"0721\", \"0722\", \"0723\", \"0724\", \"0725\", \"0726\", \"0727\", \"0728\", \"0729\", \"0730\", \"0731\",\n",
        " \"0801\", \"0802\", \"0803\", \"0804\", \"0805\", \"0806\", \"0807\", \"0808\", \"0809\",\"0810\", \"0811\", \"0812\", \"0813\", \"0814\", \"0815\", \"0816\", \"0817\", \"0818\"]"
      ],
      "metadata": {
        "id": "DlFmNB2rcYTY"
      },
      "execution_count": 2,
      "outputs": []
    },
    {
      "cell_type": "code",
      "source": [
        "from pyspark import SparkFiles\n",
        "from pyspark.sql.functions import *\n",
        "\n",
        "url = \"https://databootcamps3bucket.s3.us-west-2.amazonaws.com/ua_war/UkraineWar\"\n",
        "\n",
        "for day in all_dates_arr:\n",
        "      #load the data from aws\n",
        "      aws_url = f\"{url}/{day}_UATweets.csv.gz\"\n",
        "      spark.sparkContext.addFile(aws_url)\n",
        "      temp_df = spark.read.option(\"delimiter\", \",\").option(\"encoding\", \"UTF-8\").option(\"multiLine\", True).option(\"escape\", '\"').csv(SparkFiles.get(f\"{day}_UATweets.csv.gz\"),  header=True, inferSchema=True)\n",
        "      \n",
        "      #keep count number of columns to determine which if else block it will hit\n",
        "      temp_count = len(temp_df.columns)\n",
        "\n",
        "      #change columns from string to year:month:day date format\n",
        "      temp_df = temp_df.withColumn(\"usercreatedts\",to_date(\"usercreatedts\"))\n",
        "      temp_df = temp_df.withColumn(\"tweetcreatedts\",to_date(\"tweetcreatedts\"))\n",
        "      temp_df = temp_df.withColumn(\"extractedts\",to_date(\"extractedts\"))\n",
        "\n",
        "      #filter out data for english only \n",
        "      temp_df = temp_df.filter(temp_df[\"language\"]==\"en\")\n",
        "      #filter out usercreated after 2009 \n",
        "      temp_df = temp_df.filter(temp_df[\"usercreatedts\"] >= \"2009-01-01\")\n",
        "\n",
        "      #fill in null values \n",
        "      temp_df_2 = temp_df.na.fill(\"<empty>\")\n",
        "\n",
        "      #some days the data columns has less columns then other days \n",
        "      if temp_count == 18:\n",
        "        temp_df_3 = temp_df_2.drop(\"userid\", \"_c0\", \"acctdesc\", \"location\", \"tweetid\", \"coordinates\")\n",
        "        temp_df_3 = temp_df_3.withColumn(\"is_retweet\", lit(None).cast('boolean')) \n",
        "        temp_df_3 = temp_df_3.withColumn(\"is_quote_status\", lit(None).cast('boolean')) \n",
        "\n",
        "      elif temp_count == 29:\n",
        "        temp_df_3 = temp_df_2.drop(\"userid\", \"_c0\", \"acctdesc\", \"location\", \"tweetid\", \"coordinates\", \"original_tweet_id\", \"original_tweet_userid\", \"original_tweet_username\", \"in_reply_to_status_id\", \"in_reply_to_screen_name\", 'in_reply_to_user_id', \"quoted_status_id\", \"quoted_status_username\", \"quoted_status_userid\")\n",
        "\n",
        "      else:\n",
        "        print(f\"Error on {day}_UATweets.csv.gz and column count {temp_count}\")\n",
        "\n",
        "      cleaned_df = cleaned_df.unionByName(temp_df_3)\n",
        "      print(cleaned_df.count())\n"
      ],
      "metadata": {
        "colab": {
          "base_uri": "https://localhost:8080/"
        },
        "id": "SCbblSe518Du",
        "outputId": "eede7230-abad-4662-98da-d8ffa7c95367"
      },
      "execution_count": null,
      "outputs": [
        {
          "output_type": "stream",
          "name": "stdout",
          "text": [
            "731199\n",
            "953482\n",
            "1201309\n",
            "1310535\n"
          ]
        }
      ]
    },
    {
      "cell_type": "code",
      "source": [
        "cleaned_df.show(5)"
      ],
      "metadata": {
        "colab": {
          "base_uri": "https://localhost:8080/"
        },
        "id": "2UqTcDqfO2mK",
        "outputId": "f7e71c6a-7901-4f06-a20e-697977753bbd"
      },
      "execution_count": null,
      "outputs": [
        {
          "output_type": "stream",
          "name": "stdout",
          "text": [
            "+---------------+---------+---------+-----------+-------------+--------------+------------+--------------------+--------------------+--------+--------------+----------+---------------+-----------+\n",
            "|       username|following|followers|totaltweets|usercreatedts|tweetcreatedts|retweetcount|                text|            hashtags|language|favorite_count|is_retweet|is_quote_status|extractedts|\n",
            "+---------------+---------+---------+-----------+-------------+--------------+------------+--------------------+--------------------+--------+--------------+----------+---------------+-----------+\n",
            "|DogandCatHelpe1|        5|       39|        685|   2021-02-02|    2022-08-18|           1|Welcome to our sh...|[{'text': 'Ukrain...|      en|             3|     false|          false| 2022-08-18|\n",
            "|        orfecon|       27|     3071|      15040|   2017-01-06|    2022-08-18|           0|Will the #sanctio...|[{'text': 'sancti...|      en|             0|     false|          false| 2022-08-18|\n",
            "|    cgtnamerica|     2369|   289855|     131645|   2012-06-27|    2022-08-18|           0|After nine days o...|[{'text': 'Russia...|      en|             0|     false|          false| 2022-08-18|\n",
            "|     botwotabot|        6|       13|       3193|   2020-09-17|    2022-08-18|           0|@soopajx @Nicole7...|[{'text': 'LockTr...|      en|             0|     false|          false| 2022-08-18|\n",
            "|         WtiOil|       27|    11011|       4024|   2015-10-04|    2022-08-18|           1|🛢 Today's Crude ...|[{'text': 'putin'...|      en|             6|     false|          false| 2022-08-18|\n",
            "+---------------+---------+---------+-----------+-------------+--------------+------------+--------------------+--------------------+--------+--------------+----------+---------------+-----------+\n",
            "only showing top 5 rows\n",
            "\n"
          ]
        }
      ]
    },
    {
      "cell_type": "code",
      "source": [
        "#add week column for \"tweetcreatedts\"\n",
        "cleaned_df = cleaned_df.withColumn(\"week\",weekofyear(\"tweetcreatedts\"))"
      ],
      "metadata": {
        "id": "G41nTWm_RY3v"
      },
      "execution_count": null,
      "outputs": []
    },
    {
      "cell_type": "code",
      "source": [
        "cleaned_df.show(5)"
      ],
      "metadata": {
        "colab": {
          "base_uri": "https://localhost:8080/"
        },
        "id": "dFfdUvDHTBPp",
        "outputId": "b77a3178-94b3-4879-bf6b-f66b1f495ef6"
      },
      "execution_count": null,
      "outputs": [
        {
          "output_type": "stream",
          "name": "stdout",
          "text": [
            "+---------------+---------+---------+-----------+-------------+--------------+------------+--------------------+--------------------+--------+--------------+----------+---------------+-----------+------------------+\n",
            "|       username|following|followers|totaltweets|usercreatedts|tweetcreatedts|retweetcount|                text|            hashtags|language|favorite_count|is_retweet|is_quote_status|extractedts|tweet_created_week|\n",
            "+---------------+---------+---------+-----------+-------------+--------------+------------+--------------------+--------------------+--------+--------------+----------+---------------+-----------+------------------+\n",
            "|DogandCatHelpe1|        5|       39|        685|   2021-02-02|    2022-08-18|           1|Welcome to our sh...|[{'text': 'Ukrain...|      en|             3|     false|          false| 2022-08-18|                33|\n",
            "|        orfecon|       27|     3071|      15040|   2017-01-06|    2022-08-18|           0|Will the #sanctio...|[{'text': 'sancti...|      en|             0|     false|          false| 2022-08-18|                33|\n",
            "|    cgtnamerica|     2369|   289855|     131645|   2012-06-27|    2022-08-18|           0|After nine days o...|[{'text': 'Russia...|      en|             0|     false|          false| 2022-08-18|                33|\n",
            "|     botwotabot|        6|       13|       3193|   2020-09-17|    2022-08-18|           0|@soopajx @Nicole7...|[{'text': 'LockTr...|      en|             0|     false|          false| 2022-08-18|                33|\n",
            "|         WtiOil|       27|    11011|       4024|   2015-10-04|    2022-08-18|           1|🛢 Today's Crude ...|[{'text': 'putin'...|      en|             6|     false|          false| 2022-08-18|                33|\n",
            "+---------------+---------+---------+-----------+-------------+--------------+------------+--------------------+--------------------+--------+--------------+----------+---------------+-----------+------------------+\n",
            "only showing top 5 rows\n",
            "\n"
          ]
        }
      ]
    },
    {
      "cell_type": "code",
      "source": [
        "cleaned_df.dtypes"
      ],
      "metadata": {
        "colab": {
          "base_uri": "https://localhost:8080/"
        },
        "id": "E5rDA3KzXf9y",
        "outputId": "8bba096e-be95-4e5e-9952-2e9db4794b2f"
      },
      "execution_count": null,
      "outputs": [
        {
          "output_type": "execute_result",
          "data": {
            "text/plain": [
              "[('username', 'string'),\n",
              " ('following', 'int'),\n",
              " ('followers', 'int'),\n",
              " ('totaltweets', 'int'),\n",
              " ('usercreatedts', 'date'),\n",
              " ('tweetcreatedts', 'date'),\n",
              " ('retweetcount', 'int'),\n",
              " ('text', 'string'),\n",
              " ('hashtags', 'string'),\n",
              " ('language', 'string'),\n",
              " ('favorite_count', 'int'),\n",
              " ('is_retweet', 'boolean'),\n",
              " ('is_quote_status', 'boolean'),\n",
              " ('extractedts', 'date'),\n",
              " ('tweet_created_week', 'int')]"
            ]
          },
          "metadata": {},
          "execution_count": 27
        }
      ]
    },
    {
      "cell_type": "markdown",
      "source": [
        "### Connect to the AWS RDS instance and write each DataFrame to its table. "
      ],
      "metadata": {
        "id": "XgqRwUf5Piiy"
      }
    },
    {
      "cell_type": "code",
      "source": [
        "# Store environmental variable\n",
        "from getpass import getpass\n",
        "password = getpass('Enter database password')\n",
        "# Configure settings for RDS\n",
        "mode = \"append\"\n",
        "jdbc_url=\"jdbc:postgresql://tweets.cnzbbvrrhst7.us-west-1.rds.amazonaws.com:5432/ua_data\"\n",
        "config = {\"user\":\"uatweets\", \n",
        "          \"password\": password, \n",
        "          \"driver\":\"org.postgresql.Driver\"}\n"
      ],
      "metadata": {
        "id": "UfJdnNYqPwYV",
        "colab": {
          "base_uri": "https://localhost:8080/"
        },
        "outputId": "8962cf8a-11de-4e44-a016-c7d87695137f"
      },
      "execution_count": null,
      "outputs": [
        {
          "name": "stdout",
          "output_type": "stream",
          "text": [
            "Enter database password··········\n"
          ]
        }
      ]
    },
    {
      "cell_type": "code",
      "source": [
        "# Write review_id_df to table in RDS\n",
        "cleaned_df.write.jdbc(url=jdbc_url, table='tweets_table', mode=mode, properties=config)"
      ],
      "metadata": {
        "id": "o4xuvfyFPwxS"
      },
      "execution_count": null,
      "outputs": []
    }
  ]
}